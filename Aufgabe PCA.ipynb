{
 "cells": [
  {
   "cell_type": "markdown",
   "id": "c1dd1e8a",
   "metadata": {},
   "source": [
    "## Aufgabe\n",
    "\n",
    "Führen Sie die PCA *auf Basis von Eigenvektoren* für das Beispiel Kalorien und Bewertung *in normierter Form* durch. Stellen Sie die einzelnen Schritte wie oben dar. Hilfe zum Vorgehen:\n",
    "\n",
    "1. Wie gewohnt die Daten einlesen, dann aber mit `preprocessing.scale` die Daten normieren.\n",
    "2. Die normierten Daten von *calories* und *rating* mit ihren Eigenvektoren darstellen.\n",
    "3. Mit einer `PCA` und `fit` prüfen, ob die Eigenvektoren aus 2 stimmen (und sich im Graphen nicht durch die Richtungen irritieren lassen :-)"
   ]
  },
  {
   "cell_type": "markdown",
   "id": "b6742503",
   "metadata": {},
   "source": [
    "# Abhängigkeiten"
   ]
  },
  {
   "cell_type": "code",
   "execution_count": null,
   "id": "be59f291",
   "metadata": {},
   "outputs": [
    {
     "ename": "",
     "evalue": "",
     "output_type": "error",
     "traceback": [
      "\u001b[1;31mDer Kernel konnte nicht gestartet werden. \n",
      "\u001b[1;31mKernel \".venv (Python 3.13.2)\" kann aufgrund eines Timeouts nicht gestartet werden, das darauf wartet, dass die Ports verwendet werden. \n",
      "\u001b[1;31mWeitere Details finden Sie in Jupyter <a href='command:jupyter.viewOutput'>log</a>."
     ]
    }
   ],
   "source": [
    "import pandas as pd\n",
    "from sklearn.decomposition import PCA\n",
    "from sklearn import preprocessing\n",
    "import numpy as np"
   ]
  },
  {
   "cell_type": "code",
   "execution_count": null,
   "id": "f795429f",
   "metadata": {},
   "outputs": [],
   "source": [
    "data = pd.read_csv('./Vorlesungsunterlagen/Daten/uebung_')\n",
    "data"
   ]
  }
 ],
 "metadata": {
  "kernelspec": {
   "display_name": ".venv",
   "language": "python",
   "name": "python3"
  },
  "language_info": {
   "name": "python",
   "version": "3.13.2"
  }
 },
 "nbformat": 4,
 "nbformat_minor": 5
}
