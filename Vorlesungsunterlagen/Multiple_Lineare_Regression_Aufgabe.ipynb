{
 "cells": [
  {
   "cell_type": "markdown",
   "id": "56a5fbd1-eacc-4ab9-a860-59a64b1b0e65",
   "metadata": {},
   "source": [
    "#### Business Analytics FHDW 2025\n",
    "## Übung\n",
    "\n",
    "1. Untersuchen Sie den Gebrauchtwagen-Datensatz auf redundante Variablen. Wenn Sie Variablen entfernen, versuchen Sie das sowohl aus dem Domänenkontext, als auch abstrakt anhand der Zahlen zu begründen.\n",
    "\n",
    "2. Führen Sie mit dem reduzierten Datensatz eine Regression zur Vorhersage des Preises durch. Vergleichen Sie die Performance Ihres reduzierten Modells mit der des Modells mit dem vollen Umfang."
   ]
  },
  {
   "cell_type": "code",
   "execution_count": null,
   "id": "d5e34a1f-bd17-4a4f-a8da-195903efa062",
   "metadata": {},
   "outputs": [],
   "source": [
    "import pandas as pd\n",
    "from sklearn.model_selection import train_test_split\n",
    "from sklearn.linear_model import LinearRegression\n",
    "from sklearn.metrics import mean_squared_error\n",
    "import matplotlib.pylab as plt\n",
    "import seaborn as sns\n",
    "import numpy as np\n",
    "import math\n",
    "\n",
    "def regressionSummary(y_true, y_predicted):\n",
    "    y_true = np.asarray(y_true)\n",
    "    y_predicted = np.asarray(y_predicted)\n",
    "    y_residuals = y_true - y_predicted\n",
    "    metrics = [\n",
    "        ('Summe Abweichungen', sum(y_residuals)),\n",
    "        ('Summe absolute Abweichungen', sum(abs(y_residuals))),\n",
    "        ('Mittlerer Fehler', sum(y_residuals) / len(y_residuals)),\n",
    "        ('Mittlerer absoluter Fehler', sum(abs(y_residuals)) / len(y_residuals)),\n",
    "        ('Wurzel des durchschnittlichen Fehlerquadrats', math.sqrt(mean_squared_error(y_true, y_predicted)))\n",
    "    ]\n",
    "    if all(yt != 0 for yt in y_true):\n",
    "        metrics.extend([\n",
    "            ('Mittlerer prozentualer Fehler', 100 * sum(y_residuals / y_true) / len(y_residuals)),\n",
    "            ('Mittlerer absoluter prozentualer Fehler', 100 * sum(abs(y_residuals / y_true) / len(y_residuals))),\n",
    "        ])\n",
    "    maxlength = max(len(m[0]) for m in metrics)\n",
    "    fmt1 = f'{{:>{maxlength}}} : {{:.4f}}'\n",
    "    print('\\nRegressionskennzahlen\\n')\n",
    "    for metric, value in metrics:\n",
    "        print(fmt1.format(metric, value))\n",
    "\n",
    "car_df = pd.read_csv('Daten/ToyotaCorolla.csv')\n",
    "car_df = car_df.iloc[0:1000]\n",
    "\n",
    "predictors = ['age_08_04', \n",
    "              'km', \n",
    "              'fuel_type', \n",
    "              'hp', \n",
    "              'met_color', \n",
    "              'automatic', \n",
    "              'cc', \n",
    "              'doors', \n",
    "              'quarterly_tax', \n",
    "              'weight']\n",
    "outcome = 'price'        \n",
    "\n",
    "X = pd.get_dummies(car_df[predictors], drop_first=True)\n",
    "y = car_df[outcome]\n",
    "\n",
    "X"
   ]
  },
  {
   "cell_type": "code",
   "execution_count": null,
   "id": "b731ee44-a6ca-4381-afab-97e3029b73dc",
   "metadata": {},
   "outputs": [],
   "source": [
    "fig, ax = plt.subplots()\n",
    "fig.set_size_inches(11, 7)\n",
    "sns.heatmap(X.corr(), annot=True, fmt=\".1f\", cmap=\"RdBu\", center=0, ax=ax)"
   ]
  },
  {
   "cell_type": "markdown",
   "id": "213618a5-9783-4317-a9ad-991adebfddcb",
   "metadata": {},
   "source": [
    "Die beiden Kraftstoffarten korrelieren sehr stark. Gleichzeitig sind beide stark abhängig von der Steuer und dem Gewicht. Nehmen wir die Kraftstoffarten also raus, da ihre Informationen hinreichend in Steuer und Gewicht enthalten sind."
   ]
  },
  {
   "cell_type": "code",
   "execution_count": null,
   "id": "b8787532-ed6a-4210-8fca-891cad870870",
   "metadata": {},
   "outputs": [],
   "source": [
    "#X_reduced = X[X.columns.difference([\"fuel_type_Diesel\", \"fuel_type_Petrol\", \"quarterly_tax\"])]\n",
    "print(X.columns.difference([\"fuel_type_Diesel\", \"fuel_type_Petrol\"]))\n",
    "X_reduced = X[X.columns.difference([\"fuel_type_Diesel\", \"fuel_type_Petrol\"])]\n",
    "X_reduced"
   ]
  },
  {
   "cell_type": "markdown",
   "id": "40192d3a-c31a-417c-a80e-c5cf43b8d4c9",
   "metadata": {},
   "source": [
    "Qualität der Anpassung an Trainingsdaten:"
   ]
  },
  {
   "cell_type": "code",
   "execution_count": null,
   "id": "f90f9616-03a6-4e07-9937-4766d1a9241a",
   "metadata": {},
   "outputs": [],
   "source": [
    "train_X_reduced, valid_X_reduced, train_y, valid_y = train_test_split(X_reduced, y, test_size=0.4, random_state=1)\n",
    "car_lr_reduced = LinearRegression()\n",
    "car_lr_reduced.fit(train_X_reduced, train_y)\n",
    "\n",
    "print(pd.DataFrame({'Prediktor': X_reduced.columns, 'Koeffizient': car_lr_reduced.coef_}))\n",
    "regressionSummary(train_y, car_lr_reduced.predict(train_X_reduced))"
   ]
  },
  {
   "cell_type": "markdown",
   "id": "5a0ed312-c85b-4a41-851d-5650deb2c1b0",
   "metadata": {},
   "source": [
    "Qualität der Vorhersage auf Basis des reduzierten Modells:"
   ]
  },
  {
   "cell_type": "code",
   "execution_count": null,
   "id": "759d7d3c-4b36-42d9-af50-07eaf6a360cb",
   "metadata": {},
   "outputs": [],
   "source": [
    "car_lr_reduced_prediction = car_lr_reduced.predict(valid_X_reduced)\n",
    "#print(car_lr_reduced_prediction)\n",
    "residuals = valid_y - car_lr_reduced_prediction\n",
    "result = pd.DataFrame({'Vorhersage': car_lr_reduced_prediction, 'Tatsächlich': valid_y, 'Residuum': residuals})\n",
    "print(result.head(20))\n",
    "regressionSummary(valid_y, car_lr_reduced_prediction)"
   ]
  }
 ],
 "metadata": {
  "kernelspec": {
   "display_name": "Python 3 (ipykernel)",
   "language": "python",
   "name": "python3"
  },
  "language_info": {
   "codemirror_mode": {
    "name": "ipython",
    "version": 3
   },
   "file_extension": ".py",
   "mimetype": "text/x-python",
   "name": "python",
   "nbconvert_exporter": "python",
   "pygments_lexer": "ipython3",
   "version": "3.12.3"
  }
 },
 "nbformat": 4,
 "nbformat_minor": 5
}
