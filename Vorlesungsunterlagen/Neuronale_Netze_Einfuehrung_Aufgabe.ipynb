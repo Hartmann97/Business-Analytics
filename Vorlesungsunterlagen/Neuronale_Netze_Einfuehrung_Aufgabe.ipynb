{
 "cells": [
  {
   "cell_type": "markdown",
   "id": "f36a248e-2cc7-4d16-a161-d32422b9e578",
   "metadata": {},
   "source": [
    "#### Business Analytics FHDW 2025\n",
    "\n",
    "## Aufgabe\n",
    "\n",
    "Implementieren Sie ein XOR-Gatter als KNN mit der *Functional API* von Keras. Trainieren Sie das Netz und überprüfen Sie die Gewichte.\n",
    "\n",
    "`training_bits = np.array([[0, 0], [0, 1], [1, 0], [1, 1]])`\n",
    "\n",
    "`target_bits = np.array([[0], [1], [1], [0]])`"
   ]
  },
  {
   "cell_type": "code",
   "execution_count": null,
   "id": "9c7b4892-4f15-4200-8bdf-8e84f840f190",
   "metadata": {},
   "outputs": [],
   "source": [
    "import numpy as np\n",
    "import pandas as pd\n",
    "import tensorflow as tf\n",
    "from tensorflow import keras\n",
    "from tensorflow.keras import layers\n",
    "from dmba import regressionSummary"
   ]
  },
  {
   "cell_type": "code",
   "execution_count": null,
   "id": "1749de12-f417-4118-8092-4bb3c4701181",
   "metadata": {},
   "outputs": [],
   "source": [
    "np.random.seed(1)\n",
    "\n",
    "training_bits = np.array([[0, 0], [0, 1], [1, 0], [1, 1]])\n",
    "target_bits = np.array([[0], [1], [1], [0]])\n",
    "\n",
    "inputs = keras.Input(shape=(2,), name='Input_2_Bits')\n",
    "x = layers.Dense(32, activation='tanh', name='Dense_Layer')(inputs)\n",
    "#x = layers.Dense(2, input_dim=2, activation='sigmoid', name='Dense_Layer')(inputs)\n",
    "outputs = layers.Dense(1, name='Output_1_Bit')(x)\n",
    "\n",
    "model = keras.Model(inputs=inputs, outputs=outputs, name=\"XOR_model\")\n",
    "model.summary()\n",
    "keras.utils.plot_model(model, show_shapes=True, dpi=80)"
   ]
  },
  {
   "cell_type": "code",
   "execution_count": null,
   "id": "b16565df-61a7-4506-b127-5a22705b30d3",
   "metadata": {},
   "outputs": [],
   "source": [
    "model.compile(loss='mean_squared_error',\n",
    "              optimizer='adam',\n",
    "              metrics=['accuracy'])\n",
    "model.fit(x=training_bits, y=target_bits, epochs=1000, verbose=0)\n",
    "print(model.predict(training_bits))"
   ]
  },
  {
   "cell_type": "code",
   "execution_count": null,
   "id": "53bf6fed-bc5b-42f0-9fb1-6d4027bc6d82",
   "metadata": {},
   "outputs": [],
   "source": [
    "test_scores = model.evaluate(training_bits, target_bits, verbose=2)\n",
    "print(\"Test loss:\", test_scores[0])\n",
    "print(\"Test accuracy:\", test_scores[1])"
   ]
  },
  {
   "cell_type": "code",
   "execution_count": null,
   "id": "4f997135-b3e8-4518-b197-7c21e64c0841",
   "metadata": {},
   "outputs": [],
   "source": [
    "model.save('./xor_model.keras') "
   ]
  }
 ],
 "metadata": {
  "kernelspec": {
   "display_name": "Python 3 (ipykernel)",
   "language": "python",
   "name": "python3"
  },
  "language_info": {
   "codemirror_mode": {
    "name": "ipython",
    "version": 3
   },
   "file_extension": ".py",
   "mimetype": "text/x-python",
   "name": "python",
   "nbconvert_exporter": "python",
   "pygments_lexer": "ipython3",
   "version": "3.12.3"
  }
 },
 "nbformat": 4,
 "nbformat_minor": 5
}
