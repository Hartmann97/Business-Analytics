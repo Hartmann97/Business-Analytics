{
 "cells": [
  {
   "cell_type": "markdown",
   "id": "1efea320-503d-4d48-9480-0749747d87d3",
   "metadata": {},
   "source": [
    "#### Business Analytics FHDW 2025\n",
    "## Aufgabe\n",
    "\n",
    "Lesen Sie aus der Datei *monthly-shampoo-sales.csv* die monatlichen Absatzzahlen eines Shampoos über drei Jahre.\n",
    "\n",
    "- Speichern Sie die Daten als Zeitreihe in einer `Series`.\n",
    "- Stellen Sie die Daten dar.\n",
    "- Welche Komponenten (Level, Trend, Saisonalität, Rauschen) sind hier erkennbar?"
   ]
  },
  {
   "cell_type": "code",
   "execution_count": null,
   "id": "1b143c64-0740-402c-89fe-eca15d0c9d3b",
   "metadata": {},
   "outputs": [],
   "source": [
    "import pandas as pd\n",
    "import numpy as np\n",
    "import matplotlib.pylab as plt\n",
    "import statsmodels.formula.api as sm\n",
    "from statsmodels.tsa import tsatools\n",
    "from dmba import regressionSummary\n",
    "\n",
    "sales_df = pd.read_csv('Daten/monthly-shampoo-sales.csv')\n",
    "print(sales_df)\n",
    "sales_df['Month'] = '200'+sales_df['Month']+'-01'\n",
    "sales_df"
   ]
  },
  {
   "cell_type": "code",
   "execution_count": null,
   "id": "44549b54-69c1-4da5-83c3-6ba67456add5",
   "metadata": {},
   "outputs": [],
   "source": [
    "sales_dates = pd.to_datetime(sales_df.Month, format='%Y-%m-%d')\n",
    "sales_dates"
   ]
  },
  {
   "cell_type": "code",
   "execution_count": null,
   "id": "528369e0-15ec-45a5-8068-9df36457356b",
   "metadata": {},
   "outputs": [],
   "source": [
    "sales_ts = pd.Series(sales_df.Sales.values, index=sales_dates, name='Sales')\n",
    "sales_ts.index = pd.DatetimeIndex(sales_ts.index, sales_ts.index.inferred_freq)\n",
    "sales_ts.index.freq"
   ]
  },
  {
   "cell_type": "code",
   "execution_count": null,
   "id": "b1d4ad49-1dee-462a-b54b-f789ea54e06b",
   "metadata": {},
   "outputs": [],
   "source": [
    "ax = sales_ts.plot()\n",
    "ax.set_xlabel('Zeit')\n",
    "ax.set_ylabel('Absatz')\n",
    "plt.show()"
   ]
  },
  {
   "cell_type": "code",
   "execution_count": null,
   "id": "ab37f8cc-bce6-49ae-98cc-344b7249e8ac",
   "metadata": {},
   "outputs": [],
   "source": [
    "fig, axes = plt.subplots(nrows=1, ncols=2, figsize=(15,5))\n",
    "sales_ts.resample('YE').agg([\"mean\"]).plot(xlabel=\"Zeit\", ax=axes[0])\n",
    "sales_ts.resample('YE').agg([\"sum\"]).plot(xlabel=\"Zeit\", ax=axes[1])\n",
    "plt.show()"
   ]
  },
  {
   "cell_type": "markdown",
   "id": "8a5b5e97-c265-4619-b177-f149e0da0c61",
   "metadata": {},
   "source": [
    "Vielleicht ein gewisses periodisches Verhalten, aber nicht richtig saisonal."
   ]
  },
  {
   "cell_type": "code",
   "execution_count": null,
   "id": "e2adb964-12ed-422d-b646-692cbfd42a58",
   "metadata": {},
   "outputs": [],
   "source": [
    "sales_ts['2001-07-01':'2001-12-01'].plot(figsize=(15,5))\n",
    "plt.show()\n",
    "sales_ts['2002-07-01':'2002-12-01'].plot(figsize=(15,5))\n",
    "plt.show()\n",
    "sales_ts['2003-07-01':'2003-12-01'].plot(figsize=(15,5))\n",
    "plt.show()"
   ]
  }
 ],
 "metadata": {
  "kernelspec": {
   "display_name": "Python 3 (ipykernel)",
   "language": "python",
   "name": "python3"
  },
  "language_info": {
   "codemirror_mode": {
    "name": "ipython",
    "version": 3
   },
   "file_extension": ".py",
   "mimetype": "text/x-python",
   "name": "python",
   "nbconvert_exporter": "python",
   "pygments_lexer": "ipython3",
   "version": "3.12.3"
  }
 },
 "nbformat": 4,
 "nbformat_minor": 5
}
