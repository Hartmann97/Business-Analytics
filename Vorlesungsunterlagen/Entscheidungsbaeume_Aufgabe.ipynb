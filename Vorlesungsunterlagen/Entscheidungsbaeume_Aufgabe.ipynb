{
 "cells": [
  {
   "cell_type": "markdown",
   "id": "f97b402f-53fe-4ba7-b769-49e31f339bbf",
   "metadata": {},
   "source": [
    "#### Business Analytics FHDW 2025\n",
    "\n",
    "## Aufgabe\n",
    "\n",
    "Wir betrachten noch einmal den Datensatz *FlightDelays.csv*.\n",
    "\n",
    "1. Interaktiv: Was sind hier sinnvolle Prädiktoren für die Verspätung von Flügen?\n",
    "\n",
    "2. Bereiten Sie den Datensatz für die Generierung von Entscheidungsbäumen vor: Wandeln Sie die erforderlichen Variablen in kategorische um, erzeugen Sie Dummy-Variablen und teilen Sie 60% Trainingsdaten und 40% Validierungsdaten auf.\n",
    "\n",
    "3. Generieren Sie einen Entscheidungsbaum mit einer maximalen Tiefe von 8 zur Vorhersage von Verspätungen und plotten Sie ihn. Lassen sich daraus einfache praktische Regeln für die Vorhersage von Verspätungen ableiten?\n",
    "\n",
    "4. Beurteilen Sie die Qualität der Vorhersage und vergleichen Sie diese mit den Ergebnissen der naiven Bayes-Klassifikation (Konfusionsmatrizen und Kreuzvalidierung). Verändern Sie die maximale Tiefe des Baums und beurteilen Sie die Auswirkungen auf die Prädiktionen (besser, schlechter)."
   ]
  },
  {
   "cell_type": "markdown",
   "id": "5f55ee9d-bb86-4881-9a0a-c2a90fb79990",
   "metadata": {},
   "source": [
    "## Zu 1\n",
    "\n",
    "*Day of month* ist für eine kategorische Variable zu granular und ist daher für eine Vorhersage nicht sehr hilfreich. *Departing time* bezieht sich, anders als die *CRS departing time* (*computerized reservation system*) unmittelbar auf eine Verspätung und gehört daher zu dem, was wir voraussagen wollen. *Flight date* bezieht sich auf einen bestimmten Zeitraum, dessen Eigenschaften nicht repräsentativ sein müssen. *Weather* bezieht sich als Ursache auch direkt auf eine Verspätung. Also berücksichtigen wir die nicht im Modell."
   ]
  },
  {
   "cell_type": "code",
   "execution_count": null,
   "id": "7ffad9da-7965-4cb6-be54-e36374b5ab50",
   "metadata": {},
   "outputs": [],
   "source": [
    "import pandas as pd\n",
    "import numpy as np\n",
    "from sklearn.tree import DecisionTreeClassifier\n",
    "from sklearn.model_selection import train_test_split, cross_val_score, GridSearchCV\n",
    "import matplotlib.pyplot as plt\n",
    "from dmba import plotDecisionTree, classificationSummary\n",
    "\n",
    "delays_df = pd.read_csv('./Daten/FlightDelays.csv')\n",
    "delays_df = delays_df.drop(columns = ['DAY_OF_MONTH', 'DEP_TIME', 'FL_DATE', 'Weather'])  \n",
    "delays_df"
   ]
  },
  {
   "cell_type": "markdown",
   "id": "4159f131-45ef-469f-99ed-ed3d47781a7d",
   "metadata": {},
   "source": [
    "## Zu 2"
   ]
  },
  {
   "cell_type": "code",
   "execution_count": null,
   "id": "1babea4e-f0a9-4722-8165-664f460be3e9",
   "metadata": {},
   "outputs": [],
   "source": [
    "delays_df.CARRIER = delays_df.DAY_WEEK.astype('category')\n",
    "delays_df.DAY_WEEK = delays_df.DAY_WEEK.astype('category')\n",
    "delays_df.DEST = delays_df.DEST.astype('category')\n",
    "delays_df.FL_NUM = delays_df.FL_NUM.astype('category')\n",
    "delays_df.ORIGIN = delays_df.ORIGIN.astype('category')\n",
    "delays_df.TAIL_NUM = delays_df.TAIL_NUM.astype('category')\n",
    "delays_df['Flight Status'] = delays_df['Flight Status'].astype('category')\n",
    "\n",
    "delays_df.CRS_DEP_TIME = [round(t/100) for t in delays_df.CRS_DEP_TIME]\n",
    "delays_df.CRS_DEP_TIME = delays_df.CRS_DEP_TIME.astype('category')\n",
    "\n",
    "X = pd.get_dummies(delays_df[delays_df.columns.difference(['Flight Status'])])\n",
    "y = delays_df['Flight Status']\n",
    "\n",
    "train_X, valid_X, train_y, valid_y = train_test_split(X, y, test_size=0.4, random_state=1)\n",
    "X"
   ]
  },
  {
   "cell_type": "markdown",
   "id": "30d5284b-8804-4f93-a908-51d4c720063a",
   "metadata": {},
   "source": [
    "## Zu 3"
   ]
  },
  {
   "cell_type": "code",
   "execution_count": null,
   "id": "ca5f951b-b5af-431f-bb41-87f0c5cf9601",
   "metadata": {},
   "outputs": [],
   "source": [
    "class_tree = DecisionTreeClassifier(random_state=1, max_depth=8)\n",
    "class_tree.fit(train_X, train_y)\n",
    "plotDecisionTree(class_tree, feature_names=train_X.columns,\n",
    "                 class_names=class_tree.classes_, rotate=True)"
   ]
  },
  {
   "cell_type": "markdown",
   "id": "255c81fb-c705-4954-a82e-16b38c6f510b",
   "metadata": {},
   "source": [
    "Es gibt laut der oberen Ebenen des Baums stärkere Einflüsse bestimmter Ziele, Flüge, Flieger (tail numbers) und Abflugzeiten."
   ]
  },
  {
   "cell_type": "markdown",
   "id": "4fcbaf31-49ca-444e-a655-baa5097dc11a",
   "metadata": {},
   "source": [
    "## Zu 4\n",
    "\n",
    "Parameter ändern unter 3, dann auswerten:"
   ]
  },
  {
   "cell_type": "code",
   "execution_count": null,
   "id": "641eee39-9612-45c9-a30e-a4cf76c6dd80",
   "metadata": {},
   "outputs": [],
   "source": [
    "classificationSummary(train_y, class_tree.predict(train_X))\n",
    "print()\n",
    "classificationSummary(valid_y, class_tree.predict(valid_X))\n",
    "print()\n",
    "scores = cross_val_score(class_tree, train_X, train_y, cv=5)\n",
    "print('Genauigkeit über jede Stichprobe: ', [f'{acc:.3f}' for acc in scores])"
   ]
  },
  {
   "cell_type": "markdown",
   "id": "089c6529-abcd-4548-b1c2-2b572a10b888",
   "metadata": {},
   "source": [
    "## Einsatz von Random Forests und Boosting"
   ]
  },
  {
   "cell_type": "code",
   "execution_count": null,
   "id": "a1ad29a6-80c1-41ad-b469-70ca2aa201e4",
   "metadata": {},
   "outputs": [],
   "source": [
    "from sklearn.ensemble import RandomForestClassifier, GradientBoostingClassifier\n",
    "\n",
    "random_forest = RandomForestClassifier(n_estimators=500, random_state=1)\n",
    "random_forest.fit(train_X, train_y)\n",
    "\n",
    "classificationSummary(valid_y, random_forest.predict(valid_X))"
   ]
  },
  {
   "cell_type": "code",
   "execution_count": null,
   "id": "e221e375-a045-4284-a14e-a21e9c7b4723",
   "metadata": {},
   "outputs": [],
   "source": [
    "boosted = GradientBoostingClassifier(n_estimators=1, random_state=1)\n",
    "boosted.fit(train_X, train_y)\n",
    "classificationSummary(valid_y, boosted.predict(valid_X))"
   ]
  },
  {
   "cell_type": "code",
   "execution_count": null,
   "id": "7cdd4b09-b6cf-4348-b83e-497227d6a307",
   "metadata": {},
   "outputs": [],
   "source": [
    "print(len(delays_df[(delays_df['Flight Status']=='delayed')]))\n",
    "print(len(delays_df[(delays_df['Flight Status']=='delayed')])/len(delays_df))\n",
    "print(len(delays_df[(delays_df['Flight Status']=='ontime')]))"
   ]
  }
 ],
 "metadata": {
  "kernelspec": {
   "display_name": "Python 3 (ipykernel)",
   "language": "python",
   "name": "python3"
  },
  "language_info": {
   "codemirror_mode": {
    "name": "ipython",
    "version": 3
   },
   "file_extension": ".py",
   "mimetype": "text/x-python",
   "name": "python",
   "nbconvert_exporter": "python",
   "pygments_lexer": "ipython3",
   "version": "3.12.3"
  }
 },
 "nbformat": 4,
 "nbformat_minor": 5
}
