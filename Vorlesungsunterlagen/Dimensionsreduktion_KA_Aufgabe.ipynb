{
 "cells": [
  {
   "cell_type": "markdown",
   "id": "b41a6cfb-0014-442d-9b56-41893c771374",
   "metadata": {},
   "source": [
    "#### Business Analytics FHDW 2024\n",
    "## Aufgabe\n",
    "\n",
    "Konstruieren Sie einen Datensatz aus fünf Variablen, von denen zwei nach unserem einfachen Korrelationskriterium redundant sind. *Randbedingungen*: Nutzen Sie Wertebereiche $[0, 10]$, einmal positive, einmal negative Korrelation, fünf Datenpunkte, arbeiten Sie mit Abweichungen. \n",
    "\n",
    "Zeigen Sie das Resultat mit einer Matrix."
   ]
  },
  {
   "cell_type": "code",
   "execution_count": null,
   "id": "d4df32cd-32c7-40c8-be29-e64a03cbca5f",
   "metadata": {},
   "outputs": [],
   "source": [
    "import pandas as pd\n",
    "import seaborn as sns\n",
    "import matplotlib.pyplot as plt\n",
    "\n",
    "konstruiertes_beispiel = pd.read_csv('./Daten/uebung_dr_ka.csv')\n",
    "corr = konstruiertes_beispiel.corr()\n",
    "print(konstruiertes_beispiel)\n",
    "print(corr)\n",
    "fig, ax = plt.subplots()\n",
    "fig.set_size_inches(11, 7)\n",
    "sns.heatmap(corr, annot=True, fmt=\".1f\", cmap=\"RdBu\", center=0, ax=ax)"
   ]
  }
 ],
 "metadata": {
  "kernelspec": {
   "display_name": "Python 3 (ipykernel)",
   "language": "python",
   "name": "python3"
  },
  "language_info": {
   "codemirror_mode": {
    "name": "ipython",
    "version": 3
   },
   "file_extension": ".py",
   "mimetype": "text/x-python",
   "name": "python",
   "nbconvert_exporter": "python",
   "pygments_lexer": "ipython3",
   "version": "3.12.3"
  }
 },
 "nbformat": 4,
 "nbformat_minor": 5
}
