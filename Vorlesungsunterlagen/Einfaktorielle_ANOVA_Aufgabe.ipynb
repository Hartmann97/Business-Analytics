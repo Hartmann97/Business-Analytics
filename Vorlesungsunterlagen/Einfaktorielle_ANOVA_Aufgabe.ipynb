{
 "cells": [
  {
   "cell_type": "markdown",
   "id": "6053d7ae-c8bd-4b10-89bd-5f5d714aa313",
   "metadata": {},
   "source": [
    "#### Business Analytics FHDW 2025\n",
    "## Aufgabe\n",
    "\n",
    "Betrachten Sie die Datei *groessen.csv*, die Stichproben der Körpergrößen von Sportlern verschiedener Disziplinen enthält. Führen Sie eine Varianzanalyse des Einflussfaktors *Sportart* inklusive einer ANOVA-Tabelle durch."
   ]
  },
  {
   "cell_type": "code",
   "execution_count": null,
   "id": "3772f699-4d01-4c49-a2ca-79f9c0707bdc",
   "metadata": {},
   "outputs": [],
   "source": [
    "import pandas as pd\n",
    "import numpy as np\n",
    "import matplotlib.pylab as plt\n",
    "import scipy.stats as sta\n",
    "\n",
    "groessen_df = pd.read_csv('Daten/groessen.csv')\n",
    "groessen_df"
   ]
  },
  {
   "cell_type": "code",
   "execution_count": null,
   "id": "15cbfb6f-8ae7-4fcc-888b-3c9700dd8cc6",
   "metadata": {},
   "outputs": [],
   "source": [
    "fig, ax = plt.subplots(figsize=(6, 7))\n",
    "ax.boxplot(groessen_df[[p for p in groessen_df.columns]])\n",
    "plt.xticks(ticks=[1,2,3], labels=groessen_df.columns)\n",
    "ax.set_ylabel('Größe')\n",
    "plt.show()"
   ]
  },
  {
   "cell_type": "code",
   "execution_count": null,
   "id": "6a6d6144-5751-4926-a776-e7b9f4929e58",
   "metadata": {},
   "outputs": [],
   "source": [
    "gesamtmittel = groessen_df.mean().sum()/len(groessen_df.mean())\n",
    "\n",
    "mittelwerte_df = pd.DataFrame(columns=['Gruppenmittelwert','Wahrer Effekt'], \n",
    "                              index=['Turnen','Fussball','Volleyball'])\n",
    "mittelwerte_df['Gruppenmittelwert'] = [groessen_df[p].mean() for p in groessen_df.columns]\n",
    "mittelwerte_df['Wahrer Effekt'] = [gruppenmittel-gesamtmittel for gruppenmittel in mittelwerte_df.Gruppenmittelwert]\n",
    "mittelwerte_df"
   ]
  },
  {
   "cell_type": "code",
   "execution_count": null,
   "id": "64a459b3-a416-4e02-a620-d7d35188babf",
   "metadata": {},
   "outputs": [],
   "source": [
    "abweichungsquadrate_df = pd.DataFrame(columns=['SSt','SSb','SSw'],\n",
    "                                      index=['Turnen','Fussball','Volleyball'])\n",
    "\n",
    "abweichungsquadrate_df['SSt'] = [np.sum((groessen_df[kategorie]-gesamtmittel)**2) for kategorie in abweichungsquadrate_df.index]\n",
    "abweichungsquadrate_df['SSb'] = [np.sum(len(groessen_df[kategorie])\n",
    "                                        *(mittelwerte_df['Gruppenmittelwert'][kategorie]-gesamtmittel)**2) \n",
    "                                 for kategorie in abweichungsquadrate_df.index]\n",
    "abweichungsquadrate_df['SSw'] = [np.sum((groessen_df[kategorie]-mittelwerte_df['Gruppenmittelwert'][kategorie])**2) \n",
    "                                 for kategorie in abweichungsquadrate_df.index]\n",
    "SSt = np.sum(abweichungsquadrate_df['SSt'])\n",
    "SSb = np.sum(abweichungsquadrate_df['SSb'])\n",
    "SSw = np.sum(abweichungsquadrate_df['SSw'])\n",
    "\n",
    "abweichungsquadrate_df.loc['Summe'] = [SSt, SSb, SSw]\n",
    "abweichungsquadrate_df"
   ]
  },
  {
   "cell_type": "code",
   "execution_count": null,
   "id": "62fcf658-14e2-497c-acbd-2a9d2e6ab241",
   "metadata": {},
   "outputs": [],
   "source": [
    "G = len(groessen_df.columns)\n",
    "N = len(groessen_df.index)\n",
    "df_ssb = G-1\n",
    "df_ssw = G*(N-1)\n",
    "MSb = SSb/df_ssb\n",
    "MSw = SSw/df_ssw\n",
    "F_emp = MSb/MSw\n",
    "\n",
    "anova_df = pd.DataFrame({'SS':[SSb,SSw,SSt],\n",
    "                         'df':[df_ssb,df_ssw,G*N-1],\n",
    "                         'MS':[MSb,MSw,SSt/(G*N-1)]},\n",
    "                        index=['Zwischen Faktorstufen','Innerhalb Faktorstufen','Gesamt'])\n",
    "anova_df.index.name = 'Varianzquelle'\n",
    "anova_df"
   ]
  },
  {
   "cell_type": "code",
   "execution_count": null,
   "id": "48ea4eed-ab66-4065-a3d4-d6d32a8dccbb",
   "metadata": {},
   "outputs": [],
   "source": [
    "eta_quadrat = SSb/SSt\n",
    "print(\"Eta-Quadrat = {:.2f}%, {:.2f}% bleiben unerklärt.\".format(eta_quadrat*100,(1-eta_quadrat)*100))"
   ]
  },
  {
   "cell_type": "code",
   "execution_count": null,
   "id": "7c77cd14-3578-4989-93a4-31f407dcc81d",
   "metadata": {},
   "outputs": [],
   "source": [
    "F_alpha = sta.f.ppf(0.95, dfn=df_ssb, dfd=df_ssw)\n",
    "print('F_emp = {:.2f}\\nF_alpha = {:.2f}'.format(F_emp, F_alpha))"
   ]
  },
  {
   "cell_type": "code",
   "execution_count": null,
   "id": "f5dcc3c8-4513-43e5-8ed5-e7d7966410fc",
   "metadata": {},
   "outputs": [],
   "source": [
    "p_value = (1 - sta.f.cdf(F_emp, dfn=df_ssb, dfd=df_ssw))\n",
    "p_value"
   ]
  },
  {
   "cell_type": "markdown",
   "id": "79116354-2b92-4751-b395-da48b19d699e",
   "metadata": {},
   "source": [
    "Damit gilt $F_{emp} > F_\\alpha$ und wir verwerfen hier die Nullhypothese: Wir können davon ausgehen, dass die Sportart einen signifikanten Einfluss auf die Körpergröße der Sportler hat.\n",
    "\n",
    "Das wird ebenso bestätigt durch den Wert $p<\\alpha$."
   ]
  }
 ],
 "metadata": {
  "kernelspec": {
   "display_name": "Python 3 (ipykernel)",
   "language": "python",
   "name": "python3"
  },
  "language_info": {
   "codemirror_mode": {
    "name": "ipython",
    "version": 3
   },
   "file_extension": ".py",
   "mimetype": "text/x-python",
   "name": "python",
   "nbconvert_exporter": "python",
   "pygments_lexer": "ipython3",
   "version": "3.12.3"
  }
 },
 "nbformat": 4,
 "nbformat_minor": 5
}
