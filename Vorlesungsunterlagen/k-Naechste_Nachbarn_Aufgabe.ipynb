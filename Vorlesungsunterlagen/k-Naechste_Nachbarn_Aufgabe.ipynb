{
 "cells": [
  {
   "cell_type": "markdown",
   "id": "f97b402f-53fe-4ba7-b769-49e31f339bbf",
   "metadata": {},
   "source": [
    "#### Business Analytics FHDW 2025\n",
    "## Aufgabe\n",
    "\n",
    "Wir betrachten den bekannten Datensatz *BostonHousing.csv* über Stadtgebiete (*tracts*) im Rahmen einer Volkszählung. Die Daten weisen ein ethisches Problem auf (Kategorie *b*, \"the proportion of blacks by town\", im Jahre 1978 offenbar ein akzeptiertes Kriterium, heute in der Literatur oft einfach ausgelassen), das wir an dieser Stelle nur technisch lösen können.\n",
    "\n",
    "Ermitteln Sie ein geeignetes k-NN-Vorhersagemodell für die Zielvariable *medv* (Medianwert von eigentümerbewohnten Häusern in $ 1.000):\n",
    "* Berücksichtigen Sie alle 12 Prädiktoren.\n",
    "* Prüfen Sie *k* von 1 bis 5. Was ist das beste *k*, was bedeutet der Wert?\n",
    "* Wir haben es nun mit einer numerischen Zielvariable zu tun, Sie benötigen also den `KNeighborsRegressor` und auch einen geeigneten Wert (statt `accuracy_score`) zur Beurteilung der *k*s.\n",
    "* Denken Sie an die Normierung der Daten.\n",
    "\n",
    "Sagen Sie mit dem besten *k* den Zielwert für den neuen Datenpunkt `{'crim': 0.2, 'zn': 0, 'indus':7, 'chas':0, 'nox':0.538, 'rm': 6, 'age':62, 'dis':4.7, 'rad':4, 'tax':307, 'ptratio':21, 'lstat':10}` voraus."
   ]
  },
  {
   "cell_type": "code",
   "execution_count": null,
   "id": "7ffad9da-7965-4cb6-be54-e36374b5ab50",
   "metadata": {},
   "outputs": [],
   "source": [
    "import pandas as pd\n",
    "from sklearn import preprocessing\n",
    "from sklearn.model_selection import train_test_split\n",
    "from sklearn.metrics import root_mean_squared_error\n",
    "from sklearn.neighbors import NearestNeighbors, KNeighborsRegressor\n",
    "\n",
    "housing_df = pd.read_csv('./Daten/BostonHousing.csv')\n",
    "del housing_df['b']\n",
    "housing_df"
   ]
  },
  {
   "cell_type": "code",
   "execution_count": null,
   "id": "0eef311c-431d-400a-ab4f-a5dd09fea9ce",
   "metadata": {},
   "outputs": [],
   "source": [
    "train_data, valid_data = train_test_split(housing_df, test_size=0.4, random_state=1)\n",
    "\n",
    "relevant_cols = housing_df.drop(columns=['medv']).columns\n",
    "print(relevant_cols)\n",
    "\n",
    "# Umbenennung nicht zwingend für das Ergebnis, aber üblich und sauberer im Vorgehen:\n",
    "relevant_cols_norm = ['z'+col for col in relevant_cols]\n",
    "print(relevant_cols_norm)\n",
    "\n",
    "scaler = preprocessing.StandardScaler()\n",
    "# Hier darauf achten, dass die Werte der Zielvariable nicht normiert werden:\n",
    "scaler.fit(train_data[relevant_cols])"
   ]
  },
  {
   "cell_type": "code",
   "execution_count": null,
   "id": "0c9841a2-3c1c-437d-ab10-f92ca0c2bcec",
   "metadata": {},
   "outputs": [],
   "source": [
    "housing_norm = pd.concat([pd.DataFrame(scaler.transform(housing_df[relevant_cols]),\n",
    "                                       columns=relevant_cols_norm),\n",
    "                          housing_df[['medv']]], axis=1)\n",
    "\n",
    "housing_norm"
   ]
  },
  {
   "cell_type": "code",
   "execution_count": null,
   "id": "398bd35c-728b-4be5-ae43-5b9c86e2403e",
   "metadata": {},
   "outputs": [],
   "source": [
    "train_norm = housing_norm.iloc[train_data.index]\n",
    "valid_norm = housing_norm.iloc[valid_data.index]\n",
    "\n",
    "train_X = train_norm[relevant_cols_norm]\n",
    "train_y = train_norm['medv']\n",
    "valid_X = valid_norm[relevant_cols_norm]\n",
    "valid_y = valid_norm['medv']\n",
    "results = []\n",
    "for k in range(1, 6):\n",
    "    knn = KNeighborsRegressor(n_neighbors=k).fit(train_X, train_y)\n",
    "    results.append({\n",
    "        'k': k,\n",
    "        'RMSE': root_mean_squared_error(valid_y, knn.predict(valid_X))\n",
    "    })\n",
    "    \n",
    "results = pd.DataFrame(results)\n",
    "results"
   ]
  },
  {
   "cell_type": "code",
   "execution_count": null,
   "id": "3db70ee9-7586-48e9-9ea6-00a5c9831640",
   "metadata": {},
   "outputs": [],
   "source": [
    "# k = 3 weist den niedrigsten Fehler auf, also machen wir damit weiter:\n",
    "knn = KNeighborsRegressor(n_neighbors=3).fit(housing_norm[relevant_cols_norm], housing_norm['medv'])\n",
    "# Den neuen Datenpunkt legen wir uns an:\n",
    "new_tract = pd.DataFrame([{'crim': 0.2, 'zn': 0, 'indus':7, 'chas':0, 'nox':0.538, 'rm': 6,\n",
    "                          'age':62, 'dis':4.7, 'rad':4, 'tax':307, 'ptratio':21, 'lstat':10}])\n",
    "# Auch den neuen Datenpunkt müssen wir normieren:\n",
    "new_tract_norm = pd.DataFrame(scaler.transform(new_tract), columns=relevant_cols_norm)\n",
    "\n",
    "# Ausführliches Ergebnis mit den drei Nachbarn: \n",
    "distances, indices = knn.kneighbors(new_tract_norm)\n",
    "print(new_tract_norm)\n",
    "print('Abstände der drei Nachbarn vom neuen Datenpunkt:', distances)\n",
    "\n",
    "# Und die eigentliche Vorhersage:\n",
    "print(knn.predict(new_tract_norm))\n",
    "train_norm.iloc[indices[0], :]"
   ]
  },
  {
   "cell_type": "markdown",
   "id": "cc1bf4e8-34f4-4fd3-ad4f-4de2bfce250c",
   "metadata": {},
   "source": [
    "Bedeutung des *k*: Aus den *medv*-Werten der *k* Nachbarn und den Distanzen errechnet sich ein Mittelwert als Prädiktion der Zielvariable."
   ]
  }
 ],
 "metadata": {
  "kernelspec": {
   "display_name": "Python 3 (ipykernel)",
   "language": "python",
   "name": "python3"
  },
  "language_info": {
   "codemirror_mode": {
    "name": "ipython",
    "version": 3
   },
   "file_extension": ".py",
   "mimetype": "text/x-python",
   "name": "python",
   "nbconvert_exporter": "python",
   "pygments_lexer": "ipython3",
   "version": "3.12.3"
  }
 },
 "nbformat": 4,
 "nbformat_minor": 5
}
