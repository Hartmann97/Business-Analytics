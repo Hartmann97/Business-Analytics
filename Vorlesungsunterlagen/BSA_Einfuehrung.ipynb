{
 "cells": [
  {
   "cell_type": "markdown",
   "id": "6a1f4d3a-985a-46a6-8c6f-a4329697e75c",
   "metadata": {},
   "source": [
    "#### Business Analytics FHDW 2024\n",
    "# Kurze Einführung in Python mit JupyterLab\n",
    "\n",
    "*JupyterLab* bietet uns eine interaktive Umgebung zur Arbeit mit Python und seinen diversen Bibliotheken für Statistik, Numerik, Datenanalyse, AI und ML.\n",
    "\n",
    "Seine übergeordnete Einheit ist ein *Notebook*, das aus *Zellen*/*Cells* besteht. Wenn wir darin etwas textuell beschreiben wollen, nutzen wir den Zellentyp *Markdown*, wollen wir Python, nutzen wir *Code*-Zellen. Beide Arten können wir durch *Strg*-*Return* ausführen (weitere Abkürzungen finden sich in den Menüs von Jupyter).\n",
    "\n",
    "*Achtung*: Python ist eine interpretierte Sprache. Ein Notebook speichert den jeweiligen Laufzeit-Zustand mit der Belegung von Variablen nach jedem Befehl. Das bedeutet insbesondere, dass wir beim mehrfachen Ausführen einer Code-Zelle, oder beim Vor- und Zurückspringen zwischen Zellen, auf die Änderungen dieses Zustands achten müssen. Insbesondere führt die Mehrfachnutzung von Variablen oft zu Verwirrung, wenn die Ausführung der Code-Zellen nicht streng von oben nach unten erfolgt. Das Stichwort ist hier *Idempotenz* - richten Sie Code in einem Notebook möglichst danach aus.\n",
    "\n",
    "Beispiel eines Zählers:"
   ]
  },
  {
   "cell_type": "code",
   "execution_count": null,
   "id": "ded9f6ea-ef90-4238-9f33-98e544d59e86",
   "metadata": {},
   "outputs": [],
   "source": [
    "i = 0"
   ]
  },
  {
   "cell_type": "code",
   "execution_count": null,
   "id": "8e3f83fc-0b24-456d-b0b2-ca63ac3efadc",
   "metadata": {},
   "outputs": [],
   "source": [
    "i += 1\n",
    "print(i)"
   ]
  },
  {
   "cell_type": "code",
   "execution_count": null,
   "id": "83a64e40-cea9-4fa5-bf79-85ac210d8a1d",
   "metadata": {},
   "outputs": [],
   "source": [
    "i += 1\n",
    "print(i)"
   ]
  },
  {
   "cell_type": "code",
   "execution_count": null,
   "id": "4f983fad-38f8-4c00-8b62-8073d0d03b09",
   "metadata": {},
   "outputs": [],
   "source": [
    "i = \"eins\"\n",
    "print(i)"
   ]
  },
  {
   "cell_type": "markdown",
   "id": "2ebba34f-29fb-4973-9bcc-56fed48afcd9",
   "metadata": {},
   "source": [
    "## Arrays, Mengen und Dictionaries\n",
    "\n",
    "Bei der Arbeit mit Daten nutzen wir meist leistungsfähige Datenstrukturen der Bibliotheken (s. u.). Mindestens als Hilfsmittel, z. B. als Parameter oder zur strukturierten Ablage von Ergebnissen, sind aber auch die Python-nativen Felder, Mengen und Wörterbücher nützlich. Alle davon sind hinsichtlich der darin speicherbaren Inhalte sehr flexibel und erlauben eine Vielzahl an zusätzlichen Operationen über die einfachen Zugriffe hinaus."
   ]
  },
  {
   "cell_type": "code",
   "execution_count": null,
   "id": "6ec91a01-83fc-49e2-9e66-a8f84f70272f",
   "metadata": {},
   "outputs": [],
   "source": [
    "drei = 3\n",
    "ein_feld = [\"eins\", 2, 2, drei]\n",
    "ein_feld"
   ]
  },
  {
   "cell_type": "code",
   "execution_count": null,
   "id": "a3cc3d38-cd7b-4252-8ec6-cf78810c89ec",
   "metadata": {},
   "outputs": [],
   "source": [
    "ein_feld[1]"
   ]
  },
  {
   "cell_type": "code",
   "execution_count": null,
   "id": "dbe34394-76c4-42da-87fb-eb7e943219b8",
   "metadata": {},
   "outputs": [],
   "source": [
    "eine_menge = {1, \"zwei\", drei, \"zwei\", 1}\n",
    "eine_menge"
   ]
  },
  {
   "cell_type": "code",
   "execution_count": null,
   "id": "714485b8-1f2b-4831-bdfc-ae70b44e3f8c",
   "metadata": {},
   "outputs": [],
   "source": [
    "ein_wörterbuch = {\"eintrag_1\": 1, \"eintrag_2\": \"zwei\", \"eintrag_3\": drei}\n",
    "ein_wörterbuch"
   ]
  },
  {
   "cell_type": "code",
   "execution_count": null,
   "id": "deaeecc4-2094-4098-8c36-efd7c8fe4ee4",
   "metadata": {},
   "outputs": [],
   "source": [
    "ein_wörterbuch[\"eintrag_2\"]"
   ]
  },
  {
   "cell_type": "markdown",
   "id": "cb8642af-6716-41b7-ae46-32c6f1321c4f",
   "metadata": {},
   "source": [
    "Außerdem lassen sich diese Strukturen ziemlich beliebig miteinander kombinieren."
   ]
  },
  {
   "cell_type": "code",
   "execution_count": null,
   "id": "8c8ead4f-0437-495e-b64b-d10f14c46a62",
   "metadata": {},
   "outputs": [],
   "source": [
    "ein_feld.append(ein_wörterbuch)\n",
    "ein_feld"
   ]
  },
  {
   "cell_type": "code",
   "execution_count": null,
   "id": "6cd81629-0857-4364-ba4e-4bdc2ca1a85c",
   "metadata": {},
   "outputs": [],
   "source": [
    "ein_feld[4][\"eintrag_1\"]"
   ]
  },
  {
   "cell_type": "markdown",
   "id": "e0d6d572-70bd-4303-8d99-8e68931a616f",
   "metadata": {},
   "source": [
    "## Einbinden von Bibliotheken\n",
    "\n",
    "Python selbst bringt nur grundlegende Kontrollstrukturen und Datentypen mit. Durch die Einbindung von Bibliotheken schaffen wir uns die erforderliche Funktionalität für eine spezifische Anwendung. \n",
    "\n",
    "Es ist üblich, dabei längere Namen für die weitere Nutzung abzukürzen:"
   ]
  },
  {
   "cell_type": "code",
   "execution_count": null,
   "id": "c5d20f38-0271-4cfd-b3b1-b682c36d88d3",
   "metadata": {},
   "outputs": [],
   "source": [
    "import pandas as pd\n",
    "import numpy as np"
   ]
  },
  {
   "cell_type": "markdown",
   "id": "520585a5-7fb0-4182-bf68-1836a39785bf",
   "metadata": {},
   "source": [
    "Im Folgenden können wir nun `pandas` durch `pd` abkürzen.\n",
    "\n",
    "Wenn wir nicht eine gesamte Bibliothek nutzen wollen, können wir selektiv einzelne Funktionen importieren:"
   ]
  },
  {
   "cell_type": "code",
   "execution_count": null,
   "id": "3fe99fb4-6684-4b3c-abea-096843d75127",
   "metadata": {},
   "outputs": [],
   "source": [
    "from sklearn.metrics import mean_squared_error"
   ]
  },
  {
   "cell_type": "markdown",
   "id": "d2e98c87-ae6b-47f5-b09b-768d39b400b0",
   "metadata": {},
   "source": [
    "## Kontrollstrukturen in Python\n",
    "\n",
    "Durch die Nutzung der Bibliotheken wird unsere Programmiertechnik ziemlich vereinfacht. Wir rufen Funktionen auf, weisen Werte zu, geben etwas aus. Für die Ablauflogik benötigen wir sporadisch Schleifen. Python bildet die bekannten *for*, *while*, *repeat* usw. auf `for` ab. Wir können über verschiedene Typen von Elementen iterieren (sie müssen eben nur *iterable* sein):"
   ]
  },
  {
   "cell_type": "code",
   "execution_count": null,
   "id": "e5d22bff-2158-4863-a7fc-74e3eb08c9e3",
   "metadata": {},
   "outputs": [],
   "source": [
    "for i in range(10):\n",
    "    print(f'Zähler {i}')\n",
    "\n",
    "print()\n",
    "\n",
    "iterable_elements = ['eins', 'zwei', 'drei', 'drei']\n",
    "for j in iterable_elements:\n",
    "    print(f'Zähler {j}')"
   ]
  },
  {
   "cell_type": "markdown",
   "id": "1308db6f-008e-429a-a6b0-3a661e8074f5",
   "metadata": {},
   "source": [
    "Hier sehen wir auch die - kontroverse - Weise, wie Python *Blöcke* kennzeichnet, nämlich durch *Einrückungen*.\n",
    "\n",
    "Wir können `for` auch innerhalb einer Folgen-, oder Mengenerzeugung nutzen:"
   ]
  },
  {
   "cell_type": "code",
   "execution_count": null,
   "id": "443a226a-123a-4163-ba90-67bf6a6afb4a",
   "metadata": {},
   "outputs": [],
   "source": [
    "folge = ['element_'+j for j in iterable_elements]\n",
    "print(folge)\n",
    "menge = {'element_'+j for j in iterable_elements}\n",
    "print(menge)"
   ]
  },
  {
   "cell_type": "markdown",
   "id": "5e2492c1-2666-4391-81d3-30db076e167e",
   "metadata": {},
   "source": [
    "## Funktionen in Python\n",
    "\n",
    "Funktionen können in Python als *Typen erster Ordnung* behandelt werden, d. h. wir können Funktionsobjekte als Parameter nutzen. Insbesondere ist es möglich, anonyme Funktionen als `lambda` zu deklarieren."
   ]
  },
  {
   "cell_type": "code",
   "execution_count": null,
   "id": "6dd86f57-4cad-4c6a-bf31-2473d5006767",
   "metadata": {},
   "outputs": [],
   "source": [
    "def generate_function(y):\n",
    "    return lambda x: x**y\n",
    "\n",
    "print(generate_function(3)(2))\n",
    "\n",
    "some_function = generate_function(3)\n",
    "print(some_function(2))"
   ]
  },
  {
   "cell_type": "markdown",
   "id": "c9dfa518-aba3-45bb-8b82-ecc6aacf974d",
   "metadata": {},
   "source": [
    "## Arbeiten mit Daten\n",
    "\n",
    "### DataFrame\n",
    "\n",
    "Eine praktische Datenstruktur, mit der wir in fast allen Beispielen arbeiten, ist der `DataFrame` von *pandas*. Den können wir selbst anlegen, oder aus einer Datei erzeugen. Sehr etabliert ist das Dateiformat *comma separated values*, mit der Endung `.csv`. Die *pandas*-Funktion `read_csv` liest eine solche Datei ein und liefert uns ein passend strukturiertes `DataFrame`-Objekt zurück. \n",
    "\n",
    "Wenn wir eine Code-Zelle mit einer Variable beenden, gibt Jupyter diese - auch ohne `print` - formatiert aus, wenn ein passendes Schema dafür existiert. Wenn Sie in einer Zelle mehrere Objekte ausgeben bzw. eine einheitliche Darstellung mehrerer Ausgaben hintereinander möchten, müssen Sie `print`nutzen."
   ]
  },
  {
   "cell_type": "code",
   "execution_count": null,
   "id": "261a15d0-d1c5-42f6-baef-c479e5555120",
   "metadata": {},
   "outputs": [],
   "source": [
    "example_df = pd.read_csv('Daten/TinyData.csv')\n",
    "print(example_df)\n",
    "example_df"
   ]
  },
  {
   "cell_type": "markdown",
   "id": "7fe48544-981a-4d46-8702-8c3084871127",
   "metadata": {},
   "source": [
    "Neben den Inhalten können wir auf die Strukturen eines Dataframe zugreifen. Das geht auch *schreibend*, z. B. um die Spalten umzubenennen, oder eine bestimmte Spalte als Index zu definieren."
   ]
  },
  {
   "cell_type": "code",
   "execution_count": null,
   "id": "0eeeac46-606f-43b6-b705-89c5515cc9e4",
   "metadata": {},
   "outputs": [],
   "source": [
    "print(example_df.columns)\n",
    "print(example_df.index)\n",
    "print(example_df.shape)"
   ]
  },
  {
   "cell_type": "markdown",
   "id": "23e290a1-1fa6-4f49-9688-e2a011f880b3",
   "metadata": {},
   "source": [
    "Einen Dataframe können wir erweitern:"
   ]
  },
  {
   "cell_type": "code",
   "execution_count": null,
   "id": "5389b8a8-8b4d-4d41-b398-3dc49169b6e9",
   "metadata": {},
   "outputs": [],
   "source": [
    "foodstuff = ['food 1', 'food 2', 'food 3', 'food 4', 'food 5', 'food 6']\n",
    "\n",
    "# df[spaltenname], wenn Spalte noch nicht existiert:\n",
    "example_df['foodstuff'] = foodstuff \n",
    "\n",
    "print(example_df)\n",
    "# df.spaltenname, wenn Spalte existiert:\n",
    "example_df.index = example_df.foodstuff \n",
    "\n",
    "del example_df['foodstuff'] # Danach steht 'foodstuff' nur noch im Attribut name des Index.\n",
    "\n",
    "print(example_df.index)\n",
    "print(example_df.index.name)\n",
    "example_df"
   ]
  },
  {
   "cell_type": "markdown",
   "id": "33a141d6-91dd-4436-b973-d3e9765e6b60",
   "metadata": {},
   "source": [
    "Auf komplette Spalten können wir dann mit ihrem Namen zugreifen. Auf Zeilen können wir entweder durch `loc` mit ihrem jeweiligen Index-Wert zugreifen, oder durch `iloc` mit einen Integer-Wert (startet bei 0, exklusive der oberen Grenze, wenn eine angegeben ist). Die Zugriffsarten lassen sich kombinieren."
   ]
  },
  {
   "cell_type": "code",
   "execution_count": null,
   "id": "3ff0710d-fffc-4957-82b9-f3e7358dc746",
   "metadata": {},
   "outputs": [],
   "source": [
    "print(example_df.salt)\n",
    "print()\n",
    "print(example_df.salt.iloc[2]) # Künftige Änderung hier schon drin; einfacher Index deprecated.\n",
    "print()\n",
    "print(example_df.loc['food 4':'food 6'])\n",
    "print()\n",
    "print(example_df.iloc[1:4])\n",
    "print()\n",
    "print(example_df.iloc[1][0:2])"
   ]
  },
  {
   "cell_type": "markdown",
   "id": "698be86e-7484-49b4-8af4-755f4c0d578e",
   "metadata": {},
   "source": [
    "Für die Auswahl der Spaltenwerte können wir Kriterien angeben, ähnlich wie bei Datenbankabfragen:"
   ]
  },
  {
   "cell_type": "code",
   "execution_count": null,
   "id": "7379b13a-393b-405e-bc20-4549779696f8",
   "metadata": {},
   "outputs": [],
   "source": [
    "example_df[(example_df.salt >= 0.5) & (example_df.fat <= 0.3)]"
   ]
  },
  {
   "cell_type": "markdown",
   "id": "407055ec-7d44-4acc-99ce-4e3ba0159177",
   "metadata": {},
   "source": [
    "Legen wir einen Dataframe selbst an. Auch das Befüllen kann unterschiedliche Formen annehmen:"
   ]
  },
  {
   "cell_type": "code",
   "execution_count": null,
   "id": "0996d9fc-71d9-409c-8ab2-b58c02d5126f",
   "metadata": {},
   "outputs": [],
   "source": [
    "extension_df = pd.DataFrame(columns=['foodstuff', 'fat', 'salt', 'acceptance'])\n",
    "extension_df.index = extension_df.foodstuff\n",
    "del extension_df['foodstuff']\n",
    "extension_df.loc['food 7'] = {'fat':0.5, 'salt':0.5, 'acceptance':'like'}\n",
    "extension_df.loc['food 8'] = {'fat':0.2, 'salt':0.1, 'acceptance':'dislike'}\n",
    "extension_df"
   ]
  },
  {
   "cell_type": "markdown",
   "id": "2e6f3a08-092c-4431-8a2b-70d6fd0563b8",
   "metadata": {},
   "source": [
    "Zwei Dataframes können wir mit `concat` verbinden. Der Parameter `axis` definiert dabei die Dimension der Verbindung mit 0 = *Zeilen*, 1 = *Spalten*."
   ]
  },
  {
   "cell_type": "code",
   "execution_count": null,
   "id": "a6f31f0f-3471-4d97-a44d-785fc43af820",
   "metadata": {},
   "outputs": [],
   "source": [
    "concatenated_df = pd.concat([example_df, extension_df], axis=0)\n",
    "print(concatenated_df.index)\n",
    "concatenated_df"
   ]
  },
  {
   "cell_type": "markdown",
   "id": "a2cf5b7b-5b8a-4481-9e26-cf1e9d729f9d",
   "metadata": {},
   "source": [
    "Es gibt diverse Funktionen, um die Abfrage von Dataframes zu vereinfachen. Mit `difference` auf `columns` schließen wir z. B. Spalten aus. "
   ]
  },
  {
   "cell_type": "code",
   "execution_count": null,
   "id": "05b227ba-0df1-45d5-a29c-17a3ce7992ca",
   "metadata": {},
   "outputs": [],
   "source": [
    "print(concatenated_df.columns.difference(['acceptance']))\n",
    "concatenated_df[concatenated_df.columns.difference(['acceptance'])]"
   ]
  },
  {
   "cell_type": "markdown",
   "id": "bdcddac4-23f4-4156-9b8f-28a999b5e4d2",
   "metadata": {},
   "source": [
    "Oder wir lassen die Spalten explizit rausfallen:"
   ]
  },
  {
   "cell_type": "code",
   "execution_count": null,
   "id": "b77ed6b2-c2c3-463a-8020-288c20a7238e",
   "metadata": {},
   "outputs": [],
   "source": [
    "concatenated_df.drop(columns=['fat', 'salt'])"
   ]
  },
  {
   "cell_type": "markdown",
   "id": "efa695cf-69d1-44d8-bcff-56aac067406c",
   "metadata": {},
   "source": [
    "*numpy*'s `where` liefert die Indizes von Elementen, die einer Bedingung genügen. Zusätzlich können wir *if/else*-Werte angeben, die dann je nach Wahrheitswert der Bedingung am jeweiligen Index als Wert gesetzt werden. "
   ]
  },
  {
   "cell_type": "code",
   "execution_count": null,
   "id": "d7af14e3-b7e2-4635-a5ca-df9ba79dfae3",
   "metadata": {},
   "outputs": [],
   "source": [
    "print(np.where(concatenated_df[\"acceptance\"]=='like'))\n",
    "print(np.where(concatenated_df[\"acceptance\"]=='like','green','red'))"
   ]
  },
  {
   "cell_type": "markdown",
   "id": "5774642e-1e0d-47bd-a5ba-ee80b150717d",
   "metadata": {},
   "source": [
    "Aus der beschreibenden Statistik gibt es eine Reihe von Kennzahlen, die von Python oder Dataframe direkt implementiert werden:"
   ]
  },
  {
   "cell_type": "code",
   "execution_count": null,
   "id": "28ac89e6-ed5b-4b58-a386-971bfb2bb107",
   "metadata": {},
   "outputs": [],
   "source": [
    "print(f'Anzahl der Elemente im Datensatz: {len(concatenated_df)}')\n",
    "print(f'Summe der Werte der Spalte {concatenated_df.fat.name}: {sum(concatenated_df.fat)}')\n",
    "print(f'Mittelwert der Spalte {concatenated_df.salt.name}: {concatenated_df.salt.mean():.2f}')\n",
    "print(f'Sammlung diverser Kennzahlen des Datensatzes insgesamt:')\n",
    "print(concatenated_df.describe())"
   ]
  },
  {
   "cell_type": "markdown",
   "id": "29328566-19d3-4a4a-993e-6933096ab142",
   "metadata": {},
   "source": [
    "Oft können wir uns über grafische Darstellungen der Daten, oder Untermengen davon, einen schnellen Eindruck über deren Eigenschaften verschaffen. Es gibt unzählige Arten von Diagrammen und ebenso unzählige Bibliotheken dazu. Einfache Beispiele sind *Scatterplot* und *Histogram*, die sich direkt als Funktionen der Dataframes aufrufen lassen."
   ]
  },
  {
   "cell_type": "code",
   "execution_count": null,
   "id": "81dee8c0-af3f-4622-9f62-dd83ceb5b697",
   "metadata": {},
   "outputs": [],
   "source": [
    "scatter = concatenated_df.plot.scatter(x='fat',y='salt')"
   ]
  },
  {
   "cell_type": "code",
   "execution_count": null,
   "id": "9e91363c-0ce9-40e4-be8f-83d32fe432dc",
   "metadata": {},
   "outputs": [],
   "source": [
    "histograms = concatenated_df.hist()"
   ]
  },
  {
   "cell_type": "markdown",
   "id": "5a1ac74b-a449-4b23-9100-42e6abb609c6",
   "metadata": {},
   "source": [
    "## Aufgabe\n",
    "\n",
    "\n"
   ]
  },
  {
   "cell_type": "markdown",
   "id": "48bb62eb-4d93-4492-85c6-4a36bd9f3b11",
   "metadata": {},
   "source": [
    "Lesen Sie den Datensatz *UniversalBank.csv* in ein Dataframe.\n",
    "\n",
    "1. Löschen Sie die Spalte *ZIP Code*.\n",
    "2. Ziehen Sie aus dem Datensatz zwei zufällige Stichproben der Größen 1000. Nutzen Sie dazu einmal die Dataframe-Funktion `sample` und einmal einen zufälligen Index mit `np.random.choice`\n",
    "3. Vergleichen Sie die Eigenschaften des Gesamtdatensatzes und der beiden Stichproben bezogen auf die Variable `Age`.\n"
   ]
  }
 ],
 "metadata": {
  "kernelspec": {
   "display_name": "Python [conda env:base] *",
   "language": "python",
   "name": "conda-base-py"
  },
  "language_info": {
   "codemirror_mode": {
    "name": "ipython",
    "version": 3
   },
   "file_extension": ".py",
   "mimetype": "text/x-python",
   "name": "python",
   "nbconvert_exporter": "python",
   "pygments_lexer": "ipython3",
   "version": "3.12.7"
  }
 },
 "nbformat": 4,
 "nbformat_minor": 5
}
