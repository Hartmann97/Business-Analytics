{
 "cells": [
  {
   "cell_type": "markdown",
   "id": "ddc8b17e-6fa3-493d-869e-3b22b0c2df7d",
   "metadata": {},
   "source": [
    "#### Business Analytics FHDW 2025\n",
    "## Aufgabe\n",
    "\n",
    "Eine Personalberatung untersucht die Einflüsse der Erfahrung und Ausbildung von Systemadmins auf deren Fähigkeit, bestimmte Aufgaben in begrenzter Zeit zu lösen. Die Daten von 75 Admins finden sich in `SystemAdministrators.csv`: Die Variable *Experience* zeigt die Vollzeitbeschäftigung als Admin in Monaten, *Training* erworbene, fachlich relevante Credit Points, die Zielvariable *Completed task* zeigt, ob die Aufgaben in der verfügbaren Zeit gelöst wurden.\n",
    "\n",
    "1. Generieren Sie einen Scatterplot, der (z. B. farblich) illustriert, wer die Aufgaben gelöst hat und wer nicht. Welcher Prädiktor ist potentiell verwendbar für eine Vorhersage der erfolgreichen Aufgabenlösung?\n",
    "\n",
    "2. Implementieren Sie ein logistisches Regressionsmodell mit beiden Prädiktoren, das den gesamten Datensatz für das Training nutzt. Was ist der Prozentsatz der erfolgreichen Admins, die fälschlich als gescheitert eingeordnet werden, wenn Sie die Trainingsdaten auch für die Vorhersage verwenden?\n",
    "\n",
    "3. Sollten Sie den *cutoff* höher oder niedriger setzen, um den Prozentsatz aus 2 zu senken?\n",
    "\n",
    "4. Wie viele Monate Erfahrung muss ein Admin mit 4 Credits besitzen, damit die Erfolgswahrscheinlichkeit für die zeitige Aufgabenlösung 0.5 erreicht?"
   ]
  },
  {
   "cell_type": "markdown",
   "id": "7c0cdd5a-0e1f-4c53-99c4-529949e968ae",
   "metadata": {},
   "source": [
    "### Zu 1:"
   ]
  },
  {
   "cell_type": "code",
   "execution_count": null,
   "id": "41eca34f-6f41-4040-9380-149c0a1fc453",
   "metadata": {},
   "outputs": [],
   "source": [
    "import pandas as pd\n",
    "import numpy as np\n",
    "from sklearn.linear_model import LogisticRegression\n",
    "from sklearn.model_selection import train_test_split\n",
    "from sklearn.metrics import accuracy_score\n",
    "import matplotlib.pylab as plt\n",
    "from dmba import classificationSummary\n",
    "\n",
    "admins_df = pd.read_csv('./Daten/SystemAdministrators.csv')\n",
    "admins_df"
   ]
  },
  {
   "cell_type": "code",
   "execution_count": null,
   "id": "f11cff41-706b-4848-af31-1fc68625179e",
   "metadata": {},
   "outputs": [],
   "source": [
    "colors = np.where(admins_df[\"Completed task\"]=='Yes','g','r')\n",
    "print(colors)\n",
    "splot = admins_df.plot.scatter(x='Experience',y='Training', c=colors)"
   ]
  },
  {
   "cell_type": "markdown",
   "id": "d817a1f1-e23d-42f9-9b32-3b235c659d7b",
   "metadata": {},
   "source": [
    "Mit steigender Ausbildung steigt der Anteil der erfolgreichen Admins, mit steigender Erfahrung ebenso. Auf einen ersten Blick könnten also beide Variablen als Prädiktoren für den Erfolg dienen."
   ]
  },
  {
   "cell_type": "markdown",
   "id": "b3259d22-4c76-4fb2-87a3-05379e49d21d",
   "metadata": {},
   "source": [
    "### Zu 2:\n",
    "\n",
    "Zunächst wandeln wir die kategorische Variable in einen numerischen Dummy um."
   ]
  },
  {
   "cell_type": "code",
   "execution_count": null,
   "id": "124b8622-898e-435a-a8f6-477803e8d9f1",
   "metadata": {},
   "outputs": [],
   "source": [
    "admins_df = pd.get_dummies(admins_df, drop_first=True)\n",
    "admins_df"
   ]
  },
  {
   "cell_type": "code",
   "execution_count": null,
   "id": "4c34ec91-0094-4ad0-b847-9ae42ac99328",
   "metadata": {},
   "outputs": [],
   "source": [
    "y = admins_df['Completed task_Yes']\n",
    "X = admins_df[['Experience', 'Training']] # oder drop(columns=...\n",
    "log_reg = LogisticRegression()\n",
    "log_reg.fit(X, y)\n",
    "              \n",
    "log_reg_predictions = log_reg.predict(X)\n",
    "\n",
    "classificationSummary(y, log_reg_predictions)"
   ]
  },
  {
   "cell_type": "markdown",
   "id": "27e51074-9917-449a-96e3-488716d709a3",
   "metadata": {},
   "source": [
    "Insgesamt haben 15 Admins die Aufgaben zeitgerecht bewältigt. Ein Drittel davon (5/15) sind aber fälschlich als erfolglos klassifiziert worden."
   ]
  },
  {
   "cell_type": "markdown",
   "id": "9b745754-6903-41b6-910f-a5ef15e6d0c4",
   "metadata": {},
   "source": [
    "### Zu 3:\n",
    "\n",
    "Wir implementieren die Vorhersage mit expliziten Schwellwerten:"
   ]
  },
  {
   "cell_type": "code",
   "execution_count": null,
   "id": "75924f7f-e8d9-4ff5-b78d-d70af084c314",
   "metadata": {},
   "outputs": [],
   "source": [
    "predictions = np.where(log_reg.predict_proba(X) >= 0.5, 1, 0)[:,1]\n",
    "classificationSummary(y, predictions)"
   ]
  },
  {
   "cell_type": "code",
   "execution_count": null,
   "id": "c64bf822-5543-47ef-b64e-19b1a8bdbae7",
   "metadata": {},
   "outputs": [],
   "source": [
    "predictions = np.where(log_reg.predict_proba(X) >= 0.3, 1, 0)[:,1]\n",
    "classificationSummary(y, predictions)"
   ]
  },
  {
   "cell_type": "markdown",
   "id": "2bcf03ae-faa4-425b-a094-d372b3f37dc4",
   "metadata": {},
   "source": [
    "Senken wir den *cutoff*-Wert, werden bei gleich bleibender Gesamtgenauigkeit weniger erfolgreiche Admins falsch eingeordnet."
   ]
  },
  {
   "cell_type": "markdown",
   "id": "0befa8b5-9128-4552-8f22-ed38d9e973bf",
   "metadata": {},
   "source": [
    "### Zu 4:\n",
    "\n",
    "Es gibt verschiedene Möglichkeiten, die notwendige Erfahrung zu ermitteln.\n",
    "\n",
    "Um einen Untersuchungsbereich zu definieren, ermitteln wir die obere Grenze der Erfahrung:"
   ]
  },
  {
   "cell_type": "code",
   "execution_count": null,
   "id": "8d69949b-720f-4cfe-b1aa-21c1493850fc",
   "metadata": {},
   "outputs": [],
   "source": [
    "print(max(admins_df.Experience))"
   ]
  },
  {
   "cell_type": "markdown",
   "id": "40a9276e-39e5-4066-a741-18ef3984e593",
   "metadata": {},
   "source": [
    "Dann können wir eine erste Näherung für den gesuchten Wert bestimmen:"
   ]
  },
  {
   "cell_type": "code",
   "execution_count": null,
   "id": "3150732d-87b8-4400-9474-17f6b46d306f",
   "metadata": {},
   "outputs": [],
   "source": [
    "experience = np.arange(0, 14, .01) # Aufgerundete obere Grenze von eben.\n",
    "test_df = pd.DataFrame({'Experience': experience, 'Training': 4})\n",
    "print(test_df)\n",
    "# Nun lassen wir uns den ersten Wert ausgeben, der die geforderte Wahrscheinlichkeit erreicht:\n",
    "required_experience = experience[np.where(log_reg.predict_proba(test_df)[:,1]>=0.5)[0][0]]\n",
    "print(required_experience)"
   ]
  },
  {
   "cell_type": "markdown",
   "id": "b8066725-cb25-409e-97bd-1786e8c5b4a6",
   "metadata": {},
   "source": [
    "Alternativ können wir auch mit den Formeln arbeiten. Die können wir uns aus den Parametern konstruieren."
   ]
  },
  {
   "cell_type": "code",
   "execution_count": null,
   "id": "252bcba6-4e1c-4358-a798-85ee1cbd5550",
   "metadata": {},
   "outputs": [],
   "source": [
    "coefficients = pd.DataFrame({'coeff': log_reg.coef_[0]}, index=X.columns)\n",
    "print(log_reg.coef_)\n",
    "print(coefficients.transpose())"
   ]
  },
  {
   "cell_type": "code",
   "execution_count": null,
   "id": "fbccc4bb-a6a6-4e29-a457-07eba1476a5c",
   "metadata": {},
   "outputs": [],
   "source": [
    "intercept = log_reg.intercept_[0]\n",
    "coeff_Experience = log_reg.coef_[0][0]\n",
    "coeff_Training = log_reg.coef_[0][1]\n",
    "\n",
    "Z = lambda x : intercept+coeff_Experience*x+coeff_Training*4\n",
    "P = lambda x : 1/(1+np.exp(-1*Z(x)))\n",
    "Logit = lambda x : Z(x)"
   ]
  },
  {
   "cell_type": "markdown",
   "id": "9d8dc8e8-9f23-4e61-8d8c-0f8e2b270e9a",
   "metadata": {},
   "source": [
    "Wir wollen wissen, ab welchem Punkt die Wahrscheinlichkeitsfunktion den Wert 0.5 besitzt. Dazu nutzen wir den Logit:"
   ]
  },
  {
   "cell_type": "code",
   "execution_count": null,
   "id": "8bb11235-fe2d-4b4f-8cd1-74e863fca3be",
   "metadata": {},
   "outputs": [],
   "source": [
    "np.log(0.5/(1-0.5))"
   ]
  },
  {
   "cell_type": "markdown",
   "id": "e49f1e13-95f4-45af-b0c3-ec28498e9635",
   "metadata": {},
   "source": [
    "Also müssen wir ermitteln, an welchem Punkt $Z = 0$ ist. Dazu nehmen wir eine Termumformung von $Z$ vor, wie wir das aus den Mathematikveranstaltungen, oder noch aus der Schule kennen:"
   ]
  },
  {
   "cell_type": "code",
   "execution_count": null,
   "id": "5c1d47f4-3326-4c2b-b4d4-24d88f2b889d",
   "metadata": {},
   "outputs": [],
   "source": [
    "Z_null = ((intercept*-1)-coeff_Training*4)/coeff_Experience\n",
    "print(Z_null)"
   ]
  },
  {
   "cell_type": "code",
   "execution_count": null,
   "id": "2154dddc-a4b9-48c9-8db9-28a9af32633f",
   "metadata": {},
   "outputs": [],
   "source": [
    "P(Z_null)"
   ]
  },
  {
   "cell_type": "markdown",
   "id": "9947fe86-02a5-4ed5-b4c2-eb1f4fb300a5",
   "metadata": {},
   "source": [
    "Grafische Auswertung:"
   ]
  },
  {
   "cell_type": "code",
   "execution_count": null,
   "id": "bf14566b-87ce-45fb-8e24-e553136bf5d3",
   "metadata": {},
   "outputs": [],
   "source": [
    "plt.scatter(experience, log_reg.predict_proba(test_df)[:,1], s=1)\n",
    "plt.show()"
   ]
  }
 ],
 "metadata": {
  "kernelspec": {
   "display_name": "Python 3 (ipykernel)",
   "language": "python",
   "name": "python3"
  },
  "language_info": {
   "codemirror_mode": {
    "name": "ipython",
    "version": 3
   },
   "file_extension": ".py",
   "mimetype": "text/x-python",
   "name": "python",
   "nbconvert_exporter": "python",
   "pygments_lexer": "ipython3",
   "version": "3.12.3"
  }
 },
 "nbformat": 4,
 "nbformat_minor": 5
}
