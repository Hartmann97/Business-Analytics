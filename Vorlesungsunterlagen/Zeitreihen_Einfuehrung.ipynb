{
 "cells": [
  {
   "cell_type": "markdown",
   "id": "1efea320-503d-4d48-9480-0749747d87d3",
   "metadata": {},
   "source": [
    "#### Business Analytics FHDW 2025\n",
    "# Time Series\n",
    "## Grundlegende Handhabung und Aufbereitung\n",
    "\n",
    "Wir schauen uns den bekannten Datensatz *Amtrak.csv* mit Fahrgastzahlen (*ridership*) aus den Jahren 1991 bis 2004 an."
   ]
  },
  {
   "cell_type": "code",
   "execution_count": null,
   "id": "1b143c64-0740-402c-89fe-eca15d0c9d3b",
   "metadata": {},
   "outputs": [],
   "source": [
    "import pandas as pd\n",
    "import numpy as np\n",
    "import matplotlib.pylab as plt\n",
    "import statsmodels.formula.api as sm\n",
    "from statsmodels.tsa import tsatools\n",
    "from dmba import regressionSummary\n",
    "\n",
    "amtrak_df = pd.read_csv('Daten/Amtrak.csv')\n",
    "amtrak_df"
   ]
  },
  {
   "cell_type": "markdown",
   "id": "95ff6dcd-a224-41d7-b87c-2a708e551c59",
   "metadata": {},
   "source": [
    "*pandas* nutzt bei der Verarbeitung von Zeitwerten und -reihen eigene Strukturen (eine gute Übersicht z. B. hier: https://jakevdp.github.io/PythonDataScienceHandbook/03.11-working-with-time-series.html). Im eingelesenen `DataFrame` sind die Datumswerte einfach Zeichenketten:"
   ]
  },
  {
   "cell_type": "code",
   "execution_count": null,
   "id": "57c42375-a3da-4498-9fae-2db5f49492f6",
   "metadata": {},
   "outputs": [],
   "source": [
    "print(amtrak_df.Month[0])\n",
    "type(amtrak_df.Month[0])"
   ]
  },
  {
   "cell_type": "markdown",
   "id": "345a9c34-b0e9-4065-9c94-542143a8fe3f",
   "metadata": {},
   "source": [
    "Zeitreihen in *pandas* werden indiziert durch `Timestamp`s. Also bauen wir uns aus der Spalte *Month* aus den dort gespeicherten Zeichenketten mit `to_datetime` eine Reihe solcher Zeitwerte. Die Funktion könnte das Format auch selbst erkennen. Indem wir es explizit im Parameter `format` angeben, arbeitet sie aber effizienter (wichtig gerade bei sehr großen Datensätzen)."
   ]
  },
  {
   "cell_type": "code",
   "execution_count": null,
   "id": "44549b54-69c1-4da5-83c3-6ba67456add5",
   "metadata": {},
   "outputs": [],
   "source": [
    "ridership_dates = pd.to_datetime(amtrak_df.Month, format='%d/%m/%Y')\n",
    "ridership_dates"
   ]
  },
  {
   "cell_type": "markdown",
   "id": "524979b3-16fd-4a8c-8d11-4678348160ae",
   "metadata": {},
   "source": [
    "Die Zeitreihe der Fahrgastzahlen legen wir gesondert als `Series` an. *pandas*'s `Series` ist ein eindimensionales Array, das aber viel Flexibilität in der Nutzung eines Index bietet. Die Werte kommen aus der Spalte *Ridership* des `DataFrame` oben, als Index benutzen wir die gerade erzeugte Datumsreihe. Wir geben außerdem einen Namen an, damit die Werte der Zeitreihe in weiteren Berechnungen referenzierbar sind.\n",
    "\n",
    "Unsere Fahrgast-`Series`benötigt einen `DatetimeIndex`, um die zeitbezogenen Operationen von *pandas* auf den Daten zu ermöglichen. Die Frequenz lassen wir dabei ermitteln (`inferred_freq`), in diesem Fall ist das *MS = monthly start* bzw. *MonthBegin*."
   ]
  },
  {
   "cell_type": "code",
   "execution_count": null,
   "id": "528369e0-15ec-45a5-8068-9df36457356b",
   "metadata": {},
   "outputs": [],
   "source": [
    "ridership_ts = pd.Series(amtrak_df.Ridership.values, index=ridership_dates, name='Ridership')\n",
    "ridership_ts.index = pd.DatetimeIndex(ridership_ts.index, ridership_ts.index.inferred_freq)\n",
    "ridership_ts.index.freq"
   ]
  },
  {
   "cell_type": "markdown",
   "id": "3d6a3cbf-d639-4a97-bceb-c4cd80e8ba71",
   "metadata": {},
   "source": [
    "## Erste einfache Analysen und Prognosen\n",
    "\n",
    "Die Visualisierung ist bei Zeitreihen ein nahe liegender erster Ansatz, um einen Eindruck von ihren Komponenten zu bekommen. Nach den Vorbereitungen oben können wir unsere Zeitreihe der Fahrgastzahlen ausgeben und plotten."
   ]
  },
  {
   "cell_type": "code",
   "execution_count": null,
   "id": "b1d4ad49-1dee-462a-b54b-f789ea54e06b",
   "metadata": {},
   "outputs": [],
   "source": [
    "print(ridership_ts)\n",
    "\n",
    "ax = ridership_ts.plot()\n",
    "ax.set_xlabel('Zeit')\n",
    "ax.set_ylabel('Fahrgäste in tausend')\n",
    "ax.set_ylim(1300, 2300)\n",
    "plt.show()"
   ]
  },
  {
   "cell_type": "markdown",
   "id": "52c5e74d-0cc0-4089-8a5e-08d07da342e2",
   "metadata": {},
   "source": [
    "Auf diese Weise erkennen wir bereits tendenziell Trends und Saisonalitäten. Trends können wir deutlicher hervorheben, indem wir durch Aggregation oder Durchschnitte mittels `resample` (Zielkonversion *Y*ear) und `agg` die Saisonalitäten unterdrücken. Die Saisonalitäten und sonstige Verlaufsmuster können wir durch \"reinzoomen\" besser sehen, oder, indem wir Perioden übereinander legen."
   ]
  },
  {
   "cell_type": "code",
   "execution_count": null,
   "id": "ab37f8cc-bce6-49ae-98cc-344b7249e8ac",
   "metadata": {},
   "outputs": [],
   "source": [
    "fig, axes = plt.subplots(nrows=1, ncols=2, figsize=(15,5))\n",
    "ridership_ts.resample('YE').agg([\"mean\"]).plot(xlabel=\"Zeit\", ax=axes[0])\n",
    "ridership_ts.resample('YE').agg([\"sum\"]).plot(xlabel=\"Zeit\", ylim=(19000, 25000), ax=axes[1])\n",
    "plt.show()"
   ]
  },
  {
   "cell_type": "code",
   "execution_count": null,
   "id": "e2adb964-12ed-422d-b646-692cbfd42a58",
   "metadata": {},
   "outputs": [],
   "source": [
    "ridership_ts['1997':'1999'].plot(figsize=(15,5))\n",
    "plt.show()"
   ]
  },
  {
   "cell_type": "code",
   "execution_count": null,
   "id": "b0ef43e0-02dc-4ddf-a7e5-132c5f52580e",
   "metadata": {},
   "outputs": [],
   "source": [
    "ax = plt.subplot()\n",
    "for y in ['1997', '1998', '1999', '2000']:\n",
    "    ridership_period = ridership_ts[y]\n",
    "    ridership_period.index = ridership_period.index.month\n",
    "    ridership_period.plot(figsize=(15,5), label=y)\n",
    "ax.legend()\n",
    "plt.show()"
   ]
  },
  {
   "cell_type": "markdown",
   "id": "80b7aed7-87e8-48e4-ae3c-6496d8279157",
   "metadata": {},
   "source": [
    "Es gibt naive Prognosen, die uns aber gleichzeitig als Benchmark bzw. Vergleich für die Zuverlässigkeit fortgeschrittener Methoden dienen können. Sie nutzen einfach frühere Werte. Im simpelsten Fall ist das der letzte bekannte Wert der Reihe. Dieser wird als Prognose fortgeschrieben. \n",
    "\n",
    "Wollen wir zusätzlich Saisonalität berücksichtigen, nutzen wir für die Prognose die letzte bekannte Saison. Dann ist z. B. die Vorhersage für März des nächsten Jahres der Wert aus dem letzten vorliegenden März, März des übernächsten Jahres ebenso usw.\n",
    "\n",
    "Diese beiden naiven Vorhersagen generieren wir uns für das Amtrak-Beispiel."
   ]
  },
  {
   "cell_type": "code",
   "execution_count": null,
   "id": "3b47db09-13bb-4e68-9011-e740ef292bb5",
   "metadata": {},
   "outputs": [],
   "source": [
    "n_valid = 36 # Monate für die Validierung\n",
    "n_train = len(ridership_ts) - n_valid\n",
    "\n",
    "train_ts = ridership_ts[:n_train]\n",
    "valid_ts = ridership_ts[n_train:]\n",
    "\n",
    "# Aus dem letzten bekannten Wert der Trainingsdaten wird eine\n",
    "# Folge für jeden Timestamp/Index der Validierungsdaten erzeugt:\n",
    "naive_prediction = pd.Series(train_ts.iloc[-1], index=valid_ts.index)\n",
    "\n",
    "# Um die vergangene Saison zu erfassen, gehen wir zwölf Monate zurück\n",
    "# und übernehmen die Trainingsdaten von dort bis zu ihrem Ende:\n",
    "last_season = train_ts[-12:]\n",
    "# Dann kopieren wir die letzte Saison mit concat drei mal hintereinander,\n",
    "# und speichern das Ergebnis mit dem Index der Validierungsdaten:\n",
    "seasonal_prediction = pd.Series(pd.concat([last_season]*3).values, index=valid_ts.index)\n",
    "\n",
    "print(\"Einfache naive Prognose ------------------\")\n",
    "print(naive_prediction)\n",
    "print(\"Saisonale naive Prognose ------------------\")\n",
    "print(seasonal_prediction)"
   ]
  },
  {
   "cell_type": "markdown",
   "id": "f4160761-3133-4731-b155-ba70df509706",
   "metadata": {},
   "source": [
    "Trainings-, Validierungs- und Prognosedaten können wir dann visualisieren."
   ]
  },
  {
   "cell_type": "code",
   "execution_count": null,
   "id": "35b55b75-31f6-4768-b8ca-098cf30bad65",
   "metadata": {},
   "outputs": [],
   "source": [
    "ax = train_ts.plot(color='C0', linewidth=0.75, figsize=(9,7))\n",
    "valid_ts.plot(ax=ax, color='C0', linestyle='dashed', linewidth=0.75)\n",
    "ax.set_xlim('1990', '2006-6')\n",
    "ax.set_ylim(1300, 2600)\n",
    "ax.set_ylabel('Fahrgäste in tausend')\n",
    "\n",
    "naive_prediction.plot(ax=ax, color='green')\n",
    "seasonal_prediction.plot(ax=ax, color='orange')\n",
    "\n",
    "one_month = pd.Timedelta('31 days')\n",
    "xtrain = (min(train_ts.index), max(train_ts.index)-one_month)\n",
    "xvalid = (min(valid_ts.index)+one_month, max(valid_ts.index)-one_month)\n",
    "xtv = xtrain[1]+0.5*(xvalid[0]-xtrain[1])\n",
    "xvf = xvalid[1]+0.5*((max(valid_ts.index)+one_month)-xvalid[1])\n",
    "\n",
    "ax.add_line(plt.Line2D(xtrain, (2450, 2450), color='black', linewidth=0.5))\n",
    "ax.add_line(plt.Line2D(xvalid, (2450, 2450), color='black', linewidth=0.5))\n",
    "ax.text('1995', 2500, 'Training')\n",
    "ax.text('2001-9', 2500, 'Validierung')\n",
    "#ax.text('2004-7', 2500, 'Zukunft')\n",
    "ax.axvline(x=xtv, ymin=0, ymax=1, color='black', linewidth=0.5)\n",
    "ax.axvline(x=xvf, ymin=0, ymax=1, color='black', linewidth=0.5)\n",
    "ax.set_xlabel('Zeit')\n",
    "plt.show()"
   ]
  },
  {
   "cell_type": "markdown",
   "id": "76ec419a-812c-4358-8ac8-613a43638234",
   "metadata": {},
   "source": [
    "Zur Beurteilung der Performance und auch für spätere Vergleiche (Benchmarking) können wir uns die Kennzahlen generieren, die wir schon für die Regression genutzt haben. Es ist ja auch hier eine Art Anpassung."
   ]
  },
  {
   "cell_type": "code",
   "execution_count": null,
   "id": "5fcb6799-1feb-45e5-bcc3-de453beccd46",
   "metadata": {},
   "outputs": [],
   "source": [
    "regressionSummary(valid_ts, naive_prediction)\n",
    "regressionSummary(valid_ts, seasonal_prediction)"
   ]
  },
  {
   "cell_type": "markdown",
   "id": "05580055-3930-4628-8591-bd442f3ebb22",
   "metadata": {},
   "source": [
    "## Aufgabe\n",
    "\n",
    "Lesen Sie aus der Datei *monthly-shampoo-sales.csv* die monatlichen Absatzzahlen eines Shampoos über drei Jahre.\n",
    "\n",
    "- Speichern Sie die Daten als Zeitreihe in einer `Series`.\n",
    "- Stellen Sie die Daten dar.\n",
    "- Welche Komponenten (Level, Trend, Saisonalität, Rauschen) sind hier erkennbar?"
   ]
  }
 ],
 "metadata": {
  "kernelspec": {
   "display_name": "Python 3 (ipykernel)",
   "language": "python",
   "name": "python3"
  },
  "language_info": {
   "codemirror_mode": {
    "name": "ipython",
    "version": 3
   },
   "file_extension": ".py",
   "mimetype": "text/x-python",
   "name": "python",
   "nbconvert_exporter": "python",
   "pygments_lexer": "ipython3",
   "version": "3.12.3"
  }
 },
 "nbformat": 4,
 "nbformat_minor": 5
}
