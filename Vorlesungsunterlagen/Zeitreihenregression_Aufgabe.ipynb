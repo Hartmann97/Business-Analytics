{
 "cells": [
  {
   "cell_type": "markdown",
   "id": "1efea320-503d-4d48-9480-0749747d87d3",
   "metadata": {},
   "source": [
    "#### Business Analytics FHDW 2025\n",
    "## Aufgabe\n",
    "\n",
    "Der Datensatz *a10.csv* enthält die monatlichen Absätze eines Medikamentes gegen Diabetes. Implementieren Sie ein geeignetes Modell zur Prädiktion der Absätze. Passen Sie zu diesem Zweck ggf. auch die Hilfsfunktionen zur Darstellung an."
   ]
  },
  {
   "cell_type": "code",
   "execution_count": null,
   "id": "1b143c64-0740-402c-89fe-eca15d0c9d3b",
   "metadata": {},
   "outputs": [],
   "source": [
    "import pandas as pd\n",
    "import numpy as np\n",
    "import matplotlib.pylab as plt\n",
    "import statsmodels.formula.api as smf\n",
    "from statsmodels.tsa import tsatools\n",
    "from sklearn.metrics import mean_squared_error\n",
    "from statsmodels.tsa.arima.model import ARIMA\n",
    "from statsmodels.graphics import tsaplots\n",
    "\n",
    "def regressionSummary(y_true, y_predicted):\n",
    "    y_true = np.asarray(y_true)\n",
    "    y_predicted = np.asarray(y_predicted)\n",
    "    y_residuals = y_true - y_predicted\n",
    "    metrics = [\n",
    "        ('Summe Abweichungen', sum(y_residuals)),\n",
    "        ('Summe absolute Abweichungen', sum(abs(y_residuals))),\n",
    "        ('Mittlerer Fehler', sum(y_residuals) / len(y_residuals)),\n",
    "        ('Mittlerer absoluter Fehler', sum(abs(y_residuals)) / len(y_residuals)),\n",
    "        ('Wurzel des durchschnittlichen Fehlerquadrats', np.sqrt(mean_squared_error(y_true, y_predicted)))\n",
    "    ]\n",
    "    if all(yt != 0 for yt in y_true):\n",
    "        metrics.extend([\n",
    "            ('Mittlerer prozentualer Fehler', 100 * sum(y_residuals / y_true) / len(y_residuals)),\n",
    "            ('Mittlerer absoluter prozentualer Fehler', 100 * sum(abs(y_residuals / y_true) / len(y_residuals))),\n",
    "        ])\n",
    "    maxlength = max(len(m[0]) for m in metrics)\n",
    "    fmt1 = f'{{:>{maxlength}}} : {{:.4f}}'    \n",
    "    for metric, value in metrics:\n",
    "        print(fmt1.format(metric, value))\n",
    "\n",
    "def singleGraphLayout(ax, ylim, train_df, valid_df):\n",
    "    ax.set_xlim('1991-7', '2008-6')\n",
    "    ax.set_ylim(*ylim)\n",
    "    ax.set_xlabel('Zeit')\n",
    "    one_month = pd.Timedelta('31 days')\n",
    "    \n",
    "    xtrain = (min(train_df.index), max(train_df.index)-one_month)\n",
    "    xvalid = (min(valid_df.index)+one_month, max(valid_df.index)-one_month)\n",
    "    xtv = xtrain[1]+0.5*(xvalid[0]-xtrain[1])\n",
    "    \n",
    "    ypos = 0.9*ylim[1]+0.1*ylim[0]\n",
    "    ax.add_line(plt.Line2D(xtrain, (ypos, ypos), color='black', linewidth=0.5))\n",
    "    ax.add_line(plt.Line2D(xvalid, (ypos, ypos), color='black', linewidth=0.5))\n",
    "    ax.axvline(x=xtv, ymin=0, ymax=1, color='black', linewidth=0.5)\n",
    "    \n",
    "    ypos = 0.925*ylim[1]+0.075*ylim[0]\n",
    "    ax.text('1991-7', ypos, 'Training')\n",
    "    ax.text('2001-10', ypos, 'Validation')\n",
    "    \n",
    "def graphLayout(axes, train_df, valid_df):\n",
    "    singleGraphLayout(axes[0], [0, 35], train_df, valid_df)\n",
    "    singleGraphLayout(axes[1], [-10, 10], train_df, valid_df)\n",
    "    train_df.plot(y='sales', ax=axes[0], color='C0', linewidth=0.75)\n",
    "    valid_df.plot(y='sales', ax=axes[0], color='C0', linestyle='dashed', linewidth=0.75)\n",
    "    axes[1].axhline(y=0, xmin=0, xmax=1, color='black', linewidth=0.5)\n",
    "    axes[0].set_xlabel('')\n",
    "    axes[0].set_ylabel('Absatz')\n",
    "    axes[1].set_ylabel('Vorhersagefehler')\n",
    "    if axes[0].get_legend():\n",
    "        axes[0].get_legend().remove()"
   ]
  },
  {
   "cell_type": "markdown",
   "id": "7dd62a55-1083-4bb5-84d1-b296b0080431",
   "metadata": {},
   "source": [
    "Erst einmal einlesen und passend umwandeln."
   ]
  },
  {
   "cell_type": "code",
   "execution_count": null,
   "id": "fa8809cd-778e-410c-a479-d57c1527b94f",
   "metadata": {},
   "outputs": [],
   "source": [
    "sales_df = pd.read_csv('Daten/a10.csv')\n",
    "sales_df"
   ]
  },
  {
   "cell_type": "code",
   "execution_count": null,
   "id": "0a82fd5c-ac5b-4826-b2cd-5b96816054cf",
   "metadata": {},
   "outputs": [],
   "source": [
    "sales_df['date'] = pd.to_datetime(sales_df.date, format='%Y-%m-%d')\n",
    "sales_ts = pd.Series(sales_df.value.values, index=sales_df.date, name='sales')\n",
    "sales_ts"
   ]
  },
  {
   "cell_type": "markdown",
   "id": "a25cff0f-42b8-48f9-9e21-df9bc3899fcc",
   "metadata": {},
   "source": [
    "Um einen Ansatz für passende Modelle zu finden, einfach darstellen."
   ]
  },
  {
   "cell_type": "code",
   "execution_count": null,
   "id": "dd62b729-146b-4267-adc6-5b28c71b8299",
   "metadata": {},
   "outputs": [],
   "source": [
    "sales_ts.plot(figsize=(15,5))\n",
    "fig, axes = plt.subplots(nrows=1, ncols=2, figsize=(15,5))\n",
    "sales_ts.resample('YE').agg([\"mean\"]).plot(xlabel=\"Zeit\", ax=axes[0])\n",
    "sales_ts.resample('YE').agg([\"sum\"]).plot(xlabel=\"Zeit\", ax=axes[1])\n",
    "plt.show()"
   ]
  },
  {
   "cell_type": "markdown",
   "id": "95ff6dcd-a224-41d7-b87c-2a708e551c59",
   "metadata": {},
   "source": [
    "Saisonalität ziemlich deutlich, Trend wirkt quadratisch (Steigung am Ende etwas höher)."
   ]
  },
  {
   "cell_type": "code",
   "execution_count": null,
   "id": "3b47db09-13bb-4e68-9011-e740ef292bb5",
   "metadata": {},
   "outputs": [],
   "source": [
    "sales_df = tsatools.add_trend(sales_ts, trend='ct')\n",
    "sales_df['month'] = sales_df.index.month\n",
    "sales_df"
   ]
  },
  {
   "cell_type": "code",
   "execution_count": null,
   "id": "f3f71a2d-ae86-4e29-9894-7a630dfa2154",
   "metadata": {},
   "outputs": [],
   "source": [
    "n_train = 123\n",
    "train_df = sales_df[:n_train]\n",
    "valid_df = sales_df[n_train:]\n",
    "sales_prediction_trend_season_add = smf.ols(formula='sales ~ trend + np.square(trend) + C(month)', data=train_df).fit()\n",
    "predicted_trend_season_add = sales_prediction_trend_season_add.predict(valid_df)"
   ]
  },
  {
   "cell_type": "code",
   "execution_count": null,
   "id": "965eadae-d684-4d99-b76d-4f934246298e",
   "metadata": {},
   "outputs": [],
   "source": [
    "fig, axes = plt.subplots(nrows=2, ncols=1, figsize=(9, 7.5))\n",
    "sales_prediction_trend_season_add.predict(train_df).plot(ax=axes[0], color='C1')\n",
    "sales_prediction_trend_season_add.predict(valid_df).plot(ax=axes[0], color='C1', linestyle='dashed')\n",
    "\n",
    "residual_train = train_df.sales - sales_prediction_trend_season_add.predict(train_df)\n",
    "residual_train.plot(ax=axes[1], color='C1')\n",
    "residual_valid = valid_df.sales - sales_prediction_trend_season_add.predict(valid_df)\n",
    "residual_valid.plot(ax=axes[1], color='C1', linestyle='dashed')\n",
    "graphLayout(axes, train_df, valid_df)\n",
    "plt.show()"
   ]
  },
  {
   "cell_type": "markdown",
   "id": "c24acb83-e217-4e02-8656-a09802edcff2",
   "metadata": {},
   "source": [
    "Saisonalität hier eher multiplikativ."
   ]
  },
  {
   "cell_type": "code",
   "execution_count": null,
   "id": "de62982b-bf42-49dc-8562-09757325073f",
   "metadata": {},
   "outputs": [],
   "source": [
    "sales_prediction_trend_season_mul = smf.ols(formula='sales ~ trend + np.square(trend) * C(month)', data=train_df).fit()\n",
    "predicted_trend_season_mul = sales_prediction_trend_season_mul.predict(valid_df)"
   ]
  },
  {
   "cell_type": "code",
   "execution_count": null,
   "id": "03745776-16a9-416b-8b30-f9c2d744fe21",
   "metadata": {},
   "outputs": [],
   "source": [
    "fig, axes = plt.subplots(nrows=2, ncols=1, figsize=(9, 7.5))\n",
    "sales_prediction_trend_season_mul.predict(train_df).plot(ax=axes[0], color='C1')\n",
    "sales_prediction_trend_season_mul.predict(valid_df).plot(ax=axes[0], color='C1', linestyle='dashed')\n",
    "\n",
    "residual_train = train_df.sales - sales_prediction_trend_season_mul.predict(train_df)\n",
    "residual_train.plot(ax=axes[1], color='C1')\n",
    "residual_valid = valid_df.sales - sales_prediction_trend_season_mul.predict(valid_df)\n",
    "residual_valid.plot(ax=axes[1], color='C1', linestyle='dashed')\n",
    "graphLayout(axes, train_df, valid_df)\n",
    "plt.show()"
   ]
  },
  {
   "cell_type": "code",
   "execution_count": null,
   "id": "983eb4a7-2cbe-4477-99f6-44fba0b544a5",
   "metadata": {},
   "outputs": [],
   "source": [
    "print('Quadratisches Modell mit additiver Saisonalität')\n",
    "regressionSummary(valid_df.sales, predicted_trend_season_add)\n",
    "print('')\n",
    "print('Quadratisches Modell mit multiplikativer Saisonalität')\n",
    "regressionSummary(valid_df.sales, predicted_trend_season_mul)"
   ]
  }
 ],
 "metadata": {
  "kernelspec": {
   "display_name": "Python 3 (ipykernel)",
   "language": "python",
   "name": "python3"
  },
  "language_info": {
   "codemirror_mode": {
    "name": "ipython",
    "version": 3
   },
   "file_extension": ".py",
   "mimetype": "text/x-python",
   "name": "python",
   "nbconvert_exporter": "python",
   "pygments_lexer": "ipython3",
   "version": "3.12.3"
  }
 },
 "nbformat": 4,
 "nbformat_minor": 5
}
