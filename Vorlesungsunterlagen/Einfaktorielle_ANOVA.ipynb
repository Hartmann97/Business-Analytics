{
 "cells": [
  {
   "cell_type": "markdown",
   "id": "6053d7ae-c8bd-4b10-89bd-5f5d714aa313",
   "metadata": {},
   "source": [
    "#### Business Analytics FHDW 2025\n",
    "# Einfaktorielle Varianzanalyse\n",
    "## am Beispiel von Schokolade\n",
    "\n",
    "Als Fallbeispiel schauen wir uns ein Szenario aus *Backhaus et al.: Multivariate Analysemethoden* an. Eine Supermarktkette möchte die Auswirkung unterschiedlicher Platzierungen eines Schokoladenprodukts auf dessen Absatz analysieren. *Platzierung* ist also der Faktor, seine Ausprägungen sind die Faktorstufen *1. Süßwarenabteilung*, *2. Sonderplatzierung* und *3. Kassenplatzierung*.\n",
    "\n",
    "Das experimentelle Design wählt aus 100 Filialen 15 zufällig aus. In jeweils fünf wieder zufällig ausgewählten Filialen wird für eine Woche eine der Produktplatzierungen umgesetzt. Nach dieser Woche berichtet jeder Markt den Absatz in \"Kilogramm pro 1000 Kassenvorgänge\". \n",
    "\n",
    "Diese Zahlen lesen wir aus der Beispieldatei ein."
   ]
  },
  {
   "cell_type": "code",
   "execution_count": 1,
   "id": "3772f699-4d01-4c49-a2ca-79f9c0707bdc",
   "metadata": {},
   "outputs": [
    {
     "data": {
      "text/html": [
       "<div>\n",
       "<style scoped>\n",
       "    .dataframe tbody tr th:only-of-type {\n",
       "        vertical-align: middle;\n",
       "    }\n",
       "\n",
       "    .dataframe tbody tr th {\n",
       "        vertical-align: top;\n",
       "    }\n",
       "\n",
       "    .dataframe thead th {\n",
       "        text-align: right;\n",
       "    }\n",
       "</style>\n",
       "<table border=\"1\" class=\"dataframe\">\n",
       "  <thead>\n",
       "    <tr style=\"text-align: right;\">\n",
       "      <th></th>\n",
       "      <th>Süßwarenabteilung</th>\n",
       "      <th>Sonderplatzierung</th>\n",
       "      <th>Kassenplatzierung</th>\n",
       "    </tr>\n",
       "  </thead>\n",
       "  <tbody>\n",
       "    <tr>\n",
       "      <th>0</th>\n",
       "      <td>47</td>\n",
       "      <td>68</td>\n",
       "      <td>59</td>\n",
       "    </tr>\n",
       "    <tr>\n",
       "      <th>1</th>\n",
       "      <td>39</td>\n",
       "      <td>65</td>\n",
       "      <td>50</td>\n",
       "    </tr>\n",
       "    <tr>\n",
       "      <th>2</th>\n",
       "      <td>40</td>\n",
       "      <td>63</td>\n",
       "      <td>51</td>\n",
       "    </tr>\n",
       "    <tr>\n",
       "      <th>3</th>\n",
       "      <td>46</td>\n",
       "      <td>59</td>\n",
       "      <td>48</td>\n",
       "    </tr>\n",
       "    <tr>\n",
       "      <th>4</th>\n",
       "      <td>45</td>\n",
       "      <td>67</td>\n",
       "      <td>53</td>\n",
       "    </tr>\n",
       "  </tbody>\n",
       "</table>\n",
       "</div>"
      ],
      "text/plain": [
       "   Süßwarenabteilung  Sonderplatzierung  Kassenplatzierung\n",
       "0                 47                 68                 59\n",
       "1                 39                 65                 50\n",
       "2                 40                 63                 51\n",
       "3                 46                 59                 48\n",
       "4                 45                 67                 53"
      ]
     },
     "execution_count": 1,
     "metadata": {},
     "output_type": "execute_result"
    }
   ],
   "source": [
    "import pandas as pd\n",
    "import numpy as np\n",
    "import matplotlib.pylab as plt\n",
    "import scipy.stats as sta\n",
    "\n",
    "schoko_df = pd.read_csv('Daten/anova_bsp_schoko.csv')\n",
    "schoko_df"
   ]
  },
  {
   "cell_type": "markdown",
   "id": "7592f1f1-ac2c-44ee-807c-e10e16b4715e",
   "metadata": {},
   "source": [
    "### Modellformulierung und erste Betrachtungen\n",
    "\n",
    "Wir betrachten in diesem Beispiel nur einen Faktor. Die *einfaktorielle* Varianzanalyse bildet dann das Modell \n",
    "\n",
    "$y_{gi}=\\mu+\\alpha_{g}+\\epsilon_{gi}$ \n",
    "\n",
    "mit <br>\n",
    "$y_{gi}$ Beobachtungswert $i=1,...,5$ für Faktorstufe $g=1,...,3$<br>\n",
    "$\\mu$ Gesamtmittelwert in der Grundgesamtheit<br>\n",
    "$\\alpha_{g} = \\mu_{g}-\\mu$ wahrer Effekt von Faktorstufe $g$ mit $\\mu_{g}$ dem Mittelwert der Faktorstufe $g$ in der Grundgesamtheit. Die Werte können wir mit den Gruppenmittelwerten der Stichprobe schätzen als $a_{g}=\\overline{y}_{g}-\\overline{y}$. <br>\n",
    "$\\epsilon_{gi}$ Störgröße<br>\n",
    "\n",
    "Oft hilfreich - wenn die Dimensionalität das zulässt - ist eine Visualisierung der Daten. Zum Vergleich von Stichproben bietet sich ein *Boxplot* an, der eine Reihe von statistischen Eigenschaften darstellt."
   ]
  },
  {
   "cell_type": "code",
   "execution_count": 2,
   "id": "15cbfb6f-8ae7-4fcc-888b-3c9700dd8cc6",
   "metadata": {},
   "outputs": [
    {
     "data": {
      "image/png": "[encoded data removed]",
      "text/plain": [
       "<Figure size 600x700 with 1 Axes>"
      ]
     },
     "metadata": {},
     "output_type": "display_data"
    }
   ],
   "source": [
    "fig, ax = plt.subplots(figsize=(6, 7))\n",
    "ax.boxplot(schoko_df[[p for p in schoko_df.columns]])\n",
    "plt.xticks(ticks=[1,2,3], labels=schoko_df.columns)\n",
    "ax.set_ylabel('Absatzmenge')\n",
    "plt.show()"
   ]
  },
  {
   "cell_type": "markdown",
   "id": "e8adbb37-e9da-432f-a93e-7c54ba660a18",
   "metadata": {},
   "source": [
    "Der Boxplot zeigt uns, dass sich die Absatzmengen zwischen den Platzierungen unterscheiden. Da die Mengen aber auch innerhalb der drei Gruppen Streuungen zeigen, muss es noch andere Einflüsse in Form von Stör- bzw. Zufallsgrößen geben. Den Effekt einer Platzierung betrachten wir also als *Hypothese*, die wir mit der ANOVA prüfen wollen. \n",
    "\n",
    "Dazu ermitteln wir schon einmal die Mittelwerte der Faktorstufen und die Schätzungen der wahren Effekte auf Grundlage der Stichprobe."
   ]
  },
  {
   "cell_type": "code",
   "execution_count": 3,
   "id": "6a6d6144-5751-4926-a776-e7b9f4929e58",
   "metadata": {},
   "outputs": [
    {
     "data": {
      "text/html": [
       "<div>\n",
       "<style scoped>\n",
       "    .dataframe tbody tr th:only-of-type {\n",
       "        vertical-align: middle;\n",
       "    }\n",
       "\n",
       "    .dataframe tbody tr th {\n",
       "        vertical-align: top;\n",
       "    }\n",
       "\n",
       "    .dataframe thead th {\n",
       "        text-align: right;\n",
       "    }\n",
       "</style>\n",
       "<table border=\"1\" class=\"dataframe\">\n",
       "  <thead>\n",
       "    <tr style=\"text-align: right;\">\n",
       "      <th></th>\n",
       "      <th>Gruppenmittelwert</th>\n",
       "      <th>Wahrer Effekt</th>\n",
       "    </tr>\n",
       "  </thead>\n",
       "  <tbody>\n",
       "    <tr>\n",
       "      <th>Süßwarenabteilung</th>\n",
       "      <td>43.4</td>\n",
       "      <td>-9.933333</td>\n",
       "    </tr>\n",
       "    <tr>\n",
       "      <th>Sonderplatzierung</th>\n",
       "      <td>64.4</td>\n",
       "      <td>11.066667</td>\n",
       "    </tr>\n",
       "    <tr>\n",
       "      <th>Kassenplatzierung</th>\n",
       "      <td>52.2</td>\n",
       "      <td>-1.133333</td>\n",
       "    </tr>\n",
       "  </tbody>\n",
       "</table>\n",
       "</div>"
      ],
      "text/plain": [
       "                   Gruppenmittelwert  Wahrer Effekt\n",
       "Süßwarenabteilung               43.4      -9.933333\n",
       "Sonderplatzierung               64.4      11.066667\n",
       "Kassenplatzierung               52.2      -1.133333"
      ]
     },
     "execution_count": 3,
     "metadata": {},
     "output_type": "execute_result"
    }
   ],
   "source": [
    "gesamtmittel = schoko_df.mean().sum()/len(schoko_df.mean())\n",
    "\n",
    "mittelwerte_df = pd.DataFrame(columns=['Gruppenmittelwert','Wahrer Effekt'], \n",
    "                              index=['Süßwarenabteilung','Sonderplatzierung','Kassenplatzierung'])\n",
    "mittelwerte_df['Gruppenmittelwert'] = [schoko_df[p].mean() for p in schoko_df.columns]\n",
    "mittelwerte_df['Wahrer Effekt'] = [gruppenmittel-gesamtmittel for gruppenmittel in mittelwerte_df.Gruppenmittelwert]\n",
    "mittelwerte_df"
   ]
  },
  {
   "cell_type": "markdown",
   "id": "425892ba-4b85-4a2b-9cbd-8ffa588935fc",
   "metadata": {},
   "source": [
    "Hier sehen wir in Zahlen, wie die *Sonderplatzierung* den stärksten positiven Effekt bringt und die *Süßwarenabteilung* zum durchschnittlich geringsten Absatz führt. Was wir noch nicht wissen, ist, ob diese Effekte wirklich durch die Platzierung oder einfach zufällig durch Störgrößen entstanden sind. Dazu müssen wir eine *Streuungs-* bzw. *Varianzzerlegung* vornehmen. "
   ]
  },
  {
   "cell_type": "markdown",
   "id": "f039a65b-dac6-4bbe-b7a1-9d8585901e91",
   "metadata": {},
   "source": [
    "### Zerlegung der Streuung und Modellgüte\n",
    "\n",
    "Um die Beobachtungswerte der abhängigen Variable erklären zu können, zerlegt die ANOVA deren Varianz in einen durch das Modell *erklärten* und einen *nicht erklärten* Anteil, also \n",
    "\n",
    "*Gesamtstreuung* $SS_{t(otal)}=$ *erklärte Streuung* $SS_{b(etween)}$ + *nicht erklärte Streuung* $SS_{w(ithin)}$ \n",
    "\n",
    "($SS$ als *sum of squares*), genauer für den einfaktoriellen Fall:\n",
    "\n",
    "$\\sum\\limits_{g=1}^{G}{\\sum\\limits_{i=1}^{N}(y_{gi}-\\overline{y})^2} \n",
    "= \\sum\\limits_{g=1}^{G}{N(\\overline{y}_g-\\overline{y})^2} + \\sum\\limits_{g=1}^{G}{\\sum\\limits_{i=1}^{N}(y_{gi}-\\overline{y}_g)^2}$\n",
    "\n",
    "Mit dem oben formulierten Modell können wir die Streuungen *zwischen* den Gruppen erklären. Stellen wir die einzelnen Summen für die Beispieldaten auf."
   ]
  },
  {
   "cell_type": "code",
   "execution_count": 4,
   "id": "64a459b3-a416-4e02-a620-d7d35188babf",
   "metadata": {},
   "outputs": [
    {
     "data": {
      "text/html": [
       "<div>\n",
       "<style scoped>\n",
       "    .dataframe tbody tr th:only-of-type {\n",
       "        vertical-align: middle;\n",
       "    }\n",
       "\n",
       "    .dataframe tbody tr th {\n",
       "        vertical-align: top;\n",
       "    }\n",
       "\n",
       "    .dataframe thead th {\n",
       "        text-align: right;\n",
       "    }\n",
       "</style>\n",
       "<table border=\"1\" class=\"dataframe\">\n",
       "  <thead>\n",
       "    <tr style=\"text-align: right;\">\n",
       "      <th></th>\n",
       "      <th>SSt</th>\n",
       "      <th>SSb</th>\n",
       "      <th>SSw</th>\n",
       "    </tr>\n",
       "  </thead>\n",
       "  <tbody>\n",
       "    <tr>\n",
       "      <th>Süßwarenabteilung</th>\n",
       "      <td>546.555556</td>\n",
       "      <td>493.355556</td>\n",
       "      <td>53.2</td>\n",
       "    </tr>\n",
       "    <tr>\n",
       "      <th>Sonderplatzierung</th>\n",
       "      <td>663.555556</td>\n",
       "      <td>612.355556</td>\n",
       "      <td>51.2</td>\n",
       "    </tr>\n",
       "    <tr>\n",
       "      <th>Kassenplatzierung</th>\n",
       "      <td>77.222222</td>\n",
       "      <td>6.422222</td>\n",
       "      <td>70.8</td>\n",
       "    </tr>\n",
       "    <tr>\n",
       "      <th>Summe</th>\n",
       "      <td>1287.333333</td>\n",
       "      <td>1112.133333</td>\n",
       "      <td>175.2</td>\n",
       "    </tr>\n",
       "  </tbody>\n",
       "</table>\n",
       "</div>"
      ],
      "text/plain": [
       "                           SSt          SSb    SSw\n",
       "Süßwarenabteilung   546.555556   493.355556   53.2\n",
       "Sonderplatzierung   663.555556   612.355556   51.2\n",
       "Kassenplatzierung    77.222222     6.422222   70.8\n",
       "Summe              1287.333333  1112.133333  175.2"
      ]
     },
     "execution_count": 4,
     "metadata": {},
     "output_type": "execute_result"
    }
   ],
   "source": [
    "abweichungsquadrate_df = pd.DataFrame(columns=['SSt','SSb','SSw'],\n",
    "                                      index=['Süßwarenabteilung','Sonderplatzierung','Kassenplatzierung'])\n",
    "\n",
    "abweichungsquadrate_df['SSt'] = [np.sum((schoko_df[kategorie]-gesamtmittel)**2) for kategorie in abweichungsquadrate_df.index]\n",
    "abweichungsquadrate_df['SSb'] = [np.sum(len(schoko_df[kategorie])\n",
    "                                        *(mittelwerte_df['Gruppenmittelwert'][kategorie]-gesamtmittel)**2) \n",
    "                                 for kategorie in abweichungsquadrate_df.index]\n",
    "abweichungsquadrate_df['SSw'] = [np.sum((schoko_df[kategorie]-mittelwerte_df['Gruppenmittelwert'][kategorie])**2) \n",
    "                                 for kategorie in abweichungsquadrate_df.index]\n",
    "SSt = np.sum(abweichungsquadrate_df['SSt'])\n",
    "SSb = np.sum(abweichungsquadrate_df['SSb'])\n",
    "SSw = np.sum(abweichungsquadrate_df['SSw'])\n",
    "\n",
    "abweichungsquadrate_df.loc['Summe'] = [SSt, SSb, SSw]\n",
    "abweichungsquadrate_df"
   ]
  },
  {
   "cell_type": "markdown",
   "id": "7b89e95a-9cf4-4a5e-abf4-34c1d5678dee",
   "metadata": {},
   "source": [
    "Durch die Form der Platzierung können wir hier also eine Streuung vom Umfang 1112.13 erklären, 175.2 bleiben unerklärt. Das könnten wir auch auf die einzelnen Märkte herunterbrechen.\n",
    "\n",
    "Ein Maß für die Erklärungskraft und Güte unseres varianzanalytischen Modells liefert *Eta-Quadrat* als Beziehung zwischen seiner erklärten Streuung zur Gesamtstreuung, $EtaQuadrat = \\frac{SS_b}{SS_t}$. Mit Werten zwischen 0 und 1 zeigen hohe Werte, dass das geschätzte Modell die Daten der Stichprobe gut erklärt. Eta-Quadrat entspricht dem Bestimmtheitsmaß $R^2$ der Regressionsanalyse, das ebenfalls den Anteil der Streuung angibt, der dort durch das Regressionsmodell erklärt wird. \n",
    "\n",
    "Für unser Beispiel ergibt sich:"
   ]
  },
  {
   "cell_type": "code",
   "execution_count": 5,
   "id": "48ea4eed-ab66-4065-a3d4-d6d32a8dccbb",
   "metadata": {},
   "outputs": [
    {
     "name": "stdout",
     "output_type": "stream",
     "text": [
      "Eta-Quadrat = 86.39%, 13.61% bleiben unerklärt.\n"
     ]
    }
   ],
   "source": [
    "eta_quadrat = SSb/SSt\n",
    "print(\"Eta-Quadrat = {:.2f}%, {:.2f}% bleiben unerklärt.\".format(eta_quadrat*100, (1-eta_quadrat)*100))"
   ]
  },
  {
   "cell_type": "markdown",
   "id": "f15f841d-e22e-4f6a-9d0e-7ebef9ec2d0a",
   "metadata": {},
   "source": [
    "### Prüfung der statistischen Signifikanzen\n",
    "\n",
    "Der hohe Eta-Quadrat-Wert zeigt, dass unser Modell die Daten der *Stichprobe* recht gut erklärt. Um auf die *Grundgesamtheit* zu schließen, nutzt die ANOVA die *F-Statistik*. Mit deren *F-Test* können wir nun die Hypothese prüfen, ob der betrachtete Faktor *Platzierung* einen Effekt $\\alpha_g$ hat, der dazu beiträgt, die Streuung der abhängigen Variable $y$ zu erklären. \n",
    "\n",
    "Für unser stochastisches ANOVA-Modell führt das zu der Nullhypothese, dass sich die Streuung des untersuchten Faktors zwischen den Gruppen *nicht* von der Streuung innerhalb der Gruppen unterscheidet, die Faktorstufen also einen Einfluss von 0 auf die abhängige Variable haben. Formal:\n",
    "\n",
    "$H_0: SS_b/SS_w = 1$<br>\n",
    "$H_1: SS_b/SS_w > 1$\n",
    "\n",
    "Für den praktischen Test berechnen wir eine empirische Prüfgröße $F_{emp}$, die die erklärte Varianz zwischen den Gruppen mit der unerklärten Varianz innerhalb der Gruppen in Beziehung setzt. Sie bildet dazu einen Quotienten aus den mittleren quadratischen Abweichungen $MS$ (*mean squares*), welche die Streuungen $SS$ durch die jeweiligen Freiheitsgrade $df$ (*degrees of freedom*) dividieren:\n",
    "\n",
    "$F_{emp}=\\frac{SS_b/(G-1)}{SS_w/G(N-1)}=\\frac{MS_b}{MS_w}$\n",
    "\n",
    "Aus diesen Informationen setzt sich die *ANOVA-Tabelle* zusammen."
   ]
  },
  {
   "cell_type": "code",
   "execution_count": 6,
   "id": "62fcf658-14e2-497c-acbd-2a9d2e6ab241",
   "metadata": {},
   "outputs": [
    {
     "data": {
      "text/html": [
       "<div>\n",
       "<style scoped>\n",
       "    .dataframe tbody tr th:only-of-type {\n",
       "        vertical-align: middle;\n",
       "    }\n",
       "\n",
       "    .dataframe tbody tr th {\n",
       "        vertical-align: top;\n",
       "    }\n",
       "\n",
       "    .dataframe thead th {\n",
       "        text-align: right;\n",
       "    }\n",
       "</style>\n",
       "<table border=\"1\" class=\"dataframe\">\n",
       "  <thead>\n",
       "    <tr style=\"text-align: right;\">\n",
       "      <th></th>\n",
       "      <th>SS</th>\n",
       "      <th>df</th>\n",
       "      <th>MS</th>\n",
       "    </tr>\n",
       "    <tr>\n",
       "      <th>Varianzquelle</th>\n",
       "      <th></th>\n",
       "      <th></th>\n",
       "      <th></th>\n",
       "    </tr>\n",
       "  </thead>\n",
       "  <tbody>\n",
       "    <tr>\n",
       "      <th>Zwischen Faktorstufen</th>\n",
       "      <td>1112.133333</td>\n",
       "      <td>2</td>\n",
       "      <td>556.066667</td>\n",
       "    </tr>\n",
       "    <tr>\n",
       "      <th>Innerhalb Faktorstufen</th>\n",
       "      <td>175.200000</td>\n",
       "      <td>12</td>\n",
       "      <td>14.600000</td>\n",
       "    </tr>\n",
       "    <tr>\n",
       "      <th>Gesamt</th>\n",
       "      <td>1287.333333</td>\n",
       "      <td>14</td>\n",
       "      <td>91.952381</td>\n",
       "    </tr>\n",
       "  </tbody>\n",
       "</table>\n",
       "</div>"
      ],
      "text/plain": [
       "                                 SS  df          MS\n",
       "Varianzquelle                                      \n",
       "Zwischen Faktorstufen   1112.133333   2  556.066667\n",
       "Innerhalb Faktorstufen   175.200000  12   14.600000\n",
       "Gesamt                  1287.333333  14   91.952381"
      ]
     },
     "execution_count": 6,
     "metadata": {},
     "output_type": "execute_result"
    }
   ],
   "source": [
    "G = len(schoko_df.columns)\n",
    "N = len(schoko_df.index)\n",
    "df_ssb = G-1\n",
    "df_ssw = G*(N-1)\n",
    "MSb = SSb/df_ssb\n",
    "MSw = SSw/df_ssw\n",
    "F_emp = MSb/MSw\n",
    "\n",
    "anova_df = pd.DataFrame({'SS':[SSb,SSw,SSt],\n",
    "                         'df':[df_ssb,df_ssw,G*N-1],\n",
    "                         'MS':[MSb,MSw,SSt/(G*N-1)]},\n",
    "                        index=['Zwischen Faktorstufen','Innerhalb Faktorstufen','Gesamt'])\n",
    "anova_df.index.name = 'Varianzquelle'\n",
    "anova_df"
   ]
  },
  {
   "cell_type": "markdown",
   "id": "a99ea38b-f9da-476f-841e-52aed2ac5c9c",
   "metadata": {},
   "source": [
    "Bei geringen Störeinflüssen ist dieser Wert hoch und kleine Effekte durch den Faktor signifikant. Bei steigenden Störungen wird der Nachweis eines signifikanten Faktors entsprechend schwieriger - das \"Signal\" hat Schwierigkeiten, das \"Rauschen\" zu übertönen.\n",
    "\n",
    "Den empirischen F-Wert vergleichen wir nun mit dem theoretischen F-Wert $F_\\alpha$ der Verteilung. In deren Funktion setzen wir die Freiheitsgrade von oben und wählen eine Irrtumswahrscheinlichkeit $\\alpha$ als Signifikanzniveau des Tests. Die Entscheidung über Ablehnung oder Annahme der Nullhypothese lautet dann:\n",
    "\n",
    "$F_{emp} > F_\\alpha \\rightarrow H_0$ wird verworfen $\\rightarrow$ Zusammenhang zwischen Faktorstufen und der abhängigen Variablen ist signifikant<br>\n",
    "$F_{emp} \\le F_\\alpha \\rightarrow H_0$ wird nicht verworfen\n",
    "\n",
    "Mit der Irrtumswahrscheinlichkeit $\\alpha$ lehnen wir die Nullhypothese ab, obwohl sie richtig ist (Fehler 1. Art). $\\alpha = 5\\%$ ist eine Art \"Goldstandard\" (nach R. A. Fisher). Der konkrete Wert ist aber immer abhängig von den Kosten und Risiken der unterschiedlichen Fehlentscheidungen und damit abhängig vom Anwendungsfall.\n",
    "\n",
    "Mit $\\alpha=0.05$ erhalten wir in unserem Beispiel folgenden Wert für $F_\\alpha$:"
   ]
  },
  {
   "cell_type": "code",
   "execution_count": 7,
   "id": "7c77cd14-3578-4989-93a4-31f407dcc81d",
   "metadata": {},
   "outputs": [
    {
     "name": "stdout",
     "output_type": "stream",
     "text": [
      "F_emp = 38.09\n",
      "F_alpha = 3.89\n"
     ]
    }
   ],
   "source": [
    "F_alpha = sta.f.ppf(0.95, dfn=df_ssb, dfd=df_ssw)\n",
    "print('F_emp = {:.2f}\\nF_alpha = {:.2f}'.format(F_emp, F_alpha))"
   ]
  },
  {
   "cell_type": "markdown",
   "id": "79116354-2b92-4751-b395-da48b19d699e",
   "metadata": {},
   "source": [
    "Damit gilt $F_{emp} > F_\\alpha$ und wir verwerfen hier die Nullhypothese: Wir können also davon ausgehen, dass die Platzierung der Schokolade einen signifikanten Einfluss auf ihren Absatz hat.\n",
    "\n",
    "Eine weitere Möglichkeit, die uns eine genauere Wahrscheinlichkeit dafür angibt, dass die Ablehnung der Nullhypothese eine Fehlentscheidung darstellt, liegt im $p$-*Wert* (*probability*). Er wird auf Basis $F_{emp}$ aus der kumulierten Verteilungsfunktion (*cumulative distribution function; cdf*) abgeleitet und führt zur Ablehnung der Nullhypothese, wenn $p<\\alpha$. "
   ]
  },
  {
   "cell_type": "code",
   "execution_count": 8,
   "id": "f5dcc3c8-4513-43e5-8ed5-e7d7966410fc",
   "metadata": {},
   "outputs": [
    {
     "data": {
      "text/plain": [
       "6.354165506095022e-06"
      ]
     },
     "execution_count": 8,
     "metadata": {},
     "output_type": "execute_result"
    }
   ],
   "source": [
    "p_value = (1 - sta.f.cdf(F_emp, dfn=df_ssb, dfd=df_ssw))\n",
    "p_value"
   ]
  },
  {
   "cell_type": "markdown",
   "id": "8467f784-400c-4308-9750-1bffab19afe3",
   "metadata": {},
   "source": [
    "Ein $p$-Wert von praktisch null zeigt hier, wie deutlich sich die Platzierung auf den Absatz auswirkt.\n",
    "\n",
    "Wenn eine differenzierte Betrachtung eines Szenarios und seiner Daten nicht erforderlich ist, können wir uns $F$- und $p$-Werte auch direkt mit der Funktion `f_oneway` aus dem Datensatz generieren lassen:"
   ]
  },
  {
   "cell_type": "code",
   "execution_count": 9,
   "id": "5df2c316-fb1a-4707-90dd-434154738168",
   "metadata": {},
   "outputs": [
    {
     "name": "stdout",
     "output_type": "stream",
     "text": [
      "38.08675799086757 6.354165506118907e-06\n"
     ]
    }
   ],
   "source": [
    "F_emp_oneway, p_value_oneway = sta.f_oneway(schoko_df['Süßwarenabteilung'], \n",
    "                                            schoko_df['Sonderplatzierung'], \n",
    "                                            schoko_df['Kassenplatzierung'])\n",
    "print(F_emp_oneway, p_value_oneway)"
   ]
  },
  {
   "cell_type": "markdown",
   "id": "625eee9a-5b49-4bf7-8879-3209e9be3524",
   "metadata": {},
   "source": [
    "## Aufgabe\n",
    "\n",
    "Betrachten Sie die Datei *groessen.csv*, die Stichproben der Körpergrößen von Sportlern verschiedener Disziplinen enthält. Führen Sie eine Varianzanalyse des Einflussfaktors *Sportart* inklusive einer ANOVA-Tabelle durch."
   ]
  }
 ],
 "metadata": {
  "kernelspec": {
   "display_name": "base",
   "language": "python",
   "name": "python3"
  },
  "language_info": {
   "codemirror_mode": {
    "name": "ipython",
    "version": 3
   },
   "file_extension": ".py",
   "mimetype": "text/x-python",
   "name": "python",
   "nbconvert_exporter": "python",
   "pygments_lexer": "ipython3",
   "version": "3.12.7"
  }
 },
 "nbformat": 4,
 "nbformat_minor": 5
}
