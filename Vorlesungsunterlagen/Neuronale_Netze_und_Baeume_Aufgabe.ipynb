{
 "cells": [
  {
   "cell_type": "markdown",
   "id": "f36a248e-2cc7-4d16-a161-d32422b9e578",
   "metadata": {},
   "source": [
    "#### Business Analytics FHDW 2025\n",
    "\n",
    "## Aufgabe\n",
    "\n",
    "Analysieren Sie das KNN für unser Beispiel *TinyData* (aus `Neuronale_Netze_Einfuehrung.ipynb`) mit Hilfe eines Baums. \n",
    "\n",
    "Nutzen Sie den Datensatz selbst nicht zum Training des Baums, sondern nur zu seiner späteren Überprüfung. Sie müssen einen Baum also mit dem \"Verhalten\" des Neuronalen Netzes trainieren.\n",
    "\n",
    "1. Generieren Sie einen passenden Trainingsdatensatz für den Baum.\n",
    "2. Trainieren Sie einen passenden Baum.\n",
    "3. Welche Erkenntnisse über das KNN können wir aus dem Baum gewinnen?"
   ]
  }
 ],
 "metadata": {
  "kernelspec": {
   "display_name": "Python 3 (ipykernel)",
   "language": "python",
   "name": "python3"
  },
  "language_info": {
   "codemirror_mode": {
    "name": "ipython",
    "version": 3
   },
   "file_extension": ".py",
   "mimetype": "text/x-python",
   "name": "python",
   "nbconvert_exporter": "python",
   "pygments_lexer": "ipython3",
   "version": "3.12.3"
  }
 },
 "nbformat": 4,
 "nbformat_minor": 5
}
