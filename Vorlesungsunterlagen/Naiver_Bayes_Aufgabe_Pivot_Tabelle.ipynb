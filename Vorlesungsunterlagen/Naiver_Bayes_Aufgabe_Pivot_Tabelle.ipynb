{
 "cells": [
  {
   "cell_type": "markdown",
   "id": "adf5bdad-361a-4626-b4e1-e8e35716b5da",
   "metadata": {},
   "source": [
    "#### Business Analytics FHDW 2025\n",
    "## Aufgabe\n",
    "\n",
    "Die reine Nutzung von `MultinomialNB` ist einfach. Daher schauen wir uns die unterschiedlichen Anwendungen des Satzes von Bayes am Beispiel des Datensatzes *UniversalBank.csv* noch einmal genauer an. Teilen Sie den Datensatz dazu in 60% Trainingsdaten und 40% Validierungsdaten auf.\n",
    "\n",
    "1. Generieren Sie aus den Trainingsdaten eine *Pivot-Tabelle* mit *Online als Spaltenvariable*, *CreditCard als Zeilenvariable* und *PersonalLoan als sekundärer Zeilenvariable*. Nutzen Sie dazu die Dataframe-Methoden `melt` und `pivot_table`.\n",
    "\n",
    "2. Bestimmen Sie aus der Pivot-Tabelle die Wahrscheinlichkeit, dass eine Kundin, die eine Kreditkarte besitzt und Online Banking nutzt, ein Darlehen in Anspruch nimmt (das ist die bedingte Wahrscheinlichkeit $P(Loan=1|CC=1,Online=1)$ eines Darlehens unter den Voraussetzungen Kreditkarte und Online).\n",
    "\n",
    "3. Generieren Sie zwei weitere Pivot-Tabellen aus den Trainingsdaten: Eine mit Spaltenvariable *Online*, eine mit Spaltenvariable *CreditCard*, beide mit *PersonalLoan* als Zeilenvariable.\n",
    "\n",
    "4. Bestimmen Sie folgende Wahrscheinlichkeiten aus den Werten der Pivot-Tabellen (CC = CreditCard):<br>\n",
    "$P(CC=1|Loan=1)$ <br>\n",
    "$P(Online=1|Loan=1)$<br>\n",
    "$P(Loan=1)$<br>\n",
    "$P(CC=1|Loan=0)$<br>\n",
    "$P(Online=1|Loan=0)$<br>\n",
    "$P(Loan=0)$<br>\n",
    "\n",
    "5. Ermitteln Sie aus den Werten oben die Naive-Bayes-Wahrscheinlichkeit $P_{nb}(Loan=1|CC=1,Online=1)$. Vergleichen Sie diese mit dem Wert von oben. Welches ist der genauere Wert?\n",
    "\n",
    "6. Generieren Sie für die Trainingsdaten ein Modell mit `MultinomialNB` und ermitteln Sie damit die Wahrscheinlichkeit $P(Loan=1|CC=1,Online=1)$."
   ]
  },
  {
   "cell_type": "markdown",
   "id": "f80eef69-90bc-4b57-b0a6-d1b5593b226d",
   "metadata": {},
   "source": [
    "## Zu 1\n",
    "\n",
    "Wir teilen zunächst die Daten auf."
   ]
  },
  {
   "cell_type": "code",
   "execution_count": null,
   "id": "a4cb9411-2d1f-49c2-b755-6f09152b7abb",
   "metadata": {},
   "outputs": [],
   "source": [
    "import pandas as pd\n",
    "import numpy as np\n",
    "from sklearn.model_selection import train_test_split\n",
    "from sklearn.naive_bayes import MultinomialNB\n",
    "\n",
    "banking_df = pd.read_csv('./Daten/UniversalBank.csv')\n",
    "banking_df"
   ]
  },
  {
   "cell_type": "code",
   "execution_count": null,
   "id": "6d73f3b8-5420-4440-ad94-8d5d523d3c94",
   "metadata": {},
   "outputs": [],
   "source": [
    "predictors = ['Online', 'CreditCard']\n",
    "outcome = 'PersonalLoan'\n",
    "\n",
    "X =  banking_df[predictors]\n",
    "y =  banking_df[outcome]\n",
    "X_train, X_valid, y_train, y_valid = train_test_split(X, y, test_size=0.4, random_state=1)"
   ]
  },
  {
   "cell_type": "markdown",
   "id": "064013ba-2f77-465e-bd2f-deae002e649f",
   "metadata": {},
   "source": [
    "In einem leicht redundanten Schritt vervollständigen wir die Trainingsdaten wieder mit den Zieldaten des Darlehens. Zur Vorbereitung der Pivot-Tabelle verschmelzen wir die Spalten *CreditCard* und *PersonalLoan*. Aus dem Ergebnis erzeugen wir die gesuchte Pivot-Tabelle."
   ]
  },
  {
   "cell_type": "code",
   "execution_count": null,
   "id": "60f04095-a085-4b7d-b13f-5f074c10b744",
   "metadata": {},
   "outputs": [],
   "source": [
    "train_df = pd.concat([X_train, y_train], axis=1)\n",
    "print(train_df)\n",
    "tmp_df = train_df.melt(id_vars=['CreditCard', 'PersonalLoan'])\n",
    "tmp_df = tmp_df.rename(columns = {'value':'Online'})\n",
    "\n",
    "tmp_df"
   ]
  },
  {
   "cell_type": "code",
   "execution_count": null,
   "id": "9dbbad73-8737-44dc-8743-bfc65f55c3c8",
   "metadata": {},
   "outputs": [],
   "source": [
    "pivot_table_1_df = tmp_df.pivot_table(values=['CreditCard', 'PersonalLoan'], \n",
    "                                      index=['CreditCard','PersonalLoan'], \n",
    "                                      columns='Online', aggfunc='count')\n",
    "pivot_table_1_df"
   ]
  }
 ],
 "metadata": {
  "kernelspec": {
   "display_name": "Python 3 (ipykernel)",
   "language": "python",
   "name": "python3"
  },
  "language_info": {
   "codemirror_mode": {
    "name": "ipython",
    "version": 3
   },
   "file_extension": ".py",
   "mimetype": "text/x-python",
   "name": "python",
   "nbconvert_exporter": "python",
   "pygments_lexer": "ipython3",
   "version": "3.12.3"
  }
 },
 "nbformat": 4,
 "nbformat_minor": 5
}
