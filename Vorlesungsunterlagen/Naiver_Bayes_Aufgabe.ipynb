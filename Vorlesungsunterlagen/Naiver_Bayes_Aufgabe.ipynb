{
 "cells": [
  {
   "cell_type": "markdown",
   "id": "adf5bdad-361a-4626-b4e1-e8e35716b5da",
   "metadata": {},
   "source": [
    "#### Business Analytics FHDW 2025\n",
    "## Aufgabe\n",
    "\n",
    "Die reine Nutzung von `MultinomialNB` ist einfach. Daher schauen wir uns die unterschiedlichen Anwendungen des Satzes von Bayes am Beispiel des Datensatzes *UniversalBank.csv* noch einmal genauer an. Teilen Sie den Datensatz dazu in 60% Trainingsdaten und 40% Validierungsdaten auf.\n",
    "\n",
    "1. Generieren Sie aus den Trainingsdaten eine *Pivot-Tabelle* mit *Online als Spaltenvariable*, *CreditCard als Zeilenvariable* und *PersonalLoan als sekundärer Zeilenvariable*. Nutzen Sie dazu die Dataframe-Methoden `melt` und `pivot_table`.\n",
    "\n",
    "2. Bestimmen Sie aus der Pivot-Tabelle die Wahrscheinlichkeit, dass eine Kundin, die eine Kreditkarte besitzt und Online Banking nutzt, ein Darlehen in Anspruch nimmt (das ist die bedingte Wahrscheinlichkeit $P(Loan=1|CC=1,Online=1)$ eines Darlehens unter den Voraussetzungen Kreditkarte und Online).\n",
    "\n",
    "3. Generieren Sie zwei weitere Pivot-Tabellen aus den Trainingsdaten: Eine mit Spaltenvariable *Online*, eine mit Spaltenvariable *CreditCard*, beide mit *PersonalLoan* als Zeilenvariable.\n",
    "\n",
    "4. Bestimmen Sie folgende Wahrscheinlichkeiten aus den Werten der Pivot-Tabellen (CC = CreditCard):<br>\n",
    "$P(CC=1|Loan=1)$ <br>\n",
    "$P(Online=1|Loan=1)$<br>\n",
    "$P(Loan=1)$<br>\n",
    "$P(CC=1|Loan=0)$<br>\n",
    "$P(Online=1|Loan=0)$<br>\n",
    "$P(Loan=0)$<br>\n",
    "\n",
    "5. Ermitteln Sie aus den Werten oben die Naive-Bayes-Wahrscheinlichkeit $P_{nb}(Loan=1|CC=1,Online=1)$. Vergleichen Sie diese mit dem Wert von oben. Welches ist der genauere Wert?\n",
    "\n",
    "6. Generieren Sie für die Trainingsdaten ein Modell mit `MultinomialNB` und ermitteln Sie damit die Wahrscheinlichkeit $P(Loan=1|CC=1,Online=1)$."
   ]
  },
  {
   "cell_type": "markdown",
   "id": "f80eef69-90bc-4b57-b0a6-d1b5593b226d",
   "metadata": {},
   "source": [
    "## Zu 1\n",
    "\n",
    "Wir teilen zunächst die Daten auf."
   ]
  },
  {
   "cell_type": "code",
   "execution_count": null,
   "id": "a4cb9411-2d1f-49c2-b755-6f09152b7abb",
   "metadata": {},
   "outputs": [],
   "source": [
    "import pandas as pd\n",
    "import numpy as np\n",
    "from sklearn.model_selection import train_test_split\n",
    "from sklearn.naive_bayes import MultinomialNB\n",
    "\n",
    "banking_df = pd.read_csv('./Daten/UniversalBank.csv')\n",
    "banking_df"
   ]
  },
  {
   "cell_type": "code",
   "execution_count": null,
   "id": "6d73f3b8-5420-4440-ad94-8d5d523d3c94",
   "metadata": {},
   "outputs": [],
   "source": [
    "predictors = ['Online', 'CreditCard']\n",
    "outcome = 'PersonalLoan'\n",
    "\n",
    "X =  banking_df[predictors]\n",
    "y =  banking_df[outcome]\n",
    "X_train, X_valid, y_train, y_valid = train_test_split(X, y, test_size=0.4, random_state=1)"
   ]
  },
  {
   "cell_type": "markdown",
   "id": "064013ba-2f77-465e-bd2f-deae002e649f",
   "metadata": {},
   "source": [
    "In einem leicht redundaten Schritt vervollständigen wir die Trainingsdaten wieder mit den Zieldaten des Darlehens. Zur Vorbereitung der Pivot-Tabelle verschmelzen wir die Spalten *CreditCard* und *PersonalLoan*. Aus dem Ergebnis erzeugen wir die gesuchte Pivot-Tabelle."
   ]
  },
  {
   "cell_type": "code",
   "execution_count": null,
   "id": "60f04095-a085-4b7d-b13f-5f074c10b744",
   "metadata": {},
   "outputs": [],
   "source": [
    "train_df = pd.concat([X_train, y_train], axis=1)\n",
    "print(train_df)\n",
    "tmp_df = train_df.melt(id_vars=['CreditCard', 'PersonalLoan'])\n",
    "tmp_df = tmp_df.rename(columns = {'value':'Online'})\n",
    "\n",
    "tmp_df"
   ]
  },
  {
   "cell_type": "code",
   "execution_count": null,
   "id": "9dbbad73-8737-44dc-8743-bfc65f55c3c8",
   "metadata": {},
   "outputs": [],
   "source": [
    "pivot_table_1_df = tmp_df.pivot_table(values=['CreditCard', 'PersonalLoan'], \n",
    "                                      index=['CreditCard','PersonalLoan'], \n",
    "                                      columns='Online', aggfunc='count')\n",
    "pivot_table_1_df"
   ]
  },
  {
   "cell_type": "markdown",
   "id": "763486a3-53a9-4e1a-941a-d1c6127a601b",
   "metadata": {},
   "source": [
    "## Zu 2"
   ]
  },
  {
   "cell_type": "code",
   "execution_count": null,
   "id": "640e0db9-c0ba-4b55-ae9f-efdd872b719a",
   "metadata": {},
   "outputs": [],
   "source": [
    "# Laut Tabelle:\n",
    "darlehen_von_menge_mit_kreditkarte_und_online = 49\n",
    "menge_mit_kreditkarte_und_online = 49+477\n",
    "\n",
    "print(darlehen_von_menge_mit_kreditkarte_und_online/menge_mit_kreditkarte_und_online)\n",
    "\n",
    "# Zur Kontrolle aus Datensatz:\n",
    "len(train_df[(train_df.Online==1) \n",
    "             & (train_df.CreditCard==1) \n",
    "             & (train_df.PersonalLoan==1)])/len(train_df[(train_df.Online==1) \n",
    "                                                         & (train_df.CreditCard==1)])"
   ]
  },
  {
   "cell_type": "markdown",
   "id": "0c49b8bf-e33f-461a-ad20-1795ae44b564",
   "metadata": {},
   "source": [
    "## Zu 3"
   ]
  },
  {
   "cell_type": "code",
   "execution_count": null,
   "id": "fce02e31-e600-4647-bd2e-0415945ee1ff",
   "metadata": {},
   "outputs": [],
   "source": [
    "pivot_table_Online_df = train_df.pivot_table(values='PersonalLoan', \n",
    "                                             index='PersonalLoan', \n",
    "                                             columns='Online', \n",
    "                                             aggfunc='count')\n",
    "pivot_table_Online_df"
   ]
  },
  {
   "cell_type": "code",
   "execution_count": null,
   "id": "61589b04-1510-4922-adb9-1e4291151eb6",
   "metadata": {},
   "outputs": [],
   "source": [
    "pivot_table_CreditCard_df = train_df.pivot_table(values='PersonalLoan', \n",
    "                                                 index='PersonalLoan', \n",
    "                                                 columns='CreditCard',\n",
    "                                                 aggfunc='count')\n",
    "pivot_table_CreditCard_df"
   ]
  },
  {
   "cell_type": "markdown",
   "id": "84335cd9-de0b-4140-9d8e-a16a759762bf",
   "metadata": {},
   "source": [
    "## Zu 4"
   ]
  },
  {
   "cell_type": "code",
   "execution_count": null,
   "id": "17613d16-1015-4c73-8c02-6b4e1eeed05c",
   "metadata": {},
   "outputs": [],
   "source": [
    "P_CC_1_Loan_1 = 88/(199+88)\n",
    "P_Online_1_Loan_1 = 175/(112+175)\n",
    "P_Loan_1 = (112+175)/(1119+1594+112+175)\n",
    "P_CC_1_Loan_0 = 804/(804+1909)\n",
    "P_Online_1_Loan_0 = 1594/(1119+1594)\n",
    "P_Loan_0 = (1119+1594)/(1119+1594+112+175)\n",
    "\n",
    "print(f'P(CC=1|Loan=1) = {P_CC_1_Loan_1}')\n",
    "print(f'P(Online=1|Loan=1) = {P_Online_1_Loan_1}')\n",
    "print(f'P(Loan=1) = {P_Loan_1}')\n",
    "print(f'P(CC=1|Loan=0) = {P_CC_1_Loan_0}')\n",
    "print(f'P(Online=1|Loan=0) = {P_Online_1_Loan_0}')\n",
    "print(f'P(Loan=0) = {P_Loan_0}')"
   ]
  },
  {
   "cell_type": "markdown",
   "id": "7d8546b1-11d8-416e-bde4-073366efb8a7",
   "metadata": {},
   "source": [
    "## Zu 5\n",
    "\n",
    "$P_{nb}(Loan=1|CC=1,Online=1) = \\frac{P(Loan=1)(P(CC=1|Loan=1)P(Online=1|Loan=1))}{P(Loan=1)(P(CC=1|Loan=1)P(Online=1|Loan=1))+P(Loan=0)(P(CC=1|Loan=0)P(Online=1|Loan=0))}$\n"
   ]
  },
  {
   "cell_type": "code",
   "execution_count": null,
   "id": "8845f072-6dde-44ff-94c8-9cfe8062ba15",
   "metadata": {},
   "outputs": [],
   "source": [
    "P_nb_Loan_1_CC_1_Online_1 = (P_Loan_1*P_CC_1_Loan_1*P_Online_1_Loan_1)/((P_Loan_1*P_CC_1_Loan_1*P_Online_1_Loan_1)+(P_Loan_0*P_CC_1_Loan_0*P_Online_1_Loan_0))\n",
    "P_nb_Loan_1_CC_1_Online_1"
   ]
  },
  {
   "cell_type": "markdown",
   "id": "db1a25fe-c6e4-4a97-a919-360e0982beba",
   "metadata": {},
   "source": [
    "## Zu 6"
   ]
  },
  {
   "cell_type": "code",
   "execution_count": null,
   "id": "d5e35933-1e68-4503-9c33-f24f184f86cd",
   "metadata": {},
   "outputs": [],
   "source": [
    "loans_nb = MultinomialNB(alpha=0.01)\n",
    "loans_nb.fit(X_train, y_train)\n",
    "\n",
    "print(loans_nb.predict_proba(pd.DataFrame([{'Online':1,'CreditCard':1}])))\n",
    "loans_nb.predict_proba(pd.DataFrame([{'Online':1,'CreditCard':1}]))[0][1]"
   ]
  }
 ],
 "metadata": {
  "kernelspec": {
   "display_name": "Python 3 (ipykernel)",
   "language": "python",
   "name": "python3"
  },
  "language_info": {
   "codemirror_mode": {
    "name": "ipython",
    "version": 3
   },
   "file_extension": ".py",
   "mimetype": "text/x-python",
   "name": "python",
   "nbconvert_exporter": "python",
   "pygments_lexer": "ipython3",
   "version": "3.12.3"
  }
 },
 "nbformat": 4,
 "nbformat_minor": 5
}
