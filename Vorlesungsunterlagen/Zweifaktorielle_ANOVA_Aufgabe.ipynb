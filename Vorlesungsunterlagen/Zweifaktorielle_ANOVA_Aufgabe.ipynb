{
 "cells": [
  {
   "cell_type": "markdown",
   "id": "6053d7ae-c8bd-4b10-89bd-5f5d714aa313",
   "metadata": {},
   "source": [
    "#### Business Analytics FHDW 2025\n",
    "## Aufgabe\n",
    "\n",
    "Mit dem Datensatz *groessen_2.csv* beziehen wir nun auch das Geschlecht mit ein. Führen Sie eine zweifaktorielle Varianzanalyse durch. Formen Sie den DataFrame dazu ggf. passend um."
   ]
  },
  {
   "cell_type": "code",
   "execution_count": null,
   "id": "3772f699-4d01-4c49-a2ca-79f9c0707bdc",
   "metadata": {},
   "outputs": [],
   "source": [
    "import pandas as pd\n",
    "import numpy as np\n",
    "import matplotlib.pylab as plt\n",
    "import scipy.stats as sta\n",
    "\n",
    "groessen_datei_df = pd.read_csv('Daten/groessen_2.csv')\n",
    "\n",
    "print(\"Die ursprüngliche Datei:\")\n",
    "print(groessen_datei_df)\n",
    "\n",
    "groessen_datei_df.index = groessen_datei_df.Geschlecht\n",
    "\n",
    "# Wir legen eine neue Tabelle mit einer anderen Struktur an:\n",
    "groessen_df = pd.DataFrame(columns=['Sportart', 'w', 'm'])\n",
    "groessen_df.index = groessen_df.Sportart\n",
    "\n",
    "print(\"Alle Spalten außer Geschlecht liefern die Sportarten:\")\n",
    "print(groessen_datei_df.columns.difference(['Geschlecht']))\n",
    "\n",
    "for c in groessen_datei_df.columns.difference(['Geschlecht']):\n",
    "    # Wir bauen direkt für jede Sportart c\n",
    "    # die kompletten Spalten für w und m:\n",
    "    col_w = groessen_datei_df[c].loc['w'].values\n",
    "    col_m = groessen_datei_df[c].loc['m'].values\n",
    "    # Dann iterieren wir über die Spalten und fügen mit deren Inhalten\n",
    "    # einen neuen Datensatz an unsere neue Tabelle:\n",
    "    for i in range(0, len(col_w)):\n",
    "        groessen_df = pd.concat([groessen_df, \n",
    "                                 pd.DataFrame([{'Sportart':c, 'w':col_w[i], 'm':col_m[i]}])], ignore_index=True)\n",
    "\n",
    "groessen_df"
   ]
  },
  {
   "cell_type": "code",
   "execution_count": null,
   "id": "6a6d6144-5751-4926-a776-e7b9f4929e58",
   "metadata": {},
   "outputs": [],
   "source": [
    "groessen_df.index=groessen_df.Sportart\n",
    "\n",
    "mittelwerte_df = pd.DataFrame(columns=['w','m','Randmittel', 'Wahrer Effekt'], \n",
    "                              index=['Turnen','Fussball','Volleyball','Randmittel','Wahrer Effekt'])\n",
    "for p in set(groessen_df.index):\n",
    "        mittelwerte_df['w'][p] = groessen_df['w'][p].mean()\n",
    "        mittelwerte_df['m'][p] = groessen_df['m'][p].mean()\n",
    "        mittelwerte_df['Randmittel'][p] = (mittelwerte_df['w'][p]+mittelwerte_df['m'][p])/2\n",
    "\n",
    "mittelwerte_df['w']['Randmittel'] = mittelwerte_df['w'].mean()\n",
    "mittelwerte_df['m']['Randmittel'] = mittelwerte_df['m'].mean()\n",
    "mittelwerte_df['Randmittel']['Randmittel'] = (mittelwerte_df['w']['Randmittel']\n",
    "                                                          +mittelwerte_df['m']['Randmittel'])/2\n",
    "\n",
    "mittelwerte_df['Wahrer Effekt'] = mittelwerte_df['Randmittel']-mittelwerte_df['Randmittel']['Randmittel']\n",
    "mittelwerte_df['w']['Wahrer Effekt'] = mittelwerte_df['w']['Randmittel']-mittelwerte_df['Randmittel']['Randmittel']\n",
    "mittelwerte_df['m']['Wahrer Effekt'] = mittelwerte_df['m']['Randmittel']-mittelwerte_df['Randmittel']['Randmittel']\n",
    "\n",
    "mittelwerte_df"
   ]
  },
  {
   "cell_type": "markdown",
   "id": "697ea0b5-9a79-4c86-8dcc-6b51dc7b6ef7",
   "metadata": {},
   "source": [
    "Grafische Darstellung der Faktorstufenmittelwerte in Abhängigkeit zu den Stufen eines anderen Faktors. Interaktionswirkung zeigt sich hier, wenn die Verbindungslinien zwischen den Mittelwerten *nicht parallel* verlaufen."
   ]
  },
  {
   "cell_type": "code",
   "execution_count": null,
   "id": "45302d45-692e-402e-bc54-c348565a50a6",
   "metadata": {},
   "outputs": [],
   "source": [
    "plt.xticks(ticks=[0,1,2], labels=['Turnen','Fussball','Volleyball'])\n",
    "plt.plot([mittelwerte_df.w.Turnen, \n",
    "          mittelwerte_df.w.Fussball, \n",
    "          mittelwerte_df.w.Volleyball], label='w')\n",
    "plt.plot([mittelwerte_df.m.Turnen, \n",
    "          mittelwerte_df.m.Fussball, \n",
    "          mittelwerte_df.m.Volleyball], label='m')\n",
    "plt.legend()\n",
    "plt.show()"
   ]
  },
  {
   "cell_type": "markdown",
   "id": "f039a65b-dac6-4bbe-b7a1-9d8585901e91",
   "metadata": {},
   "source": [
    "### Zerlegung der Streuung und Modellgüte"
   ]
  },
  {
   "cell_type": "code",
   "execution_count": null,
   "id": "712986e5-454d-4f31-8161-f8063c201c04",
   "metadata": {},
   "outputs": [],
   "source": [
    "G = 3 # Anzahl Sportarten (Faktorstufen Faktor A)\n",
    "H = 2 # Anzahl Geschlechter (Faktorstufen Faktor B)\n",
    "N = 5 # Anzahl Elemente in Zelle (g, h)\n",
    "gesamtmittel = mittelwerte_df.Randmittel.Randmittel\n",
    "\n",
    "faktor_A = ['Turnen','Fussball','Volleyball']\n",
    "faktor_B = ['w', 'm']\n",
    "\n",
    "SSA = H * N * np.sum([(mittelwerte_df.Randmittel[g]-gesamtmittel)**2 for g in faktor_A])\n",
    "SSB = G * N * np.sum([(mittelwerte_df[h].Randmittel-gesamtmittel)**2 for h in faktor_B])\n",
    "SSAxB = N * np.sum([np.sum([(mittelwerte_df[h][g]\n",
    "                             -(mittelwerte_df[h].Randmittel+mittelwerte_df.Randmittel[g]-gesamtmittel))**2 \n",
    "                            for h in faktor_B]) \n",
    "                    for g in faktor_A])\n",
    "SSw = np.sum([np.sum([np.sum([(groessen_df[h][g][i]-mittelwerte_df[h][g])**2 for i in range(0,N)]) for h in faktor_B]) for g in faktor_A])\n",
    "SSb = SSA + SSB + SSAxB\n",
    "SSt = SSb + SSw"
   ]
  },
  {
   "cell_type": "markdown",
   "id": "7b89e95a-9cf4-4a5e-abf4-34c1d5678dee",
   "metadata": {},
   "source": [
    "$EtaQuadrat_{faktor} = \\frac{SS_{faktor}}{SS_{faktor}+SS_w}$ als eine erste Beurteilung der Modellgüte:"
   ]
  },
  {
   "cell_type": "code",
   "execution_count": null,
   "id": "48ea4eed-ab66-4065-a3d4-d6d32a8dccbb",
   "metadata": {},
   "outputs": [],
   "source": [
    "eta_quadrat = SSb/SSt\n",
    "print(\"Eta-Quadrat = {:.4f}%, {:.4f}% bleiben unerklärt.\".format(eta_quadrat*100,(1-eta_quadrat)*100))\n",
    "partielle_eta_Q_df = pd.DataFrame({'Quelle': ['Sportart', 'Geschlecht', 'Interaktion'],\n",
    "                                   'Quadrate (erklärt)': [SSA, SSB, SSAxB],\n",
    "                                   'Fehler (unerklärt)': [SSw, SSw, SSw],\n",
    "                                   'Gesamtabweichung': [SSA+SSw, SSB+SSw, SSAxB+SSw],\n",
    "                                   'Partielles Eta-Quadrat': [SSA/(SSA+SSw),SSB/(SSB+SSw),SSAxB/(SSAxB+SSw)]})\n",
    "partielle_eta_Q_df"
   ]
  },
  {
   "cell_type": "markdown",
   "id": "f15f841d-e22e-4f6a-9d0e-7ebef9ec2d0a",
   "metadata": {},
   "source": [
    "### Prüfung der statistischen Signifikanzen\n",
    "\n",
    "Der Signifikanztest für das zweifaktorielle Modell entspricht als Quotient aus erklärter und nicht erklärter Varianz dem einfachen Modell, berücksichtigt aber unterschiedliche Freiheitsgrade:\n",
    "\n",
    "$F_{emp} = \\frac{SS_b/(G \\cdot H-1)}{SS_w/(G \\cdot H \\cdot (N - 1))}=\\frac{MS_b}{MS_w}$\n",
    "\n",
    "Dazu setzen wir wieder die *ANOVA-Tabelle* zusammen."
   ]
  },
  {
   "cell_type": "code",
   "execution_count": null,
   "id": "62fcf658-14e2-497c-acbd-2a9d2e6ab241",
   "metadata": {},
   "outputs": [],
   "source": [
    "df_A = G-1\n",
    "df_B = H-1\n",
    "df_AxB = (G-1)*(H-1)\n",
    "df_w = G*H*(N-1)\n",
    "df_t = G*H*N-1\n",
    "df_b = G*H-1\n",
    "\n",
    "MSb = SSb/df_b\n",
    "MSw = SSw/df_w\n",
    "F_emp = MSb/MSw\n",
    "\n",
    "anova_df = pd.DataFrame({'Varianzquelle': ['Haupteffekte', 'Sportart', 'Geschlecht', 'Interaktion', 'Sportart*Geschlecht', 'Reststreuung', 'Total'],\n",
    "                         'SS': ['-', SSA, SSB, '-', SSAxB, SSw, SSt],\n",
    "                         'df': ['-', df_A, df_B, '-', df_AxB, df_w, df_t],\n",
    "                         'MS': ['-', SSA/df_A, SSB/df_B, '-', SSAxB/df_AxB, SSw/df_w, SSt/df_t]})\n",
    "anova_df"
   ]
  },
  {
   "cell_type": "markdown",
   "id": "a99ea38b-f9da-476f-841e-52aed2ac5c9c",
   "metadata": {},
   "source": [
    "Führen wir zunächst den zusammengefassten bzw. globalen Test durch.\n",
    "\n",
    "Für $\\alpha=0.05$ ermitteln wir den passenden Wert der F-Verteilung $F_\\alpha$, den wir mit dem $F_{emp}$ von oben vergleichen:"
   ]
  },
  {
   "cell_type": "code",
   "execution_count": null,
   "id": "7c77cd14-3578-4989-93a4-31f407dcc81d",
   "metadata": {},
   "outputs": [],
   "source": [
    "F_alpha = sta.f.ppf(0.95, dfn=df_b, dfd=df_w)\n",
    "p_value = (1 - sta.f.cdf(F_emp, dfn=df_b, dfd=df_w))\n",
    "print('F_emp = {:.2f}\\nF_alpha = {:.2f}\\np = {}'.format(F_emp, F_alpha, p_value))"
   ]
  },
  {
   "cell_type": "markdown",
   "id": "79116354-2b92-4751-b395-da48b19d699e",
   "metadata": {},
   "source": [
    "Damit gilt wieder $F_{emp} > F_\\alpha$ und wir verwerfen hier die Nullhypothese: Wir können also davon ausgehen, dass mindestens eine der Faktorstufen Einfluss auf die Größe hat. Der dazugehörige $p$-Wert ist praktisch null.\n",
    "\n",
    "Für das Konfidenzniveau von 95% betrachten wir nun auch noch die spezifischen F-Tests:"
   ]
  },
  {
   "cell_type": "code",
   "execution_count": null,
   "id": "f5dcc3c8-4513-43e5-8ed5-e7d7966410fc",
   "metadata": {},
   "outputs": [],
   "source": [
    "spez_F_tests = pd.DataFrame({'Varianzquelle': ['Sportart','Geschlecht','Interaktion'],\n",
    "                             'df (Zähler)': [df_A, df_B, df_AxB],\n",
    "                             'df (Nenner)': [df_w, df_w, df_w],\n",
    "                             'F_alpha': [sta.f.ppf(0.95, dfn=df_A, dfd=df_w), \n",
    "                                         sta.f.ppf(0.95, dfn=df_B, dfd=df_w), \n",
    "                                         sta.f.ppf(0.95, dfn=df_AxB, dfd=df_w)],\n",
    "                             'F_emp': [(SSA/df_A)/MSw, (SSB/df_B)/MSw, (SSAxB/df_AxB)/MSw]})\n",
    "spez_F_tests"
   ]
  },
  {
   "cell_type": "markdown",
   "id": "8467f784-400c-4308-9750-1bffab19afe3",
   "metadata": {},
   "source": [
    "Hier sehen wir, dass für die beiden Faktoren die Nullhypothese verworfen werden kann, für die Interaktion aber nicht. Sportart und Geschlecht haben isoliert betrachtet jeweils eine Wirkung auf die Größe, die *gemeinsame Wirkung* von Sportart und Geschlecht ist aber nicht signifikant."
   ]
  }
 ],
 "metadata": {
  "kernelspec": {
   "display_name": "Python 3 (ipykernel)",
   "language": "python",
   "name": "python3"
  },
  "language_info": {
   "codemirror_mode": {
    "name": "ipython",
    "version": 3
   },
   "file_extension": ".py",
   "mimetype": "text/x-python",
   "name": "python",
   "nbconvert_exporter": "python",
   "pygments_lexer": "ipython3",
   "version": "3.12.3"
  }
 },
 "nbformat": 4,
 "nbformat_minor": 5
}
