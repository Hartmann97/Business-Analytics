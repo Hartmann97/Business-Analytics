{
 "cells": [
  {
   "cell_type": "markdown",
   "id": "9999861c-e257-4dbd-99d4-82122dc91f61",
   "metadata": {},
   "source": [
    "#### Business Analytics FHDW 2024\n",
    "## Aufgabe\n",
    "\n",
    "Führen Sie die PCA *auf Basis von Eigenvektoren* für das Beispiel Kalorien und Bewertung *in normierter Form* durch. Stellen Sie die einzelnen Schritte wie oben dar. Hilfe zum Vorgehen:\n",
    "\n",
    "1. Wie gewohnt die Daten einlesen, dann aber mit `preprocessing.scale` die Daten normieren.\n",
    "2. Die normierten Daten von *calories* und *rating* mit ihren Eigenvektoren darstellen.\n",
    "3. Mit einer `PCA` und `fit` prüfen, ob die Eigenvektoren aus 2 stimmen (und sich im Graphen nicht durch die Richtungen irritieren lassen :-)"
   ]
  },
  {
   "cell_type": "code",
   "execution_count": null,
   "id": "b3ae6517-ccd2-40cf-a663-fe5e691c7a48",
   "metadata": {},
   "outputs": [],
   "source": [
    "import pandas as pd\n",
    "from sklearn import preprocessing\n",
    "from sklearn.decomposition import PCA\n",
    "import numpy as np\n",
    "\n",
    "def pcaSummary(pca):\n",
    "    return pd.DataFrame({'Varianz':pca.explained_variance_,\n",
    "                         'Kumulierte Varianz':np.cumsum(pca.explained_variance_),\n",
    "                         'Varianzanteil':pca.explained_variance_ratio_,\n",
    "                         'Kumulierte Anteile':np.cumsum(pca.explained_variance_ratio_)})\n",
    "\n",
    "cereals_df = pd.read_csv('./Daten/cereal.csv')\n",
    "print(cereals_df)\n",
    "cereals_scaled = pd.DataFrame(preprocessing.scale(cereals_df.iloc[:, 3:].dropna(axis=0)))\n",
    "print(cereals_scaled)\n",
    "plot_2 = cereals_scaled.plot.scatter(x=0,y=12)\n",
    "\n",
    "cov_matrix = cereals_scaled[[0, 12]].cov()\n",
    "eigenvalues_norm, eigenvectors_norm = np.linalg.eig(cov_matrix)\n",
    "\n",
    "print(\"Der erste Eigenvektor {} hat den Eigenwert {:.4f}.\".format(eigenvectors_norm[:,0], eigenvalues_norm[0]))\n",
    "print(\"Der zweite Eigenvektor {} hat den Eigenwert {:.4f}.\".format(eigenvectors_norm[:,1], eigenvalues_norm[1]))\n",
    "print(\"Summe der Eigenwerte = {}\".format(eigenvalues_norm[0]+eigenvalues_norm[1]))\n",
    "\n",
    "plot_2.quiver(*eigenvectors_norm[:,0], color=['g'], scale=3)\n",
    "plot_2.quiver(*eigenvectors_norm[:,1], color=['r'], scale=5)"
   ]
  },
  {
   "cell_type": "code",
   "execution_count": null,
   "id": "d90593b8-7564-40e1-a455-822dfb8ca159",
   "metadata": {},
   "outputs": [],
   "source": [
    "pca_normalized_exercise = PCA(n_components=2)\n",
    "pca_normalized_exercise.fit(preprocessing.scale(cereals_df[[\"calories\",\"rating\"]]))\n",
    "pca_normalized_exercise_summary = pcaSummary(pca_normalized_exercise)\n",
    "pca_normalized_exercise_summary = pca_normalized_exercise_summary.transpose()\n",
    "pca_normalized_exercise_summary.columns = [\"PC1\",\"PC2\"]\n",
    "print(pca_normalized_exercise_summary.to_string()+\"\\n\")\n",
    "pca_normalized_exercise_components = pd.DataFrame(pca_normalized_exercise.components_.transpose(),columns=[\"PC1\",\"PC2\"],index=[\"calories\",\"rating\"])\n",
    "print(pca_normalized_exercise_components.to_string()+\"\\n\")\n",
    "plot_2 = cereals_scaled.plot.scatter(x=0,y=12)\n",
    "plot_2.quiver(*pca_normalized_exercise_components[\"PC1\"], color=['g'], scale=3)\n",
    "plot_2.quiver(*pca_normalized_exercise_components[\"PC2\"], color=['r'], scale=5)"
   ]
  }
 ],
 "metadata": {
  "kernelspec": {
   "display_name": "Python 3 (ipykernel)",
   "language": "python",
   "name": "python3"
  },
  "language_info": {
   "codemirror_mode": {
    "name": "ipython",
    "version": 3
   },
   "file_extension": ".py",
   "mimetype": "text/x-python",
   "name": "python",
   "nbconvert_exporter": "python",
   "pygments_lexer": "ipython3",
   "version": "3.12.3"
  }
 },
 "nbformat": 4,
 "nbformat_minor": 5
}
