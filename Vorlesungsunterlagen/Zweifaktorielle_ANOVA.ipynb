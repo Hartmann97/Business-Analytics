{
 "cells": [
  {
   "cell_type": "markdown",
   "id": "6053d7ae-c8bd-4b10-89bd-5f5d714aa313",
   "metadata": {},
   "source": [
    "#### Business Analytics FHDW 2025\n",
    "# Zweifaktorielle Varianzanalyse\n",
    "## am erweiterten Beispiel von Schokolade\n",
    "\n",
    "Wir erweitern das Szenario aus der einfaktoriellen ANOVA: Haben neben den Platzierungen auch die Verpackungsarten *Box* oder *Papier* Einfluss auf den Absatz? Bei drei Platzierungs- und zwei Verpackungsarten ergibt sich ein 3\\*2-faktorielles Design des Experiments. Eine solche gleichzeitige Betrachtung der Faktoren statt der jeweils gesonderten Untersuchung hat den Vorteil, dass wir so auch die Wechselwirkungen (*Interaktionseffekte*) zwischen den Faktoren berücksichtigen und sich die nichterklärte Varianz verringern lässt.\n",
    "\n",
    "In den 15 zufällig ausgewählten Märkten wird nun Schokolade sowohl in der Box als auch im Papier angeboten. Die resultierenden Zahlen lesen wir aus einer Beispieldatei ein."
   ]
  },
  {
   "cell_type": "code",
   "execution_count": 1,
   "id": "3772f699-4d01-4c49-a2ca-79f9c0707bdc",
   "metadata": {},
   "outputs": [
    {
     "data": {
      "text/html": [
       "<div>\n",
       "<style scoped>\n",
       "    .dataframe tbody tr th:only-of-type {\n",
       "        vertical-align: middle;\n",
       "    }\n",
       "\n",
       "    .dataframe tbody tr th {\n",
       "        vertical-align: top;\n",
       "    }\n",
       "\n",
       "    .dataframe thead th {\n",
       "        text-align: right;\n",
       "    }\n",
       "</style>\n",
       "<table border=\"1\" class=\"dataframe\">\n",
       "  <thead>\n",
       "    <tr style=\"text-align: right;\">\n",
       "      <th></th>\n",
       "      <th>Platzierung</th>\n",
       "      <th>Box</th>\n",
       "      <th>Papier</th>\n",
       "    </tr>\n",
       "  </thead>\n",
       "  <tbody>\n",
       "    <tr>\n",
       "      <th>0</th>\n",
       "      <td>Süßwarenabteilung</td>\n",
       "      <td>47</td>\n",
       "      <td>40</td>\n",
       "    </tr>\n",
       "    <tr>\n",
       "      <th>1</th>\n",
       "      <td>Süßwarenabteilung</td>\n",
       "      <td>39</td>\n",
       "      <td>39</td>\n",
       "    </tr>\n",
       "    <tr>\n",
       "      <th>2</th>\n",
       "      <td>Süßwarenabteilung</td>\n",
       "      <td>40</td>\n",
       "      <td>35</td>\n",
       "    </tr>\n",
       "    <tr>\n",
       "      <th>3</th>\n",
       "      <td>Süßwarenabteilung</td>\n",
       "      <td>46</td>\n",
       "      <td>36</td>\n",
       "    </tr>\n",
       "    <tr>\n",
       "      <th>4</th>\n",
       "      <td>Süßwarenabteilung</td>\n",
       "      <td>45</td>\n",
       "      <td>37</td>\n",
       "    </tr>\n",
       "    <tr>\n",
       "      <th>5</th>\n",
       "      <td>Sonderplatzierung</td>\n",
       "      <td>68</td>\n",
       "      <td>59</td>\n",
       "    </tr>\n",
       "    <tr>\n",
       "      <th>6</th>\n",
       "      <td>Sonderplatzierung</td>\n",
       "      <td>65</td>\n",
       "      <td>57</td>\n",
       "    </tr>\n",
       "    <tr>\n",
       "      <th>7</th>\n",
       "      <td>Sonderplatzierung</td>\n",
       "      <td>63</td>\n",
       "      <td>54</td>\n",
       "    </tr>\n",
       "    <tr>\n",
       "      <th>8</th>\n",
       "      <td>Sonderplatzierung</td>\n",
       "      <td>59</td>\n",
       "      <td>56</td>\n",
       "    </tr>\n",
       "    <tr>\n",
       "      <th>9</th>\n",
       "      <td>Sonderplatzierung</td>\n",
       "      <td>67</td>\n",
       "      <td>53</td>\n",
       "    </tr>\n",
       "    <tr>\n",
       "      <th>10</th>\n",
       "      <td>Kassenplatzierung</td>\n",
       "      <td>59</td>\n",
       "      <td>53</td>\n",
       "    </tr>\n",
       "    <tr>\n",
       "      <th>11</th>\n",
       "      <td>Kassenplatzierung</td>\n",
       "      <td>50</td>\n",
       "      <td>47</td>\n",
       "    </tr>\n",
       "    <tr>\n",
       "      <th>12</th>\n",
       "      <td>Kassenplatzierung</td>\n",
       "      <td>51</td>\n",
       "      <td>48</td>\n",
       "    </tr>\n",
       "    <tr>\n",
       "      <th>13</th>\n",
       "      <td>Kassenplatzierung</td>\n",
       "      <td>48</td>\n",
       "      <td>50</td>\n",
       "    </tr>\n",
       "    <tr>\n",
       "      <th>14</th>\n",
       "      <td>Kassenplatzierung</td>\n",
       "      <td>53</td>\n",
       "      <td>51</td>\n",
       "    </tr>\n",
       "  </tbody>\n",
       "</table>\n",
       "</div>"
      ],
      "text/plain": [
       "          Platzierung  Box  Papier\n",
       "0   Süßwarenabteilung   47      40\n",
       "1   Süßwarenabteilung   39      39\n",
       "2   Süßwarenabteilung   40      35\n",
       "3   Süßwarenabteilung   46      36\n",
       "4   Süßwarenabteilung   45      37\n",
       "5   Sonderplatzierung   68      59\n",
       "6   Sonderplatzierung   65      57\n",
       "7   Sonderplatzierung   63      54\n",
       "8   Sonderplatzierung   59      56\n",
       "9   Sonderplatzierung   67      53\n",
       "10  Kassenplatzierung   59      53\n",
       "11  Kassenplatzierung   50      47\n",
       "12  Kassenplatzierung   51      48\n",
       "13  Kassenplatzierung   48      50\n",
       "14  Kassenplatzierung   53      51"
      ]
     },
     "execution_count": 1,
     "metadata": {},
     "output_type": "execute_result"
    }
   ],
   "source": [
    "import pandas as pd\n",
    "import numpy as np\n",
    "import matplotlib.pylab as plt\n",
    "import scipy.stats as sta\n",
    "\n",
    "schoko_df = pd.read_csv('Daten/anova_bsp_schoko_2.csv')\n",
    "schoko_df"
   ]
  },
  {
   "cell_type": "markdown",
   "id": "7592f1f1-ac2c-44ee-807c-e10e16b4715e",
   "metadata": {},
   "source": [
    "### Modellformulierung und erste Berechnungen\n",
    "\n",
    "Die *zweifaktorielle* Varianzanalyse bildet das Modell \n",
    "\n",
    "$y_{ghi}=\\mu+\\alpha_{g}+\\beta_{h}+(\\alpha\\beta)_{gh}+\\epsilon_{ghi}$ \n",
    "\n",
    "mit <br>\n",
    "$y_{ghi}$ Beobachtungswert $i=1,...,5$ für Faktorstufen $g=1,2,3$ und $h=1, 2$<br>\n",
    "$\\mu$ Gesamtmittelwert in der Grundgesamtheit<br>\n",
    "$\\alpha_{g}$ wahrer Effekt von Platzierung $g$ <br>\n",
    "$\\beta_{h}$ wahrer Effekt von Verpackung $h$ <br>\n",
    "$(\\alpha\\beta)_{gh}$ wahrer Interaktionseffekt der Faktoren $g$ und $h$<br>\n",
    "$\\epsilon_{ghi}$ Störgröße<br>\n",
    "\n",
    "Wir berechnen zunächst die Haupteffekte in Form der Mittelwerte und ihrer Randmittelwerte:"
   ]
  },
  {
   "cell_type": "code",
   "execution_count": 2,
   "id": "6a6d6144-5751-4926-a776-e7b9f4929e58",
   "metadata": {},
   "outputs": [
    {
     "data": {
      "text/html": [
       "<div>\n",
       "<style scoped>\n",
       "    .dataframe tbody tr th:only-of-type {\n",
       "        vertical-align: middle;\n",
       "    }\n",
       "\n",
       "    .dataframe tbody tr th {\n",
       "        vertical-align: top;\n",
       "    }\n",
       "\n",
       "    .dataframe thead th {\n",
       "        text-align: right;\n",
       "    }\n",
       "</style>\n",
       "<table border=\"1\" class=\"dataframe\">\n",
       "  <thead>\n",
       "    <tr style=\"text-align: right;\">\n",
       "      <th></th>\n",
       "      <th>Box</th>\n",
       "      <th>Papier</th>\n",
       "      <th>Randmittel</th>\n",
       "      <th>Wahrer Effekt</th>\n",
       "    </tr>\n",
       "  </thead>\n",
       "  <tbody>\n",
       "    <tr>\n",
       "      <th>Süßwarenabteilung</th>\n",
       "      <td>43.4</td>\n",
       "      <td>37.4</td>\n",
       "      <td>40.4</td>\n",
       "      <td>-10.1</td>\n",
       "    </tr>\n",
       "    <tr>\n",
       "      <th>Sonderplatzierung</th>\n",
       "      <td>64.4</td>\n",
       "      <td>55.8</td>\n",
       "      <td>60.1</td>\n",
       "      <td>9.6</td>\n",
       "    </tr>\n",
       "    <tr>\n",
       "      <th>Kassenplatzierung</th>\n",
       "      <td>52.2</td>\n",
       "      <td>49.8</td>\n",
       "      <td>51.0</td>\n",
       "      <td>0.5</td>\n",
       "    </tr>\n",
       "    <tr>\n",
       "      <th>Randmittel</th>\n",
       "      <td>53.333333</td>\n",
       "      <td>47.666667</td>\n",
       "      <td>50.5</td>\n",
       "      <td>0.0</td>\n",
       "    </tr>\n",
       "    <tr>\n",
       "      <th>Wahrer Effekt</th>\n",
       "      <td>2.833333</td>\n",
       "      <td>-2.833333</td>\n",
       "      <td>NaN</td>\n",
       "      <td>NaN</td>\n",
       "    </tr>\n",
       "  </tbody>\n",
       "</table>\n",
       "</div>"
      ],
      "text/plain": [
       "                         Box     Papier Randmittel Wahrer Effekt\n",
       "Süßwarenabteilung       43.4       37.4       40.4         -10.1\n",
       "Sonderplatzierung       64.4       55.8       60.1           9.6\n",
       "Kassenplatzierung       52.2       49.8       51.0           0.5\n",
       "Randmittel         53.333333  47.666667       50.5           0.0\n",
       "Wahrer Effekt       2.833333  -2.833333        NaN           NaN"
      ]
     },
     "execution_count": 2,
     "metadata": {},
     "output_type": "execute_result"
    }
   ],
   "source": [
    "schoko_df.index=schoko_df.Platzierung\n",
    "\n",
    "mittelwerte_df = pd.DataFrame(columns=['Box','Papier','Randmittel', 'Wahrer Effekt'], \n",
    "                              index=['Süßwarenabteilung','Sonderplatzierung','Kassenplatzierung','Randmittel','Wahrer Effekt'])\n",
    "#for p in set(schoko_df.index):\n",
    "#        mittelwerte_df['Box'][p] = schoko_df['Box'][p].mean()\n",
    "#        mittelwerte_df['Papier'][p] = schoko_df['Papier'][p].mean()\n",
    "#        mittelwerte_df['Randmittel'][p] = (mittelwerte_df['Box'][p]+mittelwerte_df['Papier'][p])/2\n",
    "\n",
    "for p in set(schoko_df.index):\n",
    "        mittelwerte_df.loc[p, 'Box'] = schoko_df['Box'][p].mean()\n",
    "        mittelwerte_df.loc[p, 'Papier'] = schoko_df['Papier'][p].mean()\n",
    "        mittelwerte_df.loc[p, 'Randmittel'] = (mittelwerte_df['Box'][p]+mittelwerte_df['Papier'][p])/2\n",
    "\n",
    "\n",
    "#mittelwerte_df['Box']['Randmittel'] = mittelwerte_df['Box'].mean()\n",
    "#mittelwerte_df['Papier']['Randmittel'] = mittelwerte_df['Papier'].mean()\n",
    "#mittelwerte_df['Randmittel']['Randmittel'] = (mittelwerte_df['Box']['Randmittel']\n",
    "                                      #                    +mittelwerte_df['Papier']['Randmittel'])/2\n",
    "\n",
    "mittelwerte_df.loc['Randmittel', 'Box'] = mittelwerte_df['Box'].mean()\n",
    "mittelwerte_df.loc['Randmittel', 'Papier'] = mittelwerte_df['Papier'].mean()\n",
    "mittelwerte_df.loc['Randmittel', 'Randmittel'] = (mittelwerte_df['Box']['Randmittel']\n",
    "                                                          +mittelwerte_df['Papier']['Randmittel'])/2\n",
    "\n",
    "\n",
    "mittelwerte_df['Wahrer Effekt'] = mittelwerte_df['Randmittel']-mittelwerte_df['Randmittel']['Randmittel']\n",
    "mittelwerte_df.loc['Wahrer Effekt', 'Box'] = mittelwerte_df['Box']['Randmittel']-mittelwerte_df['Randmittel']['Randmittel']\n",
    "mittelwerte_df.loc['Wahrer Effekt', 'Papier'] = mittelwerte_df['Papier']['Randmittel']-mittelwerte_df['Randmittel']['Randmittel']\n",
    "\n",
    "#mittelwerte_df['Wahrer Effekt'] = mittelwerte_df['Randmittel']-mittelwerte_df['Randmittel']['Randmittel']\n",
    "#mittelwerte_df['Box']['Wahrer Effekt'] = mittelwerte_df['Box']['Randmittel']-mittelwerte_df['Randmittel']['Randmittel']\n",
    "#mittelwerte_df['Papier']['Wahrer Effekt'] = mittelwerte_df['Papier']['Randmittel']-mittelwerte_df['Randmittel']['Randmittel']\n",
    "\n",
    "\n",
    "mittelwerte_df"
   ]
  },
  {
   "cell_type": "markdown",
   "id": "425892ba-4b85-4a2b-9cbd-8ffa588935fc",
   "metadata": {},
   "source": [
    "Zusätzlich können wir die Interaktionseffekte betrachten, bei denen die Stufen eines Faktors die Absatzmengen auf den Stufen eines anderen Faktors beeinflussen. Im Beispiel der Unterschied der durchschnittlichen Absatzmenge bei Sonderplatzierung und Kassenplatzierung in Box oder Papier:"
   ]
  },
  {
   "cell_type": "code",
   "execution_count": 3,
   "id": "9dfe732b-f660-4bb8-a0f9-20d6b46ce51b",
   "metadata": {},
   "outputs": [
    {
     "name": "stdout",
     "output_type": "stream",
     "text": [
      "8.600000000000009\n",
      "2.4000000000000057\n"
     ]
    }
   ],
   "source": [
    "print(mittelwerte_df.Box.Sonderplatzierung-mittelwerte_df.Papier.Sonderplatzierung)\n",
    "print(mittelwerte_df.Box.Kassenplatzierung-mittelwerte_df.Papier.Kassenplatzierung)"
   ]
  },
  {
   "cell_type": "markdown",
   "id": "3e95af86-4b2a-458d-9df2-d51ef5abea1b",
   "metadata": {},
   "source": [
    "Aus diesem Unterschied folgt, dass die Art der Platzierung die Absätze der Verpackungstypen beeinflusst. Ansonsten wären die Unterschiede gleich groß.\n",
    "\n",
    "Die Interaktionseffekte schätzen wir als\n",
    "\n",
    "$(ab)_{gh} = \\overline{y}_{gh} - \\hat{y}_{gh}$\n",
    "\n",
    "mit\n",
    "\n",
    "$\\overline{y}_{gh}$ der beobachtete interagierende Mittelwert der Faktorstufen $g$ und $h$<br>\n",
    "$\\hat{y}_{gh} = \\overline{y}_{g.} + \\overline{y}_{.h} - \\overline{y}$ der Schätzwert für den Mittelwert der Faktorstufen $g$ und $h$ ohne Interaktion, berechnet aus den Gruppenmitteln und dem Gesamtmittelwert. Für $g=3$ und $h=2$ ist das z. B. "
   ]
  },
  {
   "cell_type": "code",
   "execution_count": 4,
   "id": "cb589a6b-771c-4e3b-88f8-46dfb7f34311",
   "metadata": {},
   "outputs": [
    {
     "data": {
      "text/plain": [
       "48.16666666666666"
      ]
     },
     "execution_count": 4,
     "metadata": {},
     "output_type": "execute_result"
    }
   ],
   "source": [
    "gesamtmittel = mittelwerte_df.Randmittel.Randmittel\n",
    "y_schaetz_ohne_interakt = mittelwerte_df.Randmittel.Kassenplatzierung + mittelwerte_df.Papier.Randmittel - gesamtmittel\n",
    "y_schaetz_ohne_interakt"
   ]
  },
  {
   "cell_type": "markdown",
   "id": "16fb1a60-0b50-4a15-9848-403f72bfb880",
   "metadata": {},
   "source": [
    "Das führt hier zu einem Interaktionseffekt $(ab)_{32}$ zwischen *Kassenplatzierung* und *Papierverpackung* von "
   ]
  },
  {
   "cell_type": "code",
   "execution_count": 5,
   "id": "bfbf749e-81c6-412f-ac16-85a75e59d279",
   "metadata": {},
   "outputs": [
    {
     "data": {
      "text/plain": [
       "1.63333333333334"
      ]
     },
     "execution_count": 5,
     "metadata": {},
     "output_type": "execute_result"
    }
   ],
   "source": [
    "mittelwerte_df.Papier.Kassenplatzierung - y_schaetz_ohne_interakt"
   ]
  },
  {
   "cell_type": "markdown",
   "id": "697ea0b5-9a79-4c86-8dcc-6b51dc7b6ef7",
   "metadata": {},
   "source": [
    "Durch die Interaktion ergibt sich hier ein höherer Absatz für die Schokolade in Papier, wenn sie an der Kasse angeboten wird.\n",
    "\n",
    "Einen Eindruck über die Effekte der Interaktionen insgesamt bekommen wir aus der grafischen Darstellung der Faktorstufenmittelwerte in Abhängigkeit zu den Stufen eines anderen Faktors. Interaktionswirkung zeigt sich hier, wenn die Verbindungslinien zwischen den Mittelwerten *nicht parallel* verlaufen."
   ]
  },
  {
   "cell_type": "code",
   "execution_count": 6,
   "id": "45302d45-692e-402e-bc54-c348565a50a6",
   "metadata": {},
   "outputs": [
    {
     "data": {
      "image/png": "[encoded data removed]",
      "text/plain": [
       "<Figure size 640x480 with 1 Axes>"
      ]
     },
     "metadata": {},
     "output_type": "display_data"
    }
   ],
   "source": [
    "plt.xticks(ticks=[0,1,2], labels=['Süßwarenabteilung','Sonderplatzierung','Kassenplatzierung'])\n",
    "plt.plot([mittelwerte_df.Box.Süßwarenabteilung, \n",
    "          mittelwerte_df.Box.Sonderplatzierung, mittelwerte_df.Box.Kassenplatzierung], label='Box')\n",
    "plt.plot([mittelwerte_df.Papier.Süßwarenabteilung, mittelwerte_df.Papier.Sonderplatzierung, \n",
    "          mittelwerte_df.Papier.Kassenplatzierung], label='Papier')\n",
    "plt.legend()\n",
    "plt.show()"
   ]
  },
  {
   "cell_type": "markdown",
   "id": "f039a65b-dac6-4bbe-b7a1-9d8585901e91",
   "metadata": {},
   "source": [
    "### Zerlegung der Streuung und Modellgüte\n",
    "\n",
    "Die Gesamtstreuung teilt sich auch bei der zweifaktoriellen Varianzanalyse auf in die erklärte Streuung zwischen den Gruppen und die nicht erklärte Streuung innerhalb der Gruppen:\n",
    "\n",
    "$SS_t = SS_b + SS_w$\n",
    "\n",
    "Die erklärte Streuung setzt sich hier zusammen aus den einzelnen Faktorstreuungen und der Streuung durch Wechselwirkungen:\n",
    "\n",
    "$SS_b = SS_A + SS_B + SS_{AxB}$\n",
    "\n",
    "mit\n",
    "\n",
    "$SS_A = H \\cdot N \\cdot \\sum\\limits_{g=1}^{G}{(\\overline{y}_{g} - \\overline{y})^2}$<br>\n",
    "$SS_B = G \\cdot N \\cdot \\sum\\limits_{h=1}^{H}{(\\overline{y}_{h} - \\overline{y})^2}$<br>\n",
    "$SS_{AxB} = N \\cdot \\sum\\limits_{g=1}^{G}{\\sum\\limits_{h=1}^{H}{(\\overline{y}_{gh} - \\hat{y}_{gh})^2}}$\n",
    "\n",
    "Die nicht erklärte Streuung kann weder auf die beiden Faktoren, noch auf deren Interaktionseffekte zurück geführt werden. Sie ist analog zur einfaktoriellen Variante definiert:\n",
    "\n",
    "$SS_w = \\sum\\limits_{g=1}^{G}{\\sum\\limits_{h=1}^{H}{\\sum\\limits_{i=1}^{N}{(y_{ghi} - \\overline{y}_{gh})^2}}}$\n",
    "\n",
    "Die konkreten Werte ermitteln wir für die vorliegenden Daten:"
   ]
  },
  {
   "cell_type": "code",
   "execution_count": 7,
   "id": "712986e5-454d-4f31-8161-f8063c201c04",
   "metadata": {},
   "outputs": [
    {
     "name": "stderr",
     "output_type": "stream",
     "text": [
      "C:\\Users\\hartm\\AppData\\Local\\Temp\\ipykernel_23564\\1507587500.py:14: FutureWarning: Series.__getitem__ treating keys as positions is deprecated. In a future version, integer keys will always be treated as labels (consistent with DataFrame behavior). To access a value by position, use `ser.iloc[pos]`\n",
      "  SSw = np.sum([np.sum([np.sum([(schoko_df[h][g][i]-mittelwerte_df[h][g])**2 for i in range(0,N)]) for h in faktor_B]) for g in faktor_A])\n"
     ]
    }
   ],
   "source": [
    "G = 3 # Anzahl Platzierungen (Faktorstufen Faktor A)\n",
    "H = 2 # Anzahl Verpackungen (Faktorstufen Faktor B)\n",
    "N = 5 # Anzahl Elemente in Zelle (g, h)\n",
    "\n",
    "faktor_A = ['Süßwarenabteilung','Sonderplatzierung','Kassenplatzierung']\n",
    "faktor_B = ['Box', 'Papier']\n",
    "\n",
    "SSA = H * N * np.sum([(mittelwerte_df.Randmittel[g]-gesamtmittel)**2 for g in faktor_A])\n",
    "SSB = G * N * np.sum([(mittelwerte_df[h].Randmittel-gesamtmittel)**2 for h in faktor_B])\n",
    "SSAxB = N * np.sum([np.sum([(mittelwerte_df[h][g]\n",
    "                             -(mittelwerte_df[h].Randmittel+mittelwerte_df.Randmittel[g]-gesamtmittel))**2 \n",
    "                            for h in faktor_B]) \n",
    "                    for g in faktor_A])\n",
    "SSw = np.sum([np.sum([np.sum([(schoko_df[h][g][i]-mittelwerte_df[h][g])**2 for i in range(0,N)]) for h in faktor_B]) for g in faktor_A])\n",
    "SSb = SSA + SSB + SSAxB\n",
    "SSt = SSb + SSw"
   ]
  },
  {
   "cell_type": "markdown",
   "id": "7b89e95a-9cf4-4a5e-abf4-34c1d5678dee",
   "metadata": {},
   "source": [
    "Die einzelnen Effekte stellen wir in einer Übersicht dar. Dazu berechnen wir das gesamte Eta-Quadrat und auch die *partiellen* Eta-Quadrate $EtaQuadrat_{faktor} = \\frac{SS_{faktor}}{SS_{faktor}+SS_w}$ für eine erste Beurteilung der Modellgüte:"
   ]
  },
  {
   "cell_type": "code",
   "execution_count": 8,
   "id": "48ea4eed-ab66-4065-a3d4-d6d32a8dccbb",
   "metadata": {},
   "outputs": [
    {
     "name": "stdout",
     "output_type": "stream",
     "text": [
      "Eta-Quadrat = 0.9037%, 0.0963% bleiben unerklärt.\n"
     ]
    },
    {
     "data": {
      "text/html": [
       "<div>\n",
       "<style scoped>\n",
       "    .dataframe tbody tr th:only-of-type {\n",
       "        vertical-align: middle;\n",
       "    }\n",
       "\n",
       "    .dataframe tbody tr th {\n",
       "        vertical-align: top;\n",
       "    }\n",
       "\n",
       "    .dataframe thead th {\n",
       "        text-align: right;\n",
       "    }\n",
       "</style>\n",
       "<table border=\"1\" class=\"dataframe\">\n",
       "  <thead>\n",
       "    <tr style=\"text-align: right;\">\n",
       "      <th></th>\n",
       "      <th>Quelle</th>\n",
       "      <th>Quadrate (erklärt)</th>\n",
       "      <th>Fehler (unerklärt)</th>\n",
       "      <th>Gesamtabweichung</th>\n",
       "      <th>Partielles Eta-Quadrat</th>\n",
       "    </tr>\n",
       "  </thead>\n",
       "  <tbody>\n",
       "    <tr>\n",
       "      <th>0</th>\n",
       "      <td>Platzierung</td>\n",
       "      <td>1944.200000</td>\n",
       "      <td>238.0</td>\n",
       "      <td>2182.200000</td>\n",
       "      <td>0.890936</td>\n",
       "    </tr>\n",
       "    <tr>\n",
       "      <th>1</th>\n",
       "      <td>Verpackung</td>\n",
       "      <td>240.833333</td>\n",
       "      <td>238.0</td>\n",
       "      <td>478.833333</td>\n",
       "      <td>0.502959</td>\n",
       "    </tr>\n",
       "    <tr>\n",
       "      <th>2</th>\n",
       "      <td>Interaktion</td>\n",
       "      <td>48.466667</td>\n",
       "      <td>238.0</td>\n",
       "      <td>286.466667</td>\n",
       "      <td>0.169188</td>\n",
       "    </tr>\n",
       "  </tbody>\n",
       "</table>\n",
       "</div>"
      ],
      "text/plain": [
       "        Quelle  Quadrate (erklärt)  Fehler (unerklärt)  Gesamtabweichung  \\\n",
       "0  Platzierung         1944.200000               238.0       2182.200000   \n",
       "1   Verpackung          240.833333               238.0        478.833333   \n",
       "2  Interaktion           48.466667               238.0        286.466667   \n",
       "\n",
       "   Partielles Eta-Quadrat  \n",
       "0                0.890936  \n",
       "1                0.502959  \n",
       "2                0.169188  "
      ]
     },
     "execution_count": 8,
     "metadata": {},
     "output_type": "execute_result"
    }
   ],
   "source": [
    "eta_quadrat = SSb/SSt\n",
    "print(\"Eta-Quadrat = {:.4f}%, {:.4f}% bleiben unerklärt.\".format(eta_quadrat,1-eta_quadrat))\n",
    "partielle_eta_Q_df = pd.DataFrame({'Quelle': ['Platzierung', 'Verpackung', 'Interaktion'],\n",
    "                                   'Quadrate (erklärt)': [SSA, SSB, SSAxB],\n",
    "                                   'Fehler (unerklärt)': [SSw, SSw, SSw],\n",
    "                                   'Gesamtabweichung': [SSA+SSw, SSB+SSw, SSAxB+SSw],\n",
    "                                   'Partielles Eta-Quadrat': [SSA/(SSA+SSw),SSB/(SSB+SSw),SSAxB/(SSAxB+SSw)]})\n",
    "partielle_eta_Q_df"
   ]
  },
  {
   "cell_type": "markdown",
   "id": "f15f841d-e22e-4f6a-9d0e-7ebef9ec2d0a",
   "metadata": {},
   "source": [
    "### Prüfung der statistischen Signifikanzen\n",
    "\n",
    "Der Signifikanztest für das zweifaktorielle Modell entspricht als Quotient aus erklärter und nicht erklärter Varianz dem einfachen Modell, berücksichtigt aber unterschiedliche Freiheitsgrade:\n",
    "\n",
    "$F_{emp} = \\frac{SS_b/(G \\cdot H-1)}{SS_w/(G \\cdot H \\cdot (N - 1))}=\\frac{MS_b}{MS_w}$\n",
    "\n",
    "Dazu setzen wir wieder die *ANOVA-Tabelle* zusammen."
   ]
  },
  {
   "cell_type": "code",
   "execution_count": 9,
   "id": "62fcf658-14e2-497c-acbd-2a9d2e6ab241",
   "metadata": {},
   "outputs": [
    {
     "data": {
      "text/html": [
       "<div>\n",
       "<style scoped>\n",
       "    .dataframe tbody tr th:only-of-type {\n",
       "        vertical-align: middle;\n",
       "    }\n",
       "\n",
       "    .dataframe tbody tr th {\n",
       "        vertical-align: top;\n",
       "    }\n",
       "\n",
       "    .dataframe thead th {\n",
       "        text-align: right;\n",
       "    }\n",
       "</style>\n",
       "<table border=\"1\" class=\"dataframe\">\n",
       "  <thead>\n",
       "    <tr style=\"text-align: right;\">\n",
       "      <th></th>\n",
       "      <th>Varianzquelle</th>\n",
       "      <th>SS</th>\n",
       "      <th>df</th>\n",
       "      <th>MS</th>\n",
       "    </tr>\n",
       "  </thead>\n",
       "  <tbody>\n",
       "    <tr>\n",
       "      <th>0</th>\n",
       "      <td>Haupteffekte</td>\n",
       "      <td>-</td>\n",
       "      <td>-</td>\n",
       "      <td>-</td>\n",
       "    </tr>\n",
       "    <tr>\n",
       "      <th>1</th>\n",
       "      <td>Platzierung</td>\n",
       "      <td>1944.2</td>\n",
       "      <td>2</td>\n",
       "      <td>972.1</td>\n",
       "    </tr>\n",
       "    <tr>\n",
       "      <th>2</th>\n",
       "      <td>Verpackung</td>\n",
       "      <td>240.833333</td>\n",
       "      <td>1</td>\n",
       "      <td>240.833333</td>\n",
       "    </tr>\n",
       "    <tr>\n",
       "      <th>3</th>\n",
       "      <td>Interaktion</td>\n",
       "      <td>-</td>\n",
       "      <td>-</td>\n",
       "      <td>-</td>\n",
       "    </tr>\n",
       "    <tr>\n",
       "      <th>4</th>\n",
       "      <td>Platzierung*Verpackung</td>\n",
       "      <td>48.466667</td>\n",
       "      <td>2</td>\n",
       "      <td>24.233333</td>\n",
       "    </tr>\n",
       "    <tr>\n",
       "      <th>5</th>\n",
       "      <td>Reststreuung</td>\n",
       "      <td>238.0</td>\n",
       "      <td>24</td>\n",
       "      <td>9.916667</td>\n",
       "    </tr>\n",
       "    <tr>\n",
       "      <th>6</th>\n",
       "      <td>Total</td>\n",
       "      <td>2471.5</td>\n",
       "      <td>29</td>\n",
       "      <td>85.224138</td>\n",
       "    </tr>\n",
       "  </tbody>\n",
       "</table>\n",
       "</div>"
      ],
      "text/plain": [
       "            Varianzquelle          SS  df          MS\n",
       "0            Haupteffekte           -   -           -\n",
       "1             Platzierung      1944.2   2       972.1\n",
       "2              Verpackung  240.833333   1  240.833333\n",
       "3             Interaktion           -   -           -\n",
       "4  Platzierung*Verpackung   48.466667   2   24.233333\n",
       "5            Reststreuung       238.0  24    9.916667\n",
       "6                   Total      2471.5  29   85.224138"
      ]
     },
     "execution_count": 9,
     "metadata": {},
     "output_type": "execute_result"
    }
   ],
   "source": [
    "df_A = G-1\n",
    "df_B = H-1\n",
    "df_AxB = (G-1)*(H-1)\n",
    "df_w = G*H*(N-1)\n",
    "df_t = G*H*N-1\n",
    "df_b = G*H-1\n",
    "\n",
    "MSb = SSb/df_b\n",
    "MSw = SSw/df_w\n",
    "F_emp = MSb/MSw\n",
    "\n",
    "anova_df = pd.DataFrame({'Varianzquelle': ['Haupteffekte', 'Platzierung', 'Verpackung', 'Interaktion', 'Platzierung*Verpackung', 'Reststreuung', 'Total'],\n",
    "                         'SS': ['-', SSA, SSB, '-', SSAxB, SSw, SSt],\n",
    "                         'df': ['-', df_A, df_B, '-', df_AxB, df_w, df_t],\n",
    "                         'MS': ['-', SSA/df_A, SSB/df_B, '-', SSAxB/df_AxB, SSw/df_w, SSt/df_t]})\n",
    "anova_df"
   ]
  },
  {
   "cell_type": "markdown",
   "id": "a99ea38b-f9da-476f-841e-52aed2ac5c9c",
   "metadata": {},
   "source": [
    "Führen wir zunächst den zusammengefassten bzw. globalen Test durch.\n",
    "\n",
    "Für $\\alpha=0.05$ ermitteln wir den passenden Wert der F-Verteilung $F_\\alpha$, den wir mit dem $F_{emp}$ von oben vergleichen:"
   ]
  },
  {
   "cell_type": "code",
   "execution_count": 10,
   "id": "7c77cd14-3578-4989-93a4-31f407dcc81d",
   "metadata": {},
   "outputs": [
    {
     "name": "stdout",
     "output_type": "stream",
     "text": [
      "F_emp = 45.05\n",
      "F_alpha = 2.62\n",
      "p = 2.005651200676084e-11\n"
     ]
    }
   ],
   "source": [
    "F_alpha = sta.f.ppf(0.95, dfn=df_b, dfd=df_w)\n",
    "p_value = (1 - sta.f.cdf(F_emp, dfn=df_b, dfd=df_w))\n",
    "print('F_emp = {:.2f}\\nF_alpha = {:.2f}\\np = {}'.format(F_emp, F_alpha, p_value))"
   ]
  },
  {
   "cell_type": "markdown",
   "id": "79116354-2b92-4751-b395-da48b19d699e",
   "metadata": {},
   "source": [
    "Damit gilt wieder $F_{emp} > F_\\alpha$ und wir verwerfen hier die Nullhypothese: Wir können also davon ausgehen, dass mindestens eine der Faktorstufen Einfluss auf den Absatz hat. Der dazugehörige $p$-Wert ist praktisch null.\n",
    "\n",
    "Für das Konfidenzniveau von 95% betrachten wir nun auch noch die spezifischen F-Tests:"
   ]
  },
  {
   "cell_type": "code",
   "execution_count": 11,
   "id": "f5dcc3c8-4513-43e5-8ed5-e7d7966410fc",
   "metadata": {},
   "outputs": [
    {
     "data": {
      "text/html": [
       "<div>\n",
       "<style scoped>\n",
       "    .dataframe tbody tr th:only-of-type {\n",
       "        vertical-align: middle;\n",
       "    }\n",
       "\n",
       "    .dataframe tbody tr th {\n",
       "        vertical-align: top;\n",
       "    }\n",
       "\n",
       "    .dataframe thead th {\n",
       "        text-align: right;\n",
       "    }\n",
       "</style>\n",
       "<table border=\"1\" class=\"dataframe\">\n",
       "  <thead>\n",
       "    <tr style=\"text-align: right;\">\n",
       "      <th></th>\n",
       "      <th>Varianzquelle</th>\n",
       "      <th>df (Zähler)</th>\n",
       "      <th>df (Nenner)</th>\n",
       "      <th>F_alpha</th>\n",
       "      <th>F_emp</th>\n",
       "    </tr>\n",
       "  </thead>\n",
       "  <tbody>\n",
       "    <tr>\n",
       "      <th>0</th>\n",
       "      <td>Platzierung</td>\n",
       "      <td>2</td>\n",
       "      <td>24</td>\n",
       "      <td>3.402826</td>\n",
       "      <td>98.026891</td>\n",
       "    </tr>\n",
       "    <tr>\n",
       "      <th>1</th>\n",
       "      <td>Verpackung</td>\n",
       "      <td>1</td>\n",
       "      <td>24</td>\n",
       "      <td>4.259677</td>\n",
       "      <td>24.285714</td>\n",
       "    </tr>\n",
       "    <tr>\n",
       "      <th>2</th>\n",
       "      <td>Interaktion</td>\n",
       "      <td>2</td>\n",
       "      <td>24</td>\n",
       "      <td>3.402826</td>\n",
       "      <td>2.443697</td>\n",
       "    </tr>\n",
       "  </tbody>\n",
       "</table>\n",
       "</div>"
      ],
      "text/plain": [
       "  Varianzquelle  df (Zähler)  df (Nenner)   F_alpha      F_emp\n",
       "0   Platzierung            2           24  3.402826  98.026891\n",
       "1    Verpackung            1           24  4.259677  24.285714\n",
       "2   Interaktion            2           24  3.402826   2.443697"
      ]
     },
     "execution_count": 11,
     "metadata": {},
     "output_type": "execute_result"
    }
   ],
   "source": [
    "spez_F_tests = pd.DataFrame({'Varianzquelle': ['Platzierung', 'Verpackung', 'Interaktion'],\n",
    "                             'df (Zähler)': [df_A, df_B, df_AxB],\n",
    "                             'df (Nenner)': [df_w, df_w, df_w],\n",
    "                             'F_alpha': [sta.f.ppf(0.95, dfn=df_A, dfd=df_w), \n",
    "                                         sta.f.ppf(0.95, dfn=df_B, dfd=df_w), \n",
    "                                         sta.f.ppf(0.95, dfn=df_AxB, dfd=df_w)],\n",
    "                             'F_emp': [(SSA/df_A)/MSw, (SSB/df_B)/MSw, (SSAxB/df_AxB)/MSw]})\n",
    "spez_F_tests"
   ]
  },
  {
   "cell_type": "markdown",
   "id": "8467f784-400c-4308-9750-1bffab19afe3",
   "metadata": {},
   "source": [
    "Hier sehen wir, dass für die beiden Faktoren die Nullhypothese verworfen werden kann, für die Interaktion aber nicht. Verpackung und Platzierung haben isoliert betrachtet jeweils eine Wirkung auf den Absatz, die *gemeinsame Wirkung* von Verpackung und Platzierung ist aber nicht signifikant."
   ]
  },
  {
   "cell_type": "markdown",
   "id": "7a89f744-9155-44d6-9450-527363bbba05",
   "metadata": {},
   "source": [
    "## Aufgabe\n",
    "\n",
    "Mit dem Datensatz *groessen_2.csv* beziehen wir nun auch das Geschlecht der Sportler/-innen mit ein. Führen Sie eine zweifaktorielle Varianzanalyse durch. Formen Sie den DataFrame dazu ggf. passend um."
   ]
  }
 ],
 "metadata": {
  "kernelspec": {
   "display_name": "base",
   "language": "python",
   "name": "python3"
  },
  "language_info": {
   "codemirror_mode": {
    "name": "ipython",
    "version": 3
   },
   "file_extension": ".py",
   "mimetype": "text/x-python",
   "name": "python",
   "nbconvert_exporter": "python",
   "pygments_lexer": "ipython3",
   "version": "3.12.7"
  }
 },
 "nbformat": 4,
 "nbformat_minor": 5
}
