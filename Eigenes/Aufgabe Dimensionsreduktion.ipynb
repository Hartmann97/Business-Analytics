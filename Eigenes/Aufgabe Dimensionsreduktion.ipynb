{
 "cells": [
  {
   "cell_type": "markdown",
   "id": "e5594ecb",
   "metadata": {},
   "source": [
    "## Aufgabe\n",
    "\n",
    "Konstruieren Sie einen Datensatz aus fünf Variablen, von denen zwei nach unserem einfachen Korrelationskriterium redundant sind. *Randbedingungen*: Nutzen Sie Wertebereiche $[0, 10]$, einmal positive, einmal negative Korrelation, fünf Datenpunkte, arbeiten Sie mit Abweichungen. \n",
    "\n",
    "Zeigen Sie das Resultat mit einer Matrix."
   ]
  },
  {
   "cell_type": "markdown",
   "id": "220b4670",
   "metadata": {},
   "source": [
    "# Abhängigkeiten"
   ]
  },
  {
   "cell_type": "code",
   "execution_count": null,
   "id": "c2b71387",
   "metadata": {},
   "outputs": [],
   "source": [
    "import numpy as np\n",
    "import pandas as pd\n",
    "import seaborn as sns\n",
    "import matplotlib.pyplot as plt"
   ]
  },
  {
   "cell_type": "markdown",
   "id": "20e3168b",
   "metadata": {},
   "source": [
    "# Erzeugen eines DF"
   ]
  },
  {
   "cell_type": "code",
   "execution_count": 8,
   "id": "a1a09418",
   "metadata": {},
   "outputs": [
    {
     "data": {
      "text/html": [
       "<div>\n",
       "<style scoped>\n",
       "    .dataframe tbody tr th:only-of-type {\n",
       "        vertical-align: middle;\n",
       "    }\n",
       "\n",
       "    .dataframe tbody tr th {\n",
       "        vertical-align: top;\n",
       "    }\n",
       "\n",
       "    .dataframe thead th {\n",
       "        text-align: right;\n",
       "    }\n",
       "</style>\n",
       "<table border=\"1\" class=\"dataframe\">\n",
       "  <thead>\n",
       "    <tr style=\"text-align: right;\">\n",
       "      <th></th>\n",
       "      <th>Variable1</th>\n",
       "      <th>Variable2</th>\n",
       "      <th>Variable3</th>\n",
       "      <th>Variable4_red_pos</th>\n",
       "      <th>Variable5_red_neg</th>\n",
       "    </tr>\n",
       "  </thead>\n",
       "  <tbody>\n",
       "    <tr>\n",
       "      <th>0</th>\n",
       "      <td>3.745401</td>\n",
       "      <td>1.559945</td>\n",
       "      <td>0.205845</td>\n",
       "      <td>3.459711</td>\n",
       "      <td>7.678117</td>\n",
       "    </tr>\n",
       "    <tr>\n",
       "      <th>1</th>\n",
       "      <td>9.507143</td>\n",
       "      <td>0.580836</td>\n",
       "      <td>9.699099</td>\n",
       "      <td>9.045102</td>\n",
       "      <td>9.205141</td>\n",
       "    </tr>\n",
       "    <tr>\n",
       "      <th>2</th>\n",
       "      <td>7.319939</td>\n",
       "      <td>8.661761</td>\n",
       "      <td>8.324426</td>\n",
       "      <td>6.013665</td>\n",
       "      <td>0.967035</td>\n",
       "    </tr>\n",
       "    <tr>\n",
       "      <th>3</th>\n",
       "      <td>5.986585</td>\n",
       "      <td>6.011150</td>\n",
       "      <td>2.123391</td>\n",
       "      <td>6.461770</td>\n",
       "      <td>3.637178</td>\n",
       "    </tr>\n",
       "    <tr>\n",
       "      <th>4</th>\n",
       "      <td>1.560186</td>\n",
       "      <td>7.080726</td>\n",
       "      <td>1.818250</td>\n",
       "      <td>1.968409</td>\n",
       "      <td>1.849464</td>\n",
       "    </tr>\n",
       "  </tbody>\n",
       "</table>\n",
       "</div>"
      ],
      "text/plain": [
       "   Variable1  Variable2  Variable3  Variable4_red_pos  Variable5_red_neg\n",
       "0   3.745401   1.559945   0.205845           3.459711           7.678117\n",
       "1   9.507143   0.580836   9.699099           9.045102           9.205141\n",
       "2   7.319939   8.661761   8.324426           6.013665           0.967035\n",
       "3   5.986585   6.011150   2.123391           6.461770           3.637178\n",
       "4   1.560186   7.080726   1.818250           1.968409           1.849464"
      ]
     },
     "execution_count": 8,
     "metadata": {},
     "output_type": "execute_result"
    }
   ],
   "source": [
    "# Setzen des Zufallsseeds für Reproduzierbarkeit\n",
    "np.random.seed(42)\n",
    "\n",
    "# Erzeugen von drei unabhängigen Basisvariablen mit Werten im Bereich [0, 10]\n",
    "n = 5  # Anzahl der Datenpunkte\n",
    "var1 = np.random.uniform(0, 10, n)\n",
    "var2 = np.random.uniform(0, 10, n)\n",
    "var3 = np.random.uniform(0, 10, n)\n",
    "\n",
    "# Erzeugen einer positiv korrelierten redundanten Variable (zu var1)\n",
    "# Wir addieren eine kleine Abweichung zu var1\n",
    "abweichung_pos = np.random.normal(0, 0.5, n)  # kleine zufällige Abweichung\n",
    "var4 = var1 + abweichung_pos\n",
    "var4 = np.clip(var4, 0, 10)  # sicherstellen, dass Werte im Bereich [0, 10] bleiben\n",
    "\n",
    "# Erzeugen einer negativ korrelierten redundanten Variable (zu var2)\n",
    "# Wir subtrahieren var2 von einem Mittelwert und addieren eine kleine Abweichung\n",
    "mittelwert = 5  # Mittelwert im Bereich [0, 10]\n",
    "abweichung_neg = np.random.normal(0, 0.5, n)\n",
    "var5 = (mittelwert - var2) + mittelwert + abweichung_neg\n",
    "var5 = np.clip(var5, 0, 10)  # Werte im Bereich [0, 10] halten\n",
    "\n",
    "# Erstellen des DataFrames\n",
    "data = pd.DataFrame({\n",
    "    'Variable1': var1,\n",
    "    'Variable2': var2,\n",
    "    'Variable3': var3,\n",
    "    'Variable4_red_pos': var4,  # redundant und positiv korreliert mit Variable1\n",
    "    'Variable5_red_neg': var5   # redundant und negativ korreliert mit Variable2\n",
    "})\n",
    "\n",
    "data"
   ]
  },
  {
   "cell_type": "markdown",
   "id": "ffbe6d2e",
   "metadata": {},
   "source": [
    "# Korrelationen"
   ]
  },
  {
   "cell_type": "code",
   "execution_count": 9,
   "id": "6d3b0db2",
   "metadata": {},
   "outputs": [
    {
     "data": {
      "text/html": [
       "<div>\n",
       "<style scoped>\n",
       "    .dataframe tbody tr th:only-of-type {\n",
       "        vertical-align: middle;\n",
       "    }\n",
       "\n",
       "    .dataframe tbody tr th {\n",
       "        vertical-align: top;\n",
       "    }\n",
       "\n",
       "    .dataframe thead th {\n",
       "        text-align: right;\n",
       "    }\n",
       "</style>\n",
       "<table border=\"1\" class=\"dataframe\">\n",
       "  <thead>\n",
       "    <tr style=\"text-align: right;\">\n",
       "      <th></th>\n",
       "      <th>Variable1</th>\n",
       "      <th>Variable2</th>\n",
       "      <th>Variable3</th>\n",
       "      <th>Variable4_red_pos</th>\n",
       "      <th>Variable5_red_neg</th>\n",
       "    </tr>\n",
       "  </thead>\n",
       "  <tbody>\n",
       "    <tr>\n",
       "      <th>Variable1</th>\n",
       "      <td>1.000000</td>\n",
       "      <td>-0.288389</td>\n",
       "      <td>0.849226</td>\n",
       "      <td>0.975386</td>\n",
       "      <td>0.375289</td>\n",
       "    </tr>\n",
       "    <tr>\n",
       "      <th>Variable2</th>\n",
       "      <td>-0.288389</td>\n",
       "      <td>1.000000</td>\n",
       "      <td>-0.037396</td>\n",
       "      <td>-0.341028</td>\n",
       "      <td>-0.995407</td>\n",
       "    </tr>\n",
       "    <tr>\n",
       "      <th>Variable3</th>\n",
       "      <td>0.849226</td>\n",
       "      <td>-0.037396</td>\n",
       "      <td>1.000000</td>\n",
       "      <td>0.772019</td>\n",
       "      <td>0.105488</td>\n",
       "    </tr>\n",
       "    <tr>\n",
       "      <th>Variable4_red_pos</th>\n",
       "      <td>0.975386</td>\n",
       "      <td>-0.341028</td>\n",
       "      <td>0.772019</td>\n",
       "      <td>1.000000</td>\n",
       "      <td>0.426733</td>\n",
       "    </tr>\n",
       "    <tr>\n",
       "      <th>Variable5_red_neg</th>\n",
       "      <td>0.375289</td>\n",
       "      <td>-0.995407</td>\n",
       "      <td>0.105488</td>\n",
       "      <td>0.426733</td>\n",
       "      <td>1.000000</td>\n",
       "    </tr>\n",
       "  </tbody>\n",
       "</table>\n",
       "</div>"
      ],
      "text/plain": [
       "                   Variable1  Variable2  Variable3  Variable4_red_pos  \\\n",
       "Variable1           1.000000  -0.288389   0.849226           0.975386   \n",
       "Variable2          -0.288389   1.000000  -0.037396          -0.341028   \n",
       "Variable3           0.849226  -0.037396   1.000000           0.772019   \n",
       "Variable4_red_pos   0.975386  -0.341028   0.772019           1.000000   \n",
       "Variable5_red_neg   0.375289  -0.995407   0.105488           0.426733   \n",
       "\n",
       "                   Variable5_red_neg  \n",
       "Variable1                   0.375289  \n",
       "Variable2                  -0.995407  \n",
       "Variable3                   0.105488  \n",
       "Variable4_red_pos           0.426733  \n",
       "Variable5_red_neg           1.000000  "
      ]
     },
     "execution_count": 9,
     "metadata": {},
     "output_type": "execute_result"
    }
   ],
   "source": [
    "corr = data.corr(numeric_only=True)\n",
    "corr"
   ]
  },
  {
   "cell_type": "code",
   "execution_count": 6,
   "id": "1aad8778",
   "metadata": {},
   "outputs": [
    {
     "data": {
      "text/plain": [
       "<Axes: >"
      ]
     },
     "execution_count": 6,
     "metadata": {},
     "output_type": "execute_result"
    },
    {
     "data": {
      "image/png": "[encoded data removed]",
      "text/plain": [
       "<Figure size 900x700 with 2 Axes>"
      ]
     },
     "metadata": {},
     "output_type": "display_data"
    }
   ],
   "source": [
    "fig, ax = plt.subplots()\n",
    "fig.set_size_inches(9, 7)\n",
    "sns.heatmap(corr, annot=True, fmt='.1f', cmap='RdBu', center=0, ax=ax)"
   ]
  }
 ],
 "metadata": {
  "kernelspec": {
   "display_name": ".venv",
   "language": "python",
   "name": "python3"
  },
  "language_info": {
   "codemirror_mode": {
    "name": "ipython",
    "version": 3
   },
   "file_extension": ".py",
   "mimetype": "text/x-python",
   "name": "python",
   "nbconvert_exporter": "python",
   "pygments_lexer": "ipython3",
   "version": "3.13.2"
  }
 },
 "nbformat": 4,
 "nbformat_minor": 5
}
